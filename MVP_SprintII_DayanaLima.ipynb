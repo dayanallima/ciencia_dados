{
  "nbformat": 4,
  "nbformat_minor": 0,
  "metadata": {
    "colab": {
      "provenance": [],
      "toc_visible": true,
      "authorship_tag": "ABX9TyP6tyxNC26Bl5Kyfzz5d4D0",
      "include_colab_link": true
    },
    "kernelspec": {
      "name": "python3",
      "display_name": "Python 3"
    },
    "language_info": {
      "name": "python"
    }
  },
  "cells": [
    {
      "cell_type": "markdown",
      "metadata": {
        "id": "view-in-github",
        "colab_type": "text"
      },
      "source": [
        "<a href=\"https://colab.research.google.com/github/dayanallima/ciencia_dados/blob/main/MVP_SprintII_DayanaLima.ipynb\" target=\"_parent\"><img src=\"https://colab.research.google.com/assets/colab-badge.svg\" alt=\"Open In Colab\"/></a>"
      ]
    },
    {
      "cell_type": "markdown",
      "source": [
        "# **Pontifícia Universidade Católica do Rio de Janeiro – PUC  Rio**\n",
        "\n",
        "# Especialização em Ciência de Dados e Analytics\n",
        "\n",
        "## Sprint II: Machine Learning & Analytics\n",
        "\n",
        "## Parte A - Machine Learning: Modelo utilizando métodos clássicos para um problema de classificação ou ***regressão***\n",
        "\n",
        "## Parte B - Machine Learning: Modelo utilizando Deep Learning para um problema de visão computacional ou ***processamento de linguagem natural***.\n",
        "\n",
        "---\n",
        "\n",
        "---\n",
        "\n",
        "## Dayana de Lima e Silva\n"
      ],
      "metadata": {
        "id": "vwfoLod2_Zvj"
      }
    },
    {
      "cell_type": "markdown",
      "source": [
        "# Minimun Viable Product - MVP"
      ],
      "metadata": {
        "id": "IbL3nWPMfOfb"
      }
    },
    {
      "cell_type": "markdown",
      "source": [
        "#** PARTE A - REGRESSÃO**"
      ],
      "metadata": {
        "id": "xV4m5aFoaJuJ"
      }
    },
    {
      "cell_type": "markdown",
      "source": [
        "# 1.Definição do Problema\n",
        "\n",
        "## Descrição\n",
        "Prever o valor de um imóvel com base em suas características.\n",
        "\n",
        "## Modelo de Aprendizado\n",
        "Esse MVP é um modelo de aprendizado supervisionado, pois é construído a partir dos dados de entrada que serão apresentados para um algoritmo na forma de pares ordenados (entrada – saída desejada). Esses dados são rotulados, pois já é de conhecimento, a saída esperada para cada entrada de dados. Nesse caso, o aprendizado (ou treinamento) consiste em apresentar para o algoritmo um número suficiente de exemplos de entradas e saídas desejadas (já rotuladas previamente). Assim, o objetivo do algoritmo é aprender uma regra geral que mapeie as entradas nas saídas corretamente, o que consiste no modelo final.\n",
        "\n",
        "## Premissas\n",
        "Os dados serão avaliados sem considerar questões particulares da cidade.\n",
        "\n",
        "## Condições e Restrições\n",
        "\n",
        "Disponibilizado no Kaggle, o dataset House Sales in King County, USA apresenta preços de venda de casas entre Maio/2014 e Maio/2015 e para acidade de King Country.\n",
        "\n",
        "## Atributos\n",
        "\n",
        "###-> id\n",
        "Identificador único de cada casa\n",
        "\n",
        "###-> date\n",
        "Data da casa a venda.\n",
        "\n",
        "###-> price\n",
        "Preço da casa.\n",
        "\n",
        "###-> bedrooms\n",
        "Número de quartos.\n",
        "\n",
        "###-> bathrooms\n",
        "Número de banheiros, no qual .5 conta como lavabo.\n",
        "\n",
        "###-> sqft_living\n",
        "Área interna (ft²).\n",
        "\n",
        "###-> sqft_lot\n",
        "Área do terreno (ft²).\n",
        "\n",
        "###-> floors\n",
        "Número de andares.\n",
        "\n",
        "###-> waterfront\n",
        "Tem vista para o mar (1) ou não (0). (categórico)\n",
        "\n",
        "###-> view\n",
        "Valor de 0 a 4 informando se a vista é boa. (categórico)\n",
        "\n",
        "###-> condition\n",
        "Valor de 1 a 5 sobre a condição da casa. (categórico)\n",
        "\n",
        "###-> grade\n",
        "Nota de 1 a 13, no qual 1-3 pequenas construções, 7 construção e desing mediano, e 11-13 para construções de alto nível.\n",
        "\n",
        "###-> sqft_above\n",
        "Área do interior da casa, acima do nível do solo (ft²).\n",
        "\n",
        "###-> sqft_basement\n",
        "Área do interior da casa, abaixo do nível do solo (ft²).\n",
        "\n",
        "###-> yr_built\n",
        "Ano de construção da casa.\n",
        "\n",
        "###-> yrrenovated\n",
        "Último ano de renovação da casa.  \n",
        "\n",
        "###-> zipcode\n",
        "CEP da residência.\n",
        "\n",
        "###-> lat\n",
        "Latitude.\n",
        "\n",
        "###-> long\n",
        "Longitude.\n",
        "\n",
        "###-> sqft_living15\n",
        "Área do espaço interno para os 15 vizinhos mais próximos(ft²).\n",
        "\n",
        "###-> sqft_lot15\n",
        "Área do terreno para os 15 vizinhos mais próximos (ft²)."
      ],
      "metadata": {
        "id": "XG2vSbdOCFQb"
      }
    },
    {
      "cell_type": "markdown",
      "source": [
        "### ▶ Início do Código"
      ],
      "metadata": {
        "id": "IdsedAxNHB7r"
      }
    },
    {
      "cell_type": "markdown",
      "source": [
        "## -> Configurações Iniciais"
      ],
      "metadata": {
        "id": "v4w5QYYli5Sx"
      }
    },
    {
      "cell_type": "code",
      "execution_count": 1,
      "metadata": {
        "id": "X6xlPByloItr"
      },
      "outputs": [],
      "source": [
        "## Configuração para não exibir \"Mensagens de Aviso\" (Warnings)\n",
        "# A determinação de omitir ou não uma mensagem de aviso é controlada\n",
        "# pelo filtro de aviso, que é uma sequência de regras e ações correspondentes.\n",
        "import warnings\n",
        "warnings.filterwarnings(\"ignore\")"
      ]
    },
    {
      "cell_type": "code",
      "source": [
        "## Instalando a biblioteca Sklearn.\n",
        "# Oferece uma ampla gama de algoritmos e ferramentas para tarefas comuns de aprendizado de máquina\n",
        "#como classificação, regressão, agrupamento e pré-processamento de dados.\n",
        "!pip install scikit-learn==0.23.2"
      ],
      "metadata": {
        "colab": {
          "base_uri": "https://localhost:8080/"
        },
        "id": "0KJQNwUM89YA",
        "outputId": "26062aa8-62cf-4a37-b61e-93840c860327"
      },
      "execution_count": 2,
      "outputs": [
        {
          "output_type": "stream",
          "name": "stdout",
          "text": [
            "Collecting scikit-learn==0.23.2\n",
            "  Downloading scikit-learn-0.23.2.tar.gz (7.2 MB)\n",
            "\u001b[2K     \u001b[90m━━━━━━━━━━━━━━━━━━━━━━━━━━━━━━━━━━━━━━━━\u001b[0m \u001b[32m7.2/7.2 MB\u001b[0m \u001b[31m38.7 MB/s\u001b[0m eta \u001b[36m0:00:00\u001b[0m\n",
            "\u001b[?25h  \u001b[1;31merror\u001b[0m: \u001b[1msubprocess-exited-with-error\u001b[0m\n",
            "  \n",
            "  \u001b[31m×\u001b[0m \u001b[32mpip subprocess to install build dependencies\u001b[0m did not run successfully.\n",
            "  \u001b[31m│\u001b[0m exit code: \u001b[1;36m1\u001b[0m\n",
            "  \u001b[31m╰─>\u001b[0m See above for output.\n",
            "  \n",
            "  \u001b[1;35mnote\u001b[0m: This error originates from a subprocess, and is likely not a problem with pip.\n",
            "  Installing build dependencies ... \u001b[?25l\u001b[?25herror\n",
            "\u001b[1;31merror\u001b[0m: \u001b[1msubprocess-exited-with-error\u001b[0m\n",
            "\n",
            "\u001b[31m×\u001b[0m \u001b[32mpip subprocess to install build dependencies\u001b[0m did not run successfully.\n",
            "\u001b[31m│\u001b[0m exit code: \u001b[1;36m1\u001b[0m\n",
            "\u001b[31m╰─>\u001b[0m See above for output.\n",
            "\n",
            "\u001b[1;35mnote\u001b[0m: This error originates from a subprocess, and is likely not a problem with pip.\n"
          ]
        }
      ]
    },
    {
      "cell_type": "code",
      "source": [
        "## Importação de Pacotes\n",
        "\n",
        "# Pandas: Pacote que fornece ferramentas com grande poder para manipulação e análise de dados, de maneira simples e eficiente.\n",
        "# Numpy: Pacote cujo foco são as operações matemáticas.\n",
        "# Matplotlib: Pacote para visualização de dados.\n",
        "# Seaborn: Pacote de ferramentas para plotagem dos mais variados tipos de gráficos.\n",
        "# Missingno: Pacote para tratamento de dados não representativos.\n",
        "# Sklearn: Pacote de ferramentas para tarefas comuns de aprendizado de máquina.\n",
        "# Os: Pacote que permite interação com o sistema operacional em que o programa está sendo executado.\n",
        "# Tensorflow: Pacote para construir e treinar modleos de aprendizado de máquina e redes neurais.\n",
        "\n",
        "import pandas as pd\n",
        "import numpy as np\n",
        "import seaborn as sns\n",
        "import missingno as ms\n",
        "import os\n",
        "import matplotlib.pyplot as plt\n",
        "import matplotlib as mpl\n",
        "\n",
        "from matplotlib import cm\n",
        "\n",
        "from sklearn.preprocessing import MinMaxScaler # normalização\n",
        "from sklearn.preprocessing import StandardScaler # padronização\n",
        "from sklearn.preprocessing import OrdinalEncoder # ordinal encoding\n",
        "from sklearn.preprocessing import OneHotEncoder # one-hot encoding e dummy encoding\n",
        "from sklearn.model_selection import train_test_split # divide um conjunto de dados em treino e teste\n",
        "from sklearn.metrics import mean_squared_error # calcula o erro médio quadrático\n",
        "from sklearn.metrics import mean_absolute_error # calcula o erro absoluto\n",
        "from sklearn.metrics import r2_score # calcula o coeficiente de determinação (R² score)\n",
        "\n",
        "from sklearn.neighbors import KNeighborsRegressor # regressor KNN\n",
        "from sklearn.linear_model import LinearRegression # regressor re Regressão Linear\n",
        "from sklearn.svm import SVR # regressor de SVM\n",
        "from sklearn.tree import DecisionTreeRegressor # regressor de Árvore de Decisão\n",
        "from sklearn.ensemble import RandomForestRegressor # regressor de Random forest\n",
        "from sklearn.ensemble import BaggingRegressor # regressor de Bagging\n",
        "from sklearn.ensemble import VotingRegressor # regressor de Ensemble\n",
        "\n",
        "from sklearn.model_selection import cross_val_score # permite realizar validação cruzada\n",
        "from sklearn.model_selection import KFold # era os índices para a divisão dos dados em\n",
        "# conjuntos de treinamento e teste durante a validação cruzada\n",
        "\n",
        "from sklearn.model_selection import StratifiedKFold # classe de validação cruzada estratificada\n",
        "\n",
        "from sklearn.ensemble import ExtraTreesClassifier # ExtraTrees, para a Importância de Atributos\n",
        "from sklearn.feature_selection import SelectKBest # para a Seleção Univariada\n",
        "from sklearn.feature_selection import f_classif # para o teste ANOVA da Seleção Univariada\n",
        "from sklearn.feature_selection import RFE # para a Eliminação Recursiva de Atributos\n",
        "\n",
        "from sklearn.impute import SimpleImputer # Preenche valores ausentes em conjuntos de dados\n",
        "\n",
        "from tensorflow import keras # interface simples e intuitiva para a construção e treinamento de redes neurais\n",
        "\n",
        "scaler = MinMaxScaler() #escalonamento dos dados"
      ],
      "metadata": {
        "id": "NmPRDf29HnHN"
      },
      "execution_count": 3,
      "outputs": []
    },
    {
      "cell_type": "markdown",
      "source": [
        "# 2.Coleta e Análise de Dados\n"
      ],
      "metadata": {
        "id": "ZtbhY5cLgfyW"
      }
    },
    {
      "cell_type": "markdown",
      "source": [
        "## 2.1. Importação da Base de Dados"
      ],
      "metadata": {
        "id": "FTWIsr2tjKXG"
      }
    },
    {
      "cell_type": "code",
      "source": [
        "## Carga da Base de Dados\n",
        "# O dataset está em domínio público no GitHub, uma plataforma de hospedagem de código-fonte.\n",
        "\n",
        "dataset = pd.read_csv('https://github.com/dayanallima/ciencia_dados/blob/main/Preco_Venda_Casa.csv?raw=true')"
      ],
      "metadata": {
        "id": "e3dw8Z3prlcm"
      },
      "execution_count": 4,
      "outputs": []
    },
    {
      "cell_type": "markdown",
      "source": [
        "##2.2. Explorando a Base de Dados"
      ],
      "metadata": {
        "id": "d_byBCVfPqJT"
      }
    },
    {
      "cell_type": "code",
      "source": [
        "# Dimensões do dataset (linhas, colunas)\n",
        "print('Dimensões do DataSet:')\n",
        "dataset.shape"
      ],
      "metadata": {
        "colab": {
          "base_uri": "https://localhost:8080/"
        },
        "id": "n3p7QNnRP3Io",
        "outputId": "999ad165-608a-40fa-bd5b-966041e4134d"
      },
      "execution_count": 5,
      "outputs": [
        {
          "output_type": "stream",
          "name": "stdout",
          "text": [
            "Dimensões do DataSet:\n"
          ]
        },
        {
          "output_type": "execute_result",
          "data": {
            "text/plain": [
              "(21613, 21)"
            ]
          },
          "metadata": {},
          "execution_count": 5
        }
      ]
    },
    {
      "cell_type": "code",
      "source": [
        "# Checagem das colunas do datase\n",
        "print('Colunas do DataSet:')\n",
        "dataset.columns"
      ],
      "metadata": {
        "colab": {
          "base_uri": "https://localhost:8080/"
        },
        "id": "vka3ERZpSmXf",
        "outputId": "07c5477c-9c9f-446c-f5e9-088acfb7bea1"
      },
      "execution_count": 6,
      "outputs": [
        {
          "output_type": "stream",
          "name": "stdout",
          "text": [
            "Colunas do DataSet:\n"
          ]
        },
        {
          "output_type": "execute_result",
          "data": {
            "text/plain": [
              "Index(['id', 'date', 'price', 'bedrooms', 'bathrooms', 'sqft_living',\n",
              "       'sqft_lot', 'floors', 'waterfront', 'view', 'condition', 'grade',\n",
              "       'sqft_above', 'sqft_basement', 'yr_built', 'yr_renovated', 'zipcode',\n",
              "       'lat', 'long', 'sqft_living15', 'sqft_lot15'],\n",
              "      dtype='object')"
            ]
          },
          "metadata": {},
          "execution_count": 6
        }
      ]
    },
    {
      "cell_type": "code",
      "source": [
        "# Excluindo colunas desnecessárias para análise\n",
        "# id - ID unico para cada casa.\n",
        "# date - Data da casa a venda.\n",
        "# yrrenovated - Último ano de renovação da casa.\n",
        "# zipcode - CEP da residência.\n",
        "\n",
        "columns_to_remove = ['id', 'date', 'yr_renovated', 'zipcode']\n",
        "dataset = dataset.drop(columns_to_remove, axis=1)"
      ],
      "metadata": {
        "id": "6a3j0HquaJPa"
      },
      "execution_count": 7,
      "outputs": []
    },
    {
      "cell_type": "code",
      "source": [
        "# Visualização das 5 primeiras linhas\n",
        "dataset.head(5)"
      ],
      "metadata": {
        "colab": {
          "base_uri": "https://localhost:8080/",
          "height": 270
        },
        "id": "pLzRdzZBW3f-",
        "outputId": "5fca6bc9-3227-425f-cf26-5bec948ccd66"
      },
      "execution_count": 8,
      "outputs": [
        {
          "output_type": "execute_result",
          "data": {
            "text/plain": [
              "      price  bedrooms  bathrooms  sqft_living  sqft_lot  floors  waterfront  \\\n",
              "0  221900.0         3       1.00         1180      5650     1.0           0   \n",
              "1  538000.0         3       2.25         2570      7242     2.0           0   \n",
              "2  180000.0         2       1.00          770     10000     1.0           0   \n",
              "3  604000.0         4       3.00         1960      5000     1.0           0   \n",
              "4  510000.0         3       2.00         1680      8080     1.0           0   \n",
              "\n",
              "   view  condition  grade  sqft_above  sqft_basement  yr_built      lat  \\\n",
              "0     0          3      7      1180.0              0      1955  47.5112   \n",
              "1     0          3      7      2170.0            400      1951  47.7210   \n",
              "2     0          3      6       770.0              0      1933  47.7379   \n",
              "3     0          5      7      1050.0            910      1965  47.5208   \n",
              "4     0          3      8      1680.0              0      1987  47.6168   \n",
              "\n",
              "      long  sqft_living15  sqft_lot15  \n",
              "0 -122.257           1340        5650  \n",
              "1 -122.319           1690        7639  \n",
              "2 -122.233           2720        8062  \n",
              "3 -122.393           1360        5000  \n",
              "4 -122.045           1800        7503  "
            ],
            "text/html": [
              "\n",
              "\n",
              "  <div id=\"df-58149235-996d-4dde-ae30-e05fe763d3c4\">\n",
              "    <div class=\"colab-df-container\">\n",
              "      <div>\n",
              "<style scoped>\n",
              "    .dataframe tbody tr th:only-of-type {\n",
              "        vertical-align: middle;\n",
              "    }\n",
              "\n",
              "    .dataframe tbody tr th {\n",
              "        vertical-align: top;\n",
              "    }\n",
              "\n",
              "    .dataframe thead th {\n",
              "        text-align: right;\n",
              "    }\n",
              "</style>\n",
              "<table border=\"1\" class=\"dataframe\">\n",
              "  <thead>\n",
              "    <tr style=\"text-align: right;\">\n",
              "      <th></th>\n",
              "      <th>price</th>\n",
              "      <th>bedrooms</th>\n",
              "      <th>bathrooms</th>\n",
              "      <th>sqft_living</th>\n",
              "      <th>sqft_lot</th>\n",
              "      <th>floors</th>\n",
              "      <th>waterfront</th>\n",
              "      <th>view</th>\n",
              "      <th>condition</th>\n",
              "      <th>grade</th>\n",
              "      <th>sqft_above</th>\n",
              "      <th>sqft_basement</th>\n",
              "      <th>yr_built</th>\n",
              "      <th>lat</th>\n",
              "      <th>long</th>\n",
              "      <th>sqft_living15</th>\n",
              "      <th>sqft_lot15</th>\n",
              "    </tr>\n",
              "  </thead>\n",
              "  <tbody>\n",
              "    <tr>\n",
              "      <th>0</th>\n",
              "      <td>221900.0</td>\n",
              "      <td>3</td>\n",
              "      <td>1.00</td>\n",
              "      <td>1180</td>\n",
              "      <td>5650</td>\n",
              "      <td>1.0</td>\n",
              "      <td>0</td>\n",
              "      <td>0</td>\n",
              "      <td>3</td>\n",
              "      <td>7</td>\n",
              "      <td>1180.0</td>\n",
              "      <td>0</td>\n",
              "      <td>1955</td>\n",
              "      <td>47.5112</td>\n",
              "      <td>-122.257</td>\n",
              "      <td>1340</td>\n",
              "      <td>5650</td>\n",
              "    </tr>\n",
              "    <tr>\n",
              "      <th>1</th>\n",
              "      <td>538000.0</td>\n",
              "      <td>3</td>\n",
              "      <td>2.25</td>\n",
              "      <td>2570</td>\n",
              "      <td>7242</td>\n",
              "      <td>2.0</td>\n",
              "      <td>0</td>\n",
              "      <td>0</td>\n",
              "      <td>3</td>\n",
              "      <td>7</td>\n",
              "      <td>2170.0</td>\n",
              "      <td>400</td>\n",
              "      <td>1951</td>\n",
              "      <td>47.7210</td>\n",
              "      <td>-122.319</td>\n",
              "      <td>1690</td>\n",
              "      <td>7639</td>\n",
              "    </tr>\n",
              "    <tr>\n",
              "      <th>2</th>\n",
              "      <td>180000.0</td>\n",
              "      <td>2</td>\n",
              "      <td>1.00</td>\n",
              "      <td>770</td>\n",
              "      <td>10000</td>\n",
              "      <td>1.0</td>\n",
              "      <td>0</td>\n",
              "      <td>0</td>\n",
              "      <td>3</td>\n",
              "      <td>6</td>\n",
              "      <td>770.0</td>\n",
              "      <td>0</td>\n",
              "      <td>1933</td>\n",
              "      <td>47.7379</td>\n",
              "      <td>-122.233</td>\n",
              "      <td>2720</td>\n",
              "      <td>8062</td>\n",
              "    </tr>\n",
              "    <tr>\n",
              "      <th>3</th>\n",
              "      <td>604000.0</td>\n",
              "      <td>4</td>\n",
              "      <td>3.00</td>\n",
              "      <td>1960</td>\n",
              "      <td>5000</td>\n",
              "      <td>1.0</td>\n",
              "      <td>0</td>\n",
              "      <td>0</td>\n",
              "      <td>5</td>\n",
              "      <td>7</td>\n",
              "      <td>1050.0</td>\n",
              "      <td>910</td>\n",
              "      <td>1965</td>\n",
              "      <td>47.5208</td>\n",
              "      <td>-122.393</td>\n",
              "      <td>1360</td>\n",
              "      <td>5000</td>\n",
              "    </tr>\n",
              "    <tr>\n",
              "      <th>4</th>\n",
              "      <td>510000.0</td>\n",
              "      <td>3</td>\n",
              "      <td>2.00</td>\n",
              "      <td>1680</td>\n",
              "      <td>8080</td>\n",
              "      <td>1.0</td>\n",
              "      <td>0</td>\n",
              "      <td>0</td>\n",
              "      <td>3</td>\n",
              "      <td>8</td>\n",
              "      <td>1680.0</td>\n",
              "      <td>0</td>\n",
              "      <td>1987</td>\n",
              "      <td>47.6168</td>\n",
              "      <td>-122.045</td>\n",
              "      <td>1800</td>\n",
              "      <td>7503</td>\n",
              "    </tr>\n",
              "  </tbody>\n",
              "</table>\n",
              "</div>\n",
              "      <button class=\"colab-df-convert\" onclick=\"convertToInteractive('df-58149235-996d-4dde-ae30-e05fe763d3c4')\"\n",
              "              title=\"Convert this dataframe to an interactive table.\"\n",
              "              style=\"display:none;\">\n",
              "\n",
              "  <svg xmlns=\"http://www.w3.org/2000/svg\" height=\"24px\"viewBox=\"0 0 24 24\"\n",
              "       width=\"24px\">\n",
              "    <path d=\"M0 0h24v24H0V0z\" fill=\"none\"/>\n",
              "    <path d=\"M18.56 5.44l.94 2.06.94-2.06 2.06-.94-2.06-.94-.94-2.06-.94 2.06-2.06.94zm-11 1L8.5 8.5l.94-2.06 2.06-.94-2.06-.94L8.5 2.5l-.94 2.06-2.06.94zm10 10l.94 2.06.94-2.06 2.06-.94-2.06-.94-.94-2.06-.94 2.06-2.06.94z\"/><path d=\"M17.41 7.96l-1.37-1.37c-.4-.4-.92-.59-1.43-.59-.52 0-1.04.2-1.43.59L10.3 9.45l-7.72 7.72c-.78.78-.78 2.05 0 2.83L4 21.41c.39.39.9.59 1.41.59.51 0 1.02-.2 1.41-.59l7.78-7.78 2.81-2.81c.8-.78.8-2.07 0-2.86zM5.41 20L4 18.59l7.72-7.72 1.47 1.35L5.41 20z\"/>\n",
              "  </svg>\n",
              "      </button>\n",
              "\n",
              "\n",
              "\n",
              "    <div id=\"df-a3edae60-3e11-4c8e-8d06-db56dfd5bb82\">\n",
              "      <button class=\"colab-df-quickchart\" onclick=\"quickchart('df-a3edae60-3e11-4c8e-8d06-db56dfd5bb82')\"\n",
              "              title=\"Suggest charts.\"\n",
              "              style=\"display:none;\">\n",
              "\n",
              "<svg xmlns=\"http://www.w3.org/2000/svg\" height=\"24px\"viewBox=\"0 0 24 24\"\n",
              "     width=\"24px\">\n",
              "    <g>\n",
              "        <path d=\"M19 3H5c-1.1 0-2 .9-2 2v14c0 1.1.9 2 2 2h14c1.1 0 2-.9 2-2V5c0-1.1-.9-2-2-2zM9 17H7v-7h2v7zm4 0h-2V7h2v10zm4 0h-2v-4h2v4z\"/>\n",
              "    </g>\n",
              "</svg>\n",
              "      </button>\n",
              "    </div>\n",
              "\n",
              "<style>\n",
              "  .colab-df-quickchart {\n",
              "    background-color: #E8F0FE;\n",
              "    border: none;\n",
              "    border-radius: 50%;\n",
              "    cursor: pointer;\n",
              "    display: none;\n",
              "    fill: #1967D2;\n",
              "    height: 32px;\n",
              "    padding: 0 0 0 0;\n",
              "    width: 32px;\n",
              "  }\n",
              "\n",
              "  .colab-df-quickchart:hover {\n",
              "    background-color: #E2EBFA;\n",
              "    box-shadow: 0px 1px 2px rgba(60, 64, 67, 0.3), 0px 1px 3px 1px rgba(60, 64, 67, 0.15);\n",
              "    fill: #174EA6;\n",
              "  }\n",
              "\n",
              "  [theme=dark] .colab-df-quickchart {\n",
              "    background-color: #3B4455;\n",
              "    fill: #D2E3FC;\n",
              "  }\n",
              "\n",
              "  [theme=dark] .colab-df-quickchart:hover {\n",
              "    background-color: #434B5C;\n",
              "    box-shadow: 0px 1px 3px 1px rgba(0, 0, 0, 0.15);\n",
              "    filter: drop-shadow(0px 1px 2px rgba(0, 0, 0, 0.3));\n",
              "    fill: #FFFFFF;\n",
              "  }\n",
              "</style>\n",
              "\n",
              "    <script>\n",
              "      async function quickchart(key) {\n",
              "        const containerElement = document.querySelector('#' + key);\n",
              "        const charts = await google.colab.kernel.invokeFunction(\n",
              "            'suggestCharts', [key], {});\n",
              "      }\n",
              "    </script>\n",
              "\n",
              "      <script>\n",
              "\n",
              "function displayQuickchartButton(domScope) {\n",
              "  let quickchartButtonEl =\n",
              "    domScope.querySelector('#df-a3edae60-3e11-4c8e-8d06-db56dfd5bb82 button.colab-df-quickchart');\n",
              "  quickchartButtonEl.style.display =\n",
              "    google.colab.kernel.accessAllowed ? 'block' : 'none';\n",
              "}\n",
              "\n",
              "        displayQuickchartButton(document);\n",
              "      </script>\n",
              "      <style>\n",
              "    .colab-df-container {\n",
              "      display:flex;\n",
              "      flex-wrap:wrap;\n",
              "      gap: 12px;\n",
              "    }\n",
              "\n",
              "    .colab-df-convert {\n",
              "      background-color: #E8F0FE;\n",
              "      border: none;\n",
              "      border-radius: 50%;\n",
              "      cursor: pointer;\n",
              "      display: none;\n",
              "      fill: #1967D2;\n",
              "      height: 32px;\n",
              "      padding: 0 0 0 0;\n",
              "      width: 32px;\n",
              "    }\n",
              "\n",
              "    .colab-df-convert:hover {\n",
              "      background-color: #E2EBFA;\n",
              "      box-shadow: 0px 1px 2px rgba(60, 64, 67, 0.3), 0px 1px 3px 1px rgba(60, 64, 67, 0.15);\n",
              "      fill: #174EA6;\n",
              "    }\n",
              "\n",
              "    [theme=dark] .colab-df-convert {\n",
              "      background-color: #3B4455;\n",
              "      fill: #D2E3FC;\n",
              "    }\n",
              "\n",
              "    [theme=dark] .colab-df-convert:hover {\n",
              "      background-color: #434B5C;\n",
              "      box-shadow: 0px 1px 3px 1px rgba(0, 0, 0, 0.15);\n",
              "      filter: drop-shadow(0px 1px 2px rgba(0, 0, 0, 0.3));\n",
              "      fill: #FFFFFF;\n",
              "    }\n",
              "  </style>\n",
              "\n",
              "      <script>\n",
              "        const buttonEl =\n",
              "          document.querySelector('#df-58149235-996d-4dde-ae30-e05fe763d3c4 button.colab-df-convert');\n",
              "        buttonEl.style.display =\n",
              "          google.colab.kernel.accessAllowed ? 'block' : 'none';\n",
              "\n",
              "        async function convertToInteractive(key) {\n",
              "          const element = document.querySelector('#df-58149235-996d-4dde-ae30-e05fe763d3c4');\n",
              "          const dataTable =\n",
              "            await google.colab.kernel.invokeFunction('convertToInteractive',\n",
              "                                                     [key], {});\n",
              "          if (!dataTable) return;\n",
              "\n",
              "          const docLinkHtml = 'Like what you see? Visit the ' +\n",
              "            '<a target=\"_blank\" href=https://colab.research.google.com/notebooks/data_table.ipynb>data table notebook</a>'\n",
              "            + ' to learn more about interactive tables.';\n",
              "          element.innerHTML = '';\n",
              "          dataTable['output_type'] = 'display_data';\n",
              "          await google.colab.output.renderOutput(dataTable, element);\n",
              "          const docLink = document.createElement('div');\n",
              "          docLink.innerHTML = docLinkHtml;\n",
              "          element.appendChild(docLink);\n",
              "        }\n",
              "      </script>\n",
              "    </div>\n",
              "  </div>\n"
            ]
          },
          "metadata": {},
          "execution_count": 8
        }
      ]
    },
    {
      "cell_type": "code",
      "source": [
        "# Visualização das 5 últimas linhas\n",
        "dataset.tail(5)"
      ],
      "metadata": {
        "id": "IGVgJLyXiYco",
        "colab": {
          "base_uri": "https://localhost:8080/",
          "height": 270
        },
        "outputId": "ea588b5f-16e1-40f8-8327-b8975fc7bbbd"
      },
      "execution_count": 9,
      "outputs": [
        {
          "output_type": "execute_result",
          "data": {
            "text/plain": [
              "          price  bedrooms  bathrooms  sqft_living  sqft_lot  floors  \\\n",
              "21608  360000.0         3       2.50         1530      1131     3.0   \n",
              "21609  400000.0         4       2.50         2310      5813     2.0   \n",
              "21610  402101.0         2       0.75         1020      1350     2.0   \n",
              "21611  400000.0         3       2.50         1600      2388     2.0   \n",
              "21612  325000.0         2       0.75         1020      1076     2.0   \n",
              "\n",
              "       waterfront  view  condition  grade  sqft_above  sqft_basement  \\\n",
              "21608           0     0          3      8      1530.0              0   \n",
              "21609           0     0          3      8      2310.0              0   \n",
              "21610           0     0          3      7      1020.0              0   \n",
              "21611           0     0          3      8      1600.0              0   \n",
              "21612           0     0          3      7      1020.0              0   \n",
              "\n",
              "       yr_built      lat     long  sqft_living15  sqft_lot15  \n",
              "21608      2009  47.6993 -122.346           1530        1509  \n",
              "21609      2014  47.5107 -122.362           1830        7200  \n",
              "21610      2009  47.5944 -122.299           1020        2007  \n",
              "21611      2004  47.5345 -122.069           1410        1287  \n",
              "21612      2008  47.5941 -122.299           1020        1357  "
            ],
            "text/html": [
              "\n",
              "\n",
              "  <div id=\"df-7f3ffcba-0474-48c1-b77d-48f333c9f009\">\n",
              "    <div class=\"colab-df-container\">\n",
              "      <div>\n",
              "<style scoped>\n",
              "    .dataframe tbody tr th:only-of-type {\n",
              "        vertical-align: middle;\n",
              "    }\n",
              "\n",
              "    .dataframe tbody tr th {\n",
              "        vertical-align: top;\n",
              "    }\n",
              "\n",
              "    .dataframe thead th {\n",
              "        text-align: right;\n",
              "    }\n",
              "</style>\n",
              "<table border=\"1\" class=\"dataframe\">\n",
              "  <thead>\n",
              "    <tr style=\"text-align: right;\">\n",
              "      <th></th>\n",
              "      <th>price</th>\n",
              "      <th>bedrooms</th>\n",
              "      <th>bathrooms</th>\n",
              "      <th>sqft_living</th>\n",
              "      <th>sqft_lot</th>\n",
              "      <th>floors</th>\n",
              "      <th>waterfront</th>\n",
              "      <th>view</th>\n",
              "      <th>condition</th>\n",
              "      <th>grade</th>\n",
              "      <th>sqft_above</th>\n",
              "      <th>sqft_basement</th>\n",
              "      <th>yr_built</th>\n",
              "      <th>lat</th>\n",
              "      <th>long</th>\n",
              "      <th>sqft_living15</th>\n",
              "      <th>sqft_lot15</th>\n",
              "    </tr>\n",
              "  </thead>\n",
              "  <tbody>\n",
              "    <tr>\n",
              "      <th>21608</th>\n",
              "      <td>360000.0</td>\n",
              "      <td>3</td>\n",
              "      <td>2.50</td>\n",
              "      <td>1530</td>\n",
              "      <td>1131</td>\n",
              "      <td>3.0</td>\n",
              "      <td>0</td>\n",
              "      <td>0</td>\n",
              "      <td>3</td>\n",
              "      <td>8</td>\n",
              "      <td>1530.0</td>\n",
              "      <td>0</td>\n",
              "      <td>2009</td>\n",
              "      <td>47.6993</td>\n",
              "      <td>-122.346</td>\n",
              "      <td>1530</td>\n",
              "      <td>1509</td>\n",
              "    </tr>\n",
              "    <tr>\n",
              "      <th>21609</th>\n",
              "      <td>400000.0</td>\n",
              "      <td>4</td>\n",
              "      <td>2.50</td>\n",
              "      <td>2310</td>\n",
              "      <td>5813</td>\n",
              "      <td>2.0</td>\n",
              "      <td>0</td>\n",
              "      <td>0</td>\n",
              "      <td>3</td>\n",
              "      <td>8</td>\n",
              "      <td>2310.0</td>\n",
              "      <td>0</td>\n",
              "      <td>2014</td>\n",
              "      <td>47.5107</td>\n",
              "      <td>-122.362</td>\n",
              "      <td>1830</td>\n",
              "      <td>7200</td>\n",
              "    </tr>\n",
              "    <tr>\n",
              "      <th>21610</th>\n",
              "      <td>402101.0</td>\n",
              "      <td>2</td>\n",
              "      <td>0.75</td>\n",
              "      <td>1020</td>\n",
              "      <td>1350</td>\n",
              "      <td>2.0</td>\n",
              "      <td>0</td>\n",
              "      <td>0</td>\n",
              "      <td>3</td>\n",
              "      <td>7</td>\n",
              "      <td>1020.0</td>\n",
              "      <td>0</td>\n",
              "      <td>2009</td>\n",
              "      <td>47.5944</td>\n",
              "      <td>-122.299</td>\n",
              "      <td>1020</td>\n",
              "      <td>2007</td>\n",
              "    </tr>\n",
              "    <tr>\n",
              "      <th>21611</th>\n",
              "      <td>400000.0</td>\n",
              "      <td>3</td>\n",
              "      <td>2.50</td>\n",
              "      <td>1600</td>\n",
              "      <td>2388</td>\n",
              "      <td>2.0</td>\n",
              "      <td>0</td>\n",
              "      <td>0</td>\n",
              "      <td>3</td>\n",
              "      <td>8</td>\n",
              "      <td>1600.0</td>\n",
              "      <td>0</td>\n",
              "      <td>2004</td>\n",
              "      <td>47.5345</td>\n",
              "      <td>-122.069</td>\n",
              "      <td>1410</td>\n",
              "      <td>1287</td>\n",
              "    </tr>\n",
              "    <tr>\n",
              "      <th>21612</th>\n",
              "      <td>325000.0</td>\n",
              "      <td>2</td>\n",
              "      <td>0.75</td>\n",
              "      <td>1020</td>\n",
              "      <td>1076</td>\n",
              "      <td>2.0</td>\n",
              "      <td>0</td>\n",
              "      <td>0</td>\n",
              "      <td>3</td>\n",
              "      <td>7</td>\n",
              "      <td>1020.0</td>\n",
              "      <td>0</td>\n",
              "      <td>2008</td>\n",
              "      <td>47.5941</td>\n",
              "      <td>-122.299</td>\n",
              "      <td>1020</td>\n",
              "      <td>1357</td>\n",
              "    </tr>\n",
              "  </tbody>\n",
              "</table>\n",
              "</div>\n",
              "      <button class=\"colab-df-convert\" onclick=\"convertToInteractive('df-7f3ffcba-0474-48c1-b77d-48f333c9f009')\"\n",
              "              title=\"Convert this dataframe to an interactive table.\"\n",
              "              style=\"display:none;\">\n",
              "\n",
              "  <svg xmlns=\"http://www.w3.org/2000/svg\" height=\"24px\"viewBox=\"0 0 24 24\"\n",
              "       width=\"24px\">\n",
              "    <path d=\"M0 0h24v24H0V0z\" fill=\"none\"/>\n",
              "    <path d=\"M18.56 5.44l.94 2.06.94-2.06 2.06-.94-2.06-.94-.94-2.06-.94 2.06-2.06.94zm-11 1L8.5 8.5l.94-2.06 2.06-.94-2.06-.94L8.5 2.5l-.94 2.06-2.06.94zm10 10l.94 2.06.94-2.06 2.06-.94-2.06-.94-.94-2.06-.94 2.06-2.06.94z\"/><path d=\"M17.41 7.96l-1.37-1.37c-.4-.4-.92-.59-1.43-.59-.52 0-1.04.2-1.43.59L10.3 9.45l-7.72 7.72c-.78.78-.78 2.05 0 2.83L4 21.41c.39.39.9.59 1.41.59.51 0 1.02-.2 1.41-.59l7.78-7.78 2.81-2.81c.8-.78.8-2.07 0-2.86zM5.41 20L4 18.59l7.72-7.72 1.47 1.35L5.41 20z\"/>\n",
              "  </svg>\n",
              "      </button>\n",
              "\n",
              "\n",
              "\n",
              "    <div id=\"df-07d4bb06-e40a-47be-83e3-f96e977d07f0\">\n",
              "      <button class=\"colab-df-quickchart\" onclick=\"quickchart('df-07d4bb06-e40a-47be-83e3-f96e977d07f0')\"\n",
              "              title=\"Suggest charts.\"\n",
              "              style=\"display:none;\">\n",
              "\n",
              "<svg xmlns=\"http://www.w3.org/2000/svg\" height=\"24px\"viewBox=\"0 0 24 24\"\n",
              "     width=\"24px\">\n",
              "    <g>\n",
              "        <path d=\"M19 3H5c-1.1 0-2 .9-2 2v14c0 1.1.9 2 2 2h14c1.1 0 2-.9 2-2V5c0-1.1-.9-2-2-2zM9 17H7v-7h2v7zm4 0h-2V7h2v10zm4 0h-2v-4h2v4z\"/>\n",
              "    </g>\n",
              "</svg>\n",
              "      </button>\n",
              "    </div>\n",
              "\n",
              "<style>\n",
              "  .colab-df-quickchart {\n",
              "    background-color: #E8F0FE;\n",
              "    border: none;\n",
              "    border-radius: 50%;\n",
              "    cursor: pointer;\n",
              "    display: none;\n",
              "    fill: #1967D2;\n",
              "    height: 32px;\n",
              "    padding: 0 0 0 0;\n",
              "    width: 32px;\n",
              "  }\n",
              "\n",
              "  .colab-df-quickchart:hover {\n",
              "    background-color: #E2EBFA;\n",
              "    box-shadow: 0px 1px 2px rgba(60, 64, 67, 0.3), 0px 1px 3px 1px rgba(60, 64, 67, 0.15);\n",
              "    fill: #174EA6;\n",
              "  }\n",
              "\n",
              "  [theme=dark] .colab-df-quickchart {\n",
              "    background-color: #3B4455;\n",
              "    fill: #D2E3FC;\n",
              "  }\n",
              "\n",
              "  [theme=dark] .colab-df-quickchart:hover {\n",
              "    background-color: #434B5C;\n",
              "    box-shadow: 0px 1px 3px 1px rgba(0, 0, 0, 0.15);\n",
              "    filter: drop-shadow(0px 1px 2px rgba(0, 0, 0, 0.3));\n",
              "    fill: #FFFFFF;\n",
              "  }\n",
              "</style>\n",
              "\n",
              "    <script>\n",
              "      async function quickchart(key) {\n",
              "        const containerElement = document.querySelector('#' + key);\n",
              "        const charts = await google.colab.kernel.invokeFunction(\n",
              "            'suggestCharts', [key], {});\n",
              "      }\n",
              "    </script>\n",
              "\n",
              "      <script>\n",
              "\n",
              "function displayQuickchartButton(domScope) {\n",
              "  let quickchartButtonEl =\n",
              "    domScope.querySelector('#df-07d4bb06-e40a-47be-83e3-f96e977d07f0 button.colab-df-quickchart');\n",
              "  quickchartButtonEl.style.display =\n",
              "    google.colab.kernel.accessAllowed ? 'block' : 'none';\n",
              "}\n",
              "\n",
              "        displayQuickchartButton(document);\n",
              "      </script>\n",
              "      <style>\n",
              "    .colab-df-container {\n",
              "      display:flex;\n",
              "      flex-wrap:wrap;\n",
              "      gap: 12px;\n",
              "    }\n",
              "\n",
              "    .colab-df-convert {\n",
              "      background-color: #E8F0FE;\n",
              "      border: none;\n",
              "      border-radius: 50%;\n",
              "      cursor: pointer;\n",
              "      display: none;\n",
              "      fill: #1967D2;\n",
              "      height: 32px;\n",
              "      padding: 0 0 0 0;\n",
              "      width: 32px;\n",
              "    }\n",
              "\n",
              "    .colab-df-convert:hover {\n",
              "      background-color: #E2EBFA;\n",
              "      box-shadow: 0px 1px 2px rgba(60, 64, 67, 0.3), 0px 1px 3px 1px rgba(60, 64, 67, 0.15);\n",
              "      fill: #174EA6;\n",
              "    }\n",
              "\n",
              "    [theme=dark] .colab-df-convert {\n",
              "      background-color: #3B4455;\n",
              "      fill: #D2E3FC;\n",
              "    }\n",
              "\n",
              "    [theme=dark] .colab-df-convert:hover {\n",
              "      background-color: #434B5C;\n",
              "      box-shadow: 0px 1px 3px 1px rgba(0, 0, 0, 0.15);\n",
              "      filter: drop-shadow(0px 1px 2px rgba(0, 0, 0, 0.3));\n",
              "      fill: #FFFFFF;\n",
              "    }\n",
              "  </style>\n",
              "\n",
              "      <script>\n",
              "        const buttonEl =\n",
              "          document.querySelector('#df-7f3ffcba-0474-48c1-b77d-48f333c9f009 button.colab-df-convert');\n",
              "        buttonEl.style.display =\n",
              "          google.colab.kernel.accessAllowed ? 'block' : 'none';\n",
              "\n",
              "        async function convertToInteractive(key) {\n",
              "          const element = document.querySelector('#df-7f3ffcba-0474-48c1-b77d-48f333c9f009');\n",
              "          const dataTable =\n",
              "            await google.colab.kernel.invokeFunction('convertToInteractive',\n",
              "                                                     [key], {});\n",
              "          if (!dataTable) return;\n",
              "\n",
              "          const docLinkHtml = 'Like what you see? Visit the ' +\n",
              "            '<a target=\"_blank\" href=https://colab.research.google.com/notebooks/data_table.ipynb>data table notebook</a>'\n",
              "            + ' to learn more about interactive tables.';\n",
              "          element.innerHTML = '';\n",
              "          dataTable['output_type'] = 'display_data';\n",
              "          await google.colab.output.renderOutput(dataTable, element);\n",
              "          const docLink = document.createElement('div');\n",
              "          docLink.innerHTML = docLinkHtml;\n",
              "          element.appendChild(docLink);\n",
              "        }\n",
              "      </script>\n",
              "    </div>\n",
              "  </div>\n"
            ]
          },
          "metadata": {},
          "execution_count": 9
        }
      ]
    },
    {
      "cell_type": "code",
      "source": [
        "# Mostra as informações resumidas do dataset\n",
        "dataset.info()"
      ],
      "metadata": {
        "colab": {
          "base_uri": "https://localhost:8080/"
        },
        "id": "NO59Vl1nTO20",
        "outputId": "ccd4b3f0-3ff5-4de7-bc93-e599ccb017e5"
      },
      "execution_count": 10,
      "outputs": [
        {
          "output_type": "stream",
          "name": "stdout",
          "text": [
            "<class 'pandas.core.frame.DataFrame'>\n",
            "RangeIndex: 21613 entries, 0 to 21612\n",
            "Data columns (total 17 columns):\n",
            " #   Column         Non-Null Count  Dtype  \n",
            "---  ------         --------------  -----  \n",
            " 0   price          21613 non-null  float64\n",
            " 1   bedrooms       21613 non-null  int64  \n",
            " 2   bathrooms      21613 non-null  float64\n",
            " 3   sqft_living    21613 non-null  int64  \n",
            " 4   sqft_lot       21613 non-null  int64  \n",
            " 5   floors         21613 non-null  float64\n",
            " 6   waterfront     21613 non-null  int64  \n",
            " 7   view           21613 non-null  int64  \n",
            " 8   condition      21613 non-null  int64  \n",
            " 9   grade          21613 non-null  int64  \n",
            " 10  sqft_above     21611 non-null  float64\n",
            " 11  sqft_basement  21613 non-null  int64  \n",
            " 12  yr_built       21613 non-null  int64  \n",
            " 13  lat            21613 non-null  float64\n",
            " 14  long           21613 non-null  float64\n",
            " 15  sqft_living15  21613 non-null  int64  \n",
            " 16  sqft_lot15     21613 non-null  int64  \n",
            "dtypes: float64(6), int64(11)\n",
            "memory usage: 2.8 MB\n"
          ]
        }
      ]
    },
    {
      "cell_type": "code",
      "source": [
        "# Remove linhas com valores nulos\n",
        "dataset = dataset.dropna()\n",
        "\n",
        "# Vizualiza novamente os dados sem os nulos\n",
        "dataset.isnull().sum()"
      ],
      "metadata": {
        "colab": {
          "base_uri": "https://localhost:8080/"
        },
        "id": "vhGhuKarGMNo",
        "outputId": "df12518a-6c4d-4540-d48c-40915615b834"
      },
      "execution_count": 11,
      "outputs": [
        {
          "output_type": "execute_result",
          "data": {
            "text/plain": [
              "price            0\n",
              "bedrooms         0\n",
              "bathrooms        0\n",
              "sqft_living      0\n",
              "sqft_lot         0\n",
              "floors           0\n",
              "waterfront       0\n",
              "view             0\n",
              "condition        0\n",
              "grade            0\n",
              "sqft_above       0\n",
              "sqft_basement    0\n",
              "yr_built         0\n",
              "lat              0\n",
              "long             0\n",
              "sqft_living15    0\n",
              "sqft_lot15       0\n",
              "dtype: int64"
            ]
          },
          "metadata": {},
          "execution_count": 11
        }
      ]
    },
    {
      "cell_type": "code",
      "execution_count": 12,
      "metadata": {
        "colab": {
          "base_uri": "https://localhost:8080/",
          "height": 364
        },
        "id": "Ui7LRUrdtPQQ",
        "outputId": "443c32f0-fdc6-4a30-e87d-5d5957b49e69"
      },
      "outputs": [
        {
          "output_type": "execute_result",
          "data": {
            "text/plain": [
              "              price      bedrooms     bathrooms   sqft_living      sqft_lot  \\\n",
              "count  2.161100e+04  21611.000000  21611.000000  21611.000000  2.161100e+04   \n",
              "mean   5.400850e+05      3.370830      2.114791   2079.853454  1.510771e+04   \n",
              "std    3.671430e+05      0.930092      0.770157    918.422406  4.142235e+04   \n",
              "min    7.500000e+04      0.000000      0.000000    290.000000  5.200000e+02   \n",
              "25%    3.217250e+05      3.000000      1.750000   1426.000000  5.040000e+03   \n",
              "50%    4.500000e+05      3.000000      2.250000   1910.000000  7.618000e+03   \n",
              "75%    6.450000e+05      4.000000      2.500000   2550.000000  1.068850e+04   \n",
              "max    7.700000e+06     33.000000      8.000000  13540.000000  1.651359e+06   \n",
              "\n",
              "             floors    waterfront          view     condition         grade  \\\n",
              "count  21611.000000  21611.000000  21611.000000  21611.000000  21611.000000   \n",
              "mean       1.494332      0.007542      0.234325      3.409421      7.656888   \n",
              "std        0.540003      0.086521      0.766350      0.650755      1.175502   \n",
              "min        1.000000      0.000000      0.000000      1.000000      1.000000   \n",
              "25%        1.000000      0.000000      0.000000      3.000000      7.000000   \n",
              "50%        1.500000      0.000000      0.000000      3.000000      7.000000   \n",
              "75%        2.000000      0.000000      0.000000      4.000000      8.000000   \n",
              "max        3.500000      1.000000      4.000000      5.000000     13.000000   \n",
              "\n",
              "         sqft_above  sqft_basement      yr_built           lat          long  \\\n",
              "count  21611.000000   21611.000000  21611.000000  21611.000000  21611.000000   \n",
              "mean    1788.396095     291.457360   1971.007959     47.560046   -122.213894   \n",
              "std      828.128162     442.487355     29.372358      0.138568      0.140831   \n",
              "min      290.000000       0.000000   1900.000000     47.155900   -122.519000   \n",
              "25%     1190.000000       0.000000   1951.000000     47.470950   -122.328000   \n",
              "50%     1560.000000       0.000000   1975.000000     47.571800   -122.230000   \n",
              "75%     2210.000000     560.000000   1997.000000     47.678000   -122.125000   \n",
              "max     9410.000000    4820.000000   2015.000000     47.777600   -121.315000   \n",
              "\n",
              "       sqft_living15     sqft_lot15  \n",
              "count   21611.000000   21611.000000  \n",
              "mean     1986.559576   12769.025357  \n",
              "std       685.416548   27305.369808  \n",
              "min       399.000000     651.000000  \n",
              "25%      1490.000000    5100.000000  \n",
              "50%      1840.000000    7620.000000  \n",
              "75%      2360.000000   10083.500000  \n",
              "max      6210.000000  871200.000000  "
            ],
            "text/html": [
              "\n",
              "\n",
              "  <div id=\"df-f4e2e6bb-fe94-4c02-8727-418751aa0be8\">\n",
              "    <div class=\"colab-df-container\">\n",
              "      <div>\n",
              "<style scoped>\n",
              "    .dataframe tbody tr th:only-of-type {\n",
              "        vertical-align: middle;\n",
              "    }\n",
              "\n",
              "    .dataframe tbody tr th {\n",
              "        vertical-align: top;\n",
              "    }\n",
              "\n",
              "    .dataframe thead th {\n",
              "        text-align: right;\n",
              "    }\n",
              "</style>\n",
              "<table border=\"1\" class=\"dataframe\">\n",
              "  <thead>\n",
              "    <tr style=\"text-align: right;\">\n",
              "      <th></th>\n",
              "      <th>price</th>\n",
              "      <th>bedrooms</th>\n",
              "      <th>bathrooms</th>\n",
              "      <th>sqft_living</th>\n",
              "      <th>sqft_lot</th>\n",
              "      <th>floors</th>\n",
              "      <th>waterfront</th>\n",
              "      <th>view</th>\n",
              "      <th>condition</th>\n",
              "      <th>grade</th>\n",
              "      <th>sqft_above</th>\n",
              "      <th>sqft_basement</th>\n",
              "      <th>yr_built</th>\n",
              "      <th>lat</th>\n",
              "      <th>long</th>\n",
              "      <th>sqft_living15</th>\n",
              "      <th>sqft_lot15</th>\n",
              "    </tr>\n",
              "  </thead>\n",
              "  <tbody>\n",
              "    <tr>\n",
              "      <th>count</th>\n",
              "      <td>2.161100e+04</td>\n",
              "      <td>21611.000000</td>\n",
              "      <td>21611.000000</td>\n",
              "      <td>21611.000000</td>\n",
              "      <td>2.161100e+04</td>\n",
              "      <td>21611.000000</td>\n",
              "      <td>21611.000000</td>\n",
              "      <td>21611.000000</td>\n",
              "      <td>21611.000000</td>\n",
              "      <td>21611.000000</td>\n",
              "      <td>21611.000000</td>\n",
              "      <td>21611.000000</td>\n",
              "      <td>21611.000000</td>\n",
              "      <td>21611.000000</td>\n",
              "      <td>21611.000000</td>\n",
              "      <td>21611.000000</td>\n",
              "      <td>21611.000000</td>\n",
              "    </tr>\n",
              "    <tr>\n",
              "      <th>mean</th>\n",
              "      <td>5.400850e+05</td>\n",
              "      <td>3.370830</td>\n",
              "      <td>2.114791</td>\n",
              "      <td>2079.853454</td>\n",
              "      <td>1.510771e+04</td>\n",
              "      <td>1.494332</td>\n",
              "      <td>0.007542</td>\n",
              "      <td>0.234325</td>\n",
              "      <td>3.409421</td>\n",
              "      <td>7.656888</td>\n",
              "      <td>1788.396095</td>\n",
              "      <td>291.457360</td>\n",
              "      <td>1971.007959</td>\n",
              "      <td>47.560046</td>\n",
              "      <td>-122.213894</td>\n",
              "      <td>1986.559576</td>\n",
              "      <td>12769.025357</td>\n",
              "    </tr>\n",
              "    <tr>\n",
              "      <th>std</th>\n",
              "      <td>3.671430e+05</td>\n",
              "      <td>0.930092</td>\n",
              "      <td>0.770157</td>\n",
              "      <td>918.422406</td>\n",
              "      <td>4.142235e+04</td>\n",
              "      <td>0.540003</td>\n",
              "      <td>0.086521</td>\n",
              "      <td>0.766350</td>\n",
              "      <td>0.650755</td>\n",
              "      <td>1.175502</td>\n",
              "      <td>828.128162</td>\n",
              "      <td>442.487355</td>\n",
              "      <td>29.372358</td>\n",
              "      <td>0.138568</td>\n",
              "      <td>0.140831</td>\n",
              "      <td>685.416548</td>\n",
              "      <td>27305.369808</td>\n",
              "    </tr>\n",
              "    <tr>\n",
              "      <th>min</th>\n",
              "      <td>7.500000e+04</td>\n",
              "      <td>0.000000</td>\n",
              "      <td>0.000000</td>\n",
              "      <td>290.000000</td>\n",
              "      <td>5.200000e+02</td>\n",
              "      <td>1.000000</td>\n",
              "      <td>0.000000</td>\n",
              "      <td>0.000000</td>\n",
              "      <td>1.000000</td>\n",
              "      <td>1.000000</td>\n",
              "      <td>290.000000</td>\n",
              "      <td>0.000000</td>\n",
              "      <td>1900.000000</td>\n",
              "      <td>47.155900</td>\n",
              "      <td>-122.519000</td>\n",
              "      <td>399.000000</td>\n",
              "      <td>651.000000</td>\n",
              "    </tr>\n",
              "    <tr>\n",
              "      <th>25%</th>\n",
              "      <td>3.217250e+05</td>\n",
              "      <td>3.000000</td>\n",
              "      <td>1.750000</td>\n",
              "      <td>1426.000000</td>\n",
              "      <td>5.040000e+03</td>\n",
              "      <td>1.000000</td>\n",
              "      <td>0.000000</td>\n",
              "      <td>0.000000</td>\n",
              "      <td>3.000000</td>\n",
              "      <td>7.000000</td>\n",
              "      <td>1190.000000</td>\n",
              "      <td>0.000000</td>\n",
              "      <td>1951.000000</td>\n",
              "      <td>47.470950</td>\n",
              "      <td>-122.328000</td>\n",
              "      <td>1490.000000</td>\n",
              "      <td>5100.000000</td>\n",
              "    </tr>\n",
              "    <tr>\n",
              "      <th>50%</th>\n",
              "      <td>4.500000e+05</td>\n",
              "      <td>3.000000</td>\n",
              "      <td>2.250000</td>\n",
              "      <td>1910.000000</td>\n",
              "      <td>7.618000e+03</td>\n",
              "      <td>1.500000</td>\n",
              "      <td>0.000000</td>\n",
              "      <td>0.000000</td>\n",
              "      <td>3.000000</td>\n",
              "      <td>7.000000</td>\n",
              "      <td>1560.000000</td>\n",
              "      <td>0.000000</td>\n",
              "      <td>1975.000000</td>\n",
              "      <td>47.571800</td>\n",
              "      <td>-122.230000</td>\n",
              "      <td>1840.000000</td>\n",
              "      <td>7620.000000</td>\n",
              "    </tr>\n",
              "    <tr>\n",
              "      <th>75%</th>\n",
              "      <td>6.450000e+05</td>\n",
              "      <td>4.000000</td>\n",
              "      <td>2.500000</td>\n",
              "      <td>2550.000000</td>\n",
              "      <td>1.068850e+04</td>\n",
              "      <td>2.000000</td>\n",
              "      <td>0.000000</td>\n",
              "      <td>0.000000</td>\n",
              "      <td>4.000000</td>\n",
              "      <td>8.000000</td>\n",
              "      <td>2210.000000</td>\n",
              "      <td>560.000000</td>\n",
              "      <td>1997.000000</td>\n",
              "      <td>47.678000</td>\n",
              "      <td>-122.125000</td>\n",
              "      <td>2360.000000</td>\n",
              "      <td>10083.500000</td>\n",
              "    </tr>\n",
              "    <tr>\n",
              "      <th>max</th>\n",
              "      <td>7.700000e+06</td>\n",
              "      <td>33.000000</td>\n",
              "      <td>8.000000</td>\n",
              "      <td>13540.000000</td>\n",
              "      <td>1.651359e+06</td>\n",
              "      <td>3.500000</td>\n",
              "      <td>1.000000</td>\n",
              "      <td>4.000000</td>\n",
              "      <td>5.000000</td>\n",
              "      <td>13.000000</td>\n",
              "      <td>9410.000000</td>\n",
              "      <td>4820.000000</td>\n",
              "      <td>2015.000000</td>\n",
              "      <td>47.777600</td>\n",
              "      <td>-121.315000</td>\n",
              "      <td>6210.000000</td>\n",
              "      <td>871200.000000</td>\n",
              "    </tr>\n",
              "  </tbody>\n",
              "</table>\n",
              "</div>\n",
              "      <button class=\"colab-df-convert\" onclick=\"convertToInteractive('df-f4e2e6bb-fe94-4c02-8727-418751aa0be8')\"\n",
              "              title=\"Convert this dataframe to an interactive table.\"\n",
              "              style=\"display:none;\">\n",
              "\n",
              "  <svg xmlns=\"http://www.w3.org/2000/svg\" height=\"24px\"viewBox=\"0 0 24 24\"\n",
              "       width=\"24px\">\n",
              "    <path d=\"M0 0h24v24H0V0z\" fill=\"none\"/>\n",
              "    <path d=\"M18.56 5.44l.94 2.06.94-2.06 2.06-.94-2.06-.94-.94-2.06-.94 2.06-2.06.94zm-11 1L8.5 8.5l.94-2.06 2.06-.94-2.06-.94L8.5 2.5l-.94 2.06-2.06.94zm10 10l.94 2.06.94-2.06 2.06-.94-2.06-.94-.94-2.06-.94 2.06-2.06.94z\"/><path d=\"M17.41 7.96l-1.37-1.37c-.4-.4-.92-.59-1.43-.59-.52 0-1.04.2-1.43.59L10.3 9.45l-7.72 7.72c-.78.78-.78 2.05 0 2.83L4 21.41c.39.39.9.59 1.41.59.51 0 1.02-.2 1.41-.59l7.78-7.78 2.81-2.81c.8-.78.8-2.07 0-2.86zM5.41 20L4 18.59l7.72-7.72 1.47 1.35L5.41 20z\"/>\n",
              "  </svg>\n",
              "      </button>\n",
              "\n",
              "\n",
              "\n",
              "    <div id=\"df-4e4453a5-d628-4111-b177-88ac50d14046\">\n",
              "      <button class=\"colab-df-quickchart\" onclick=\"quickchart('df-4e4453a5-d628-4111-b177-88ac50d14046')\"\n",
              "              title=\"Suggest charts.\"\n",
              "              style=\"display:none;\">\n",
              "\n",
              "<svg xmlns=\"http://www.w3.org/2000/svg\" height=\"24px\"viewBox=\"0 0 24 24\"\n",
              "     width=\"24px\">\n",
              "    <g>\n",
              "        <path d=\"M19 3H5c-1.1 0-2 .9-2 2v14c0 1.1.9 2 2 2h14c1.1 0 2-.9 2-2V5c0-1.1-.9-2-2-2zM9 17H7v-7h2v7zm4 0h-2V7h2v10zm4 0h-2v-4h2v4z\"/>\n",
              "    </g>\n",
              "</svg>\n",
              "      </button>\n",
              "    </div>\n",
              "\n",
              "<style>\n",
              "  .colab-df-quickchart {\n",
              "    background-color: #E8F0FE;\n",
              "    border: none;\n",
              "    border-radius: 50%;\n",
              "    cursor: pointer;\n",
              "    display: none;\n",
              "    fill: #1967D2;\n",
              "    height: 32px;\n",
              "    padding: 0 0 0 0;\n",
              "    width: 32px;\n",
              "  }\n",
              "\n",
              "  .colab-df-quickchart:hover {\n",
              "    background-color: #E2EBFA;\n",
              "    box-shadow: 0px 1px 2px rgba(60, 64, 67, 0.3), 0px 1px 3px 1px rgba(60, 64, 67, 0.15);\n",
              "    fill: #174EA6;\n",
              "  }\n",
              "\n",
              "  [theme=dark] .colab-df-quickchart {\n",
              "    background-color: #3B4455;\n",
              "    fill: #D2E3FC;\n",
              "  }\n",
              "\n",
              "  [theme=dark] .colab-df-quickchart:hover {\n",
              "    background-color: #434B5C;\n",
              "    box-shadow: 0px 1px 3px 1px rgba(0, 0, 0, 0.15);\n",
              "    filter: drop-shadow(0px 1px 2px rgba(0, 0, 0, 0.3));\n",
              "    fill: #FFFFFF;\n",
              "  }\n",
              "</style>\n",
              "\n",
              "    <script>\n",
              "      async function quickchart(key) {\n",
              "        const containerElement = document.querySelector('#' + key);\n",
              "        const charts = await google.colab.kernel.invokeFunction(\n",
              "            'suggestCharts', [key], {});\n",
              "      }\n",
              "    </script>\n",
              "\n",
              "      <script>\n",
              "\n",
              "function displayQuickchartButton(domScope) {\n",
              "  let quickchartButtonEl =\n",
              "    domScope.querySelector('#df-4e4453a5-d628-4111-b177-88ac50d14046 button.colab-df-quickchart');\n",
              "  quickchartButtonEl.style.display =\n",
              "    google.colab.kernel.accessAllowed ? 'block' : 'none';\n",
              "}\n",
              "\n",
              "        displayQuickchartButton(document);\n",
              "      </script>\n",
              "      <style>\n",
              "    .colab-df-container {\n",
              "      display:flex;\n",
              "      flex-wrap:wrap;\n",
              "      gap: 12px;\n",
              "    }\n",
              "\n",
              "    .colab-df-convert {\n",
              "      background-color: #E8F0FE;\n",
              "      border: none;\n",
              "      border-radius: 50%;\n",
              "      cursor: pointer;\n",
              "      display: none;\n",
              "      fill: #1967D2;\n",
              "      height: 32px;\n",
              "      padding: 0 0 0 0;\n",
              "      width: 32px;\n",
              "    }\n",
              "\n",
              "    .colab-df-convert:hover {\n",
              "      background-color: #E2EBFA;\n",
              "      box-shadow: 0px 1px 2px rgba(60, 64, 67, 0.3), 0px 1px 3px 1px rgba(60, 64, 67, 0.15);\n",
              "      fill: #174EA6;\n",
              "    }\n",
              "\n",
              "    [theme=dark] .colab-df-convert {\n",
              "      background-color: #3B4455;\n",
              "      fill: #D2E3FC;\n",
              "    }\n",
              "\n",
              "    [theme=dark] .colab-df-convert:hover {\n",
              "      background-color: #434B5C;\n",
              "      box-shadow: 0px 1px 3px 1px rgba(0, 0, 0, 0.15);\n",
              "      filter: drop-shadow(0px 1px 2px rgba(0, 0, 0, 0.3));\n",
              "      fill: #FFFFFF;\n",
              "    }\n",
              "  </style>\n",
              "\n",
              "      <script>\n",
              "        const buttonEl =\n",
              "          document.querySelector('#df-f4e2e6bb-fe94-4c02-8727-418751aa0be8 button.colab-df-convert');\n",
              "        buttonEl.style.display =\n",
              "          google.colab.kernel.accessAllowed ? 'block' : 'none';\n",
              "\n",
              "        async function convertToInteractive(key) {\n",
              "          const element = document.querySelector('#df-f4e2e6bb-fe94-4c02-8727-418751aa0be8');\n",
              "          const dataTable =\n",
              "            await google.colab.kernel.invokeFunction('convertToInteractive',\n",
              "                                                     [key], {});\n",
              "          if (!dataTable) return;\n",
              "\n",
              "          const docLinkHtml = 'Like what you see? Visit the ' +\n",
              "            '<a target=\"_blank\" href=https://colab.research.google.com/notebooks/data_table.ipynb>data table notebook</a>'\n",
              "            + ' to learn more about interactive tables.';\n",
              "          element.innerHTML = '';\n",
              "          dataTable['output_type'] = 'display_data';\n",
              "          await google.colab.output.renderOutput(dataTable, element);\n",
              "          const docLink = document.createElement('div');\n",
              "          docLink.innerHTML = docLinkHtml;\n",
              "          element.appendChild(docLink);\n",
              "        }\n",
              "      </script>\n",
              "    </div>\n",
              "  </div>\n"
            ]
          },
          "metadata": {},
          "execution_count": 12
        }
      ],
      "source": [
        "# Faz um resumo estatístico do dataset\n",
        "dataset.describe(include = 'all')"
      ]
    },
    {
      "cell_type": "markdown",
      "source": [
        "É interessante observar que o imóvel mais cara custa 7,7 MM US$ e o que tem mais quartos possui 33. A próxima linha do código mostrará se trata da mesma casa.\n"
      ],
      "metadata": {
        "id": "seeUbx4_hCAQ"
      }
    },
    {
      "cell_type": "code",
      "source": [
        "# Checando se o imóvel mais caro possui mais quartos\n",
        "\n",
        "imovel_mais_caro = dataset.loc[dataset['price'] == 7.700000e+06]\n",
        "print(imovel_mais_caro)"
      ],
      "metadata": {
        "colab": {
          "base_uri": "https://localhost:8080/"
        },
        "id": "9aAiEXYdZpzK",
        "outputId": "7b5c7133-0f17-48ca-a31b-11f1f574d426"
      },
      "execution_count": 13,
      "outputs": [
        {
          "output_type": "stream",
          "name": "stdout",
          "text": [
            "          price  bedrooms  bathrooms  sqft_living  sqft_lot  floors  \\\n",
            "7252  7700000.0         6        8.0        12050     27600     2.5   \n",
            "\n",
            "      waterfront  view  condition  grade  sqft_above  sqft_basement  yr_built  \\\n",
            "7252           0     3          4     13      8570.0           3480      1910   \n",
            "\n",
            "          lat     long  sqft_living15  sqft_lot15  \n",
            "7252  47.6298 -122.323           3940        8800  \n"
          ]
        }
      ]
    },
    {
      "cell_type": "markdown",
      "source": [
        "O imóvel mais caro possui 6 quartos e 8 banheiros."
      ],
      "metadata": {
        "id": "1SVN9qhQaOJP"
      }
    },
    {
      "cell_type": "code",
      "source": [
        "# Checando quanto custa o imóvel com mais quartos\n",
        "\n",
        "imóvel_mais_quartos = dataset.loc[dataset['bedrooms'] == 33]\n",
        "print(imóvel_mais_quartos)"
      ],
      "metadata": {
        "colab": {
          "base_uri": "https://localhost:8080/"
        },
        "id": "Z5RcnKxmaK5q",
        "outputId": "9023c5ea-e155-4897-daf7-d59ddb47db63"
      },
      "execution_count": 14,
      "outputs": [
        {
          "output_type": "stream",
          "name": "stdout",
          "text": [
            "          price  bedrooms  bathrooms  sqft_living  sqft_lot  floors  \\\n",
            "15870  640000.0        33       1.75         1620      6000     1.0   \n",
            "\n",
            "       waterfront  view  condition  grade  sqft_above  sqft_basement  \\\n",
            "15870           0     0          5      7      1040.0            580   \n",
            "\n",
            "       yr_built      lat     long  sqft_living15  sqft_lot15  \n",
            "15870      1947  47.6878 -122.331           1330        4700  \n"
          ]
        }
      ]
    },
    {
      "cell_type": "markdown",
      "source": [
        "O imóvel com mais quartos custa US$ 640.000."
      ],
      "metadata": {
        "id": "SM7S9zNwa7G2"
      }
    },
    {
      "cell_type": "markdown",
      "source": [
        "#3.Preparação dos Dados"
      ],
      "metadata": {
        "id": "B3CdJzX01Upo"
      }
    },
    {
      "cell_type": "markdown",
      "source": [
        "Passo para construção de modelos de aprendizado de máquina, onde separamos as variáveis independentes (características ou atributos) das variáveis dependentes (rótulos ou saídas que queremos prever)."
      ],
      "metadata": {
        "id": "mtn1O3_vb9bL"
      }
    },
    {
      "cell_type": "markdown",
      "source": [
        "##3.1. Normalização"
      ],
      "metadata": {
        "id": "6e2Vv34RhxlE"
      }
    },
    {
      "cell_type": "markdown",
      "source": [
        "A normalização de dados consiste em remodelar colunas numéricas para uma escala padrão. A normalização coloca os dados no intervalo entre 0 e 1 ou -1 e 1, caso haja valores negativos, sem distorcer as diferenças nas faixas de valores. Ou seja, ela não retira os outliers (valores extremos)."
      ],
      "metadata": {
        "id": "N7uGzTBFcX3a"
      }
    },
    {
      "cell_type": "code",
      "source": [
        "# Separa as variáveis preditoras (ou características) do conjunto de dados\n",
        "# (representadas por X) e a variável de destino ou rótulo (representada por Y).\n",
        "X = dataset.drop('price', axis=1)\n",
        "Y = dataset['price']"
      ],
      "metadata": {
        "id": "JpbvMFQceLzT"
      },
      "execution_count": 15,
      "outputs": []
    },
    {
      "cell_type": "code",
      "source": [
        "# Normalização dos dados\n",
        "min_max_scaler = StandardScaler()\n",
        "X = min_max_scaler.fit_transform(X)"
      ],
      "metadata": {
        "id": "cYHqvP0RfJDA"
      },
      "execution_count": 16,
      "outputs": []
    },
    {
      "cell_type": "markdown",
      "source": [
        "##3.2. Base de Treino e Base de Teste"
      ],
      "metadata": {
        "id": "o0r99x6kdk9u"
      }
    },
    {
      "cell_type": "markdown",
      "source": [
        "Teste e treinamento de modelos fazem parte de uma técnica comum na ciência de dados e na aprendizagem de máquina. Envolve a divisão dos dados em dois conjuntos distintos: um conjunto de treinamento e um conjunto de teste. O conjunto de treinamento é usado para ajustar os parâmetros do modelo. O conjunto de teste é usado para avaliar a capacidade do modelo de generalizar, ou seja, sua capacidade de fazer previsões precisas em dados que não foram usados no treinamento."
      ],
      "metadata": {
        "id": "Cp79d6kGCI-B"
      }
    },
    {
      "cell_type": "code",
      "source": [
        "## A função train_test_split da biblioteca scikit-learn é usada para dividir os\n",
        "## dados em conjuntos de treinamento e teste. E é composta dos seguintes elementos:\n",
        "\n",
        "# X e Y são as variáveis de entrada e a variável alvo, respectivamente.\n",
        "# test_size=0.2 especifica que 20% dos dados serão usados para teste e 80% para treinamento.\n",
        "# random_state=26 define a semente aleatória como 20, garantindo que a divisão dos dados\n",
        "# seja a mesma toda vez que o código for executado. Isso é útil para reprodutibilidade.\n",
        "\n",
        "# A função retornará quatro conjuntos de dados:\n",
        "\n",
        "# X_train: O conjunto de treinamento de características, que conterá 80% dos dados originais.\n",
        "# X_test: O conjunto de teste de características, que conterá 20% dos dados originais.\n",
        "# y_train: A variável alvo do conjunto de treinamento, correspondente às características de X_train.\n",
        "# y_test: A variável alvo do conjunto de teste, correspondente às características de X_test.\n",
        "\n",
        "X_train, X_test, y_train, y_test = train_test_split(X, Y, test_size=0.2, random_state=26)\n",
        "print('treino:', len(y_train))\n",
        "print('teste:', len(y_test))"
      ],
      "metadata": {
        "colab": {
          "base_uri": "https://localhost:8080/"
        },
        "id": "-NVWpfo1fkTh",
        "outputId": "49d552b8-891b-4c44-db6c-ad0e32068831"
      },
      "execution_count": 17,
      "outputs": [
        {
          "output_type": "stream",
          "name": "stdout",
          "text": [
            "treino: 17288\n",
            "teste: 4323\n"
          ]
        }
      ]
    },
    {
      "cell_type": "markdown",
      "source": [
        "# 4.Visualização | Mapa de Calor\n"
      ],
      "metadata": {
        "id": "6Ip4g276ZwwN"
      }
    },
    {
      "cell_type": "markdown",
      "source": [
        "As visualizações ajudam a identificar padrões, tendências e anomalias nos dados, permitindo que se faça inferências e tome decisões."
      ],
      "metadata": {
        "id": "OXOWXWZ5c1wj"
      }
    },
    {
      "cell_type": "code",
      "source": [
        "# Visualização por meio do mapa de Calor\n",
        "# DataFrame.corr() calcula a correlação de pares de colunas, excluindo NaN e valores nulos.\n",
        "# Por padrão é computado a Correlação de Pearson, seu coeficiente de correlação mede a\n",
        "# relação estatística, ou associação, entre duas variáveis contínuas.\n",
        "\n",
        "corr = dataset.corr(method='pearson')\n",
        "\n",
        "plt.figure(figsize=(11,8))\n",
        "sns.heatmap(corr, annot=True, fmt='.2f', cmap='coolwarm')\n",
        "plt.show()\n",
        "# print(corr)\n"
      ],
      "metadata": {
        "colab": {
          "base_uri": "https://localhost:8080/",
          "height": 770
        },
        "id": "6dEOkV7VkCMx",
        "outputId": "f8bcfc38-a02d-4cf1-ecdb-6d6fe30077ce"
      },
      "execution_count": 18,
      "outputs": [
        {
          "output_type": "display_data",
          "data": {
            "text/plain": [
              "<Figure size 1100x800 with 2 Axes>"
            ],
            "image/png": "[encoded data removed]"
          },
          "metadata": {}
        }
      ]
    },
    {
      "cell_type": "markdown",
      "source": [
        "Dentro do esperado, o mapa de calor mostra a maior correlação para os atributos sqft_living (espaço interior) e\n",
        "sqft_above - (interior da casa, acima do nível do solo).\n",
        "As correlações baixas e negativas são reflexo da não relação, também esperada, das demais variáveis por não ter depedência entre elas."
      ],
      "metadata": {
        "id": "CVLu6GMyevwG"
      }
    },
    {
      "cell_type": "markdown",
      "source": [
        "#5.Regressão - Algoritmos de Machine Laearning"
      ],
      "metadata": {
        "id": "76cM32uO8BXo"
      }
    },
    {
      "cell_type": "code",
      "source": [
        "# Variável para armezenar os dados e mostrar o resultado final\n",
        "resultado = {}"
      ],
      "metadata": {
        "id": "ciaPoVIhnSz3"
      },
      "execution_count": 19,
      "outputs": []
    },
    {
      "cell_type": "markdown",
      "source": [
        "#5.1. Árvore de Decisão"
      ],
      "metadata": {
        "id": "c64giINbozm-"
      }
    },
    {
      "cell_type": "markdown",
      "source": [
        "A árvore de decisão é um algoritmo de aprendizado de máquina supervisionado que pode ser usado para tarefas de classificação e regressão. A árvore de decisão divide os dados com base em um conjunto de regras de decisão para tomar decisões preditivas."
      ],
      "metadata": {
        "id": "Nc0qoxXDgmQX"
      }
    },
    {
      "cell_type": "code",
      "source": [
        "# Definindo o Modelo de Árvore de Decisão\n",
        "modelo_01 = DecisionTreeRegressor(random_state=26)\n",
        "modelo_01.fit(X_train, y_train)"
      ],
      "metadata": {
        "colab": {
          "base_uri": "https://localhost:8080/",
          "height": 75
        },
        "id": "tucGMx4HybC6",
        "outputId": "97bc6a0b-67cd-4451-9e91-30b1797f76da"
      },
      "execution_count": 20,
      "outputs": [
        {
          "output_type": "execute_result",
          "data": {
            "text/plain": [
              "DecisionTreeRegressor(random_state=26)"
            ],
            "text/html": [
              "<style>#sk-container-id-1 {color: black;background-color: white;}#sk-container-id-1 pre{padding: 0;}#sk-container-id-1 div.sk-toggleable {background-color: white;}#sk-container-id-1 label.sk-toggleable__label {cursor: pointer;display: block;width: 100%;margin-bottom: 0;padding: 0.3em;box-sizing: border-box;text-align: center;}#sk-container-id-1 label.sk-toggleable__label-arrow:before {content: \"▸\";float: left;margin-right: 0.25em;color: #696969;}#sk-container-id-1 label.sk-toggleable__label-arrow:hover:before {color: black;}#sk-container-id-1 div.sk-estimator:hover label.sk-toggleable__label-arrow:before {color: black;}#sk-container-id-1 div.sk-toggleable__content {max-height: 0;max-width: 0;overflow: hidden;text-align: left;background-color: #f0f8ff;}#sk-container-id-1 div.sk-toggleable__content pre {margin: 0.2em;color: black;border-radius: 0.25em;background-color: #f0f8ff;}#sk-container-id-1 input.sk-toggleable__control:checked~div.sk-toggleable__content {max-height: 200px;max-width: 100%;overflow: auto;}#sk-container-id-1 input.sk-toggleable__control:checked~label.sk-toggleable__label-arrow:before {content: \"▾\";}#sk-container-id-1 div.sk-estimator input.sk-toggleable__control:checked~label.sk-toggleable__label {background-color: #d4ebff;}#sk-container-id-1 div.sk-label input.sk-toggleable__control:checked~label.sk-toggleable__label {background-color: #d4ebff;}#sk-container-id-1 input.sk-hidden--visually {border: 0;clip: rect(1px 1px 1px 1px);clip: rect(1px, 1px, 1px, 1px);height: 1px;margin: -1px;overflow: hidden;padding: 0;position: absolute;width: 1px;}#sk-container-id-1 div.sk-estimator {font-family: monospace;background-color: #f0f8ff;border: 1px dotted black;border-radius: 0.25em;box-sizing: border-box;margin-bottom: 0.5em;}#sk-container-id-1 div.sk-estimator:hover {background-color: #d4ebff;}#sk-container-id-1 div.sk-parallel-item::after {content: \"\";width: 100%;border-bottom: 1px solid gray;flex-grow: 1;}#sk-container-id-1 div.sk-label:hover label.sk-toggleable__label {background-color: #d4ebff;}#sk-container-id-1 div.sk-serial::before {content: \"\";position: absolute;border-left: 1px solid gray;box-sizing: border-box;top: 0;bottom: 0;left: 50%;z-index: 0;}#sk-container-id-1 div.sk-serial {display: flex;flex-direction: column;align-items: center;background-color: white;padding-right: 0.2em;padding-left: 0.2em;position: relative;}#sk-container-id-1 div.sk-item {position: relative;z-index: 1;}#sk-container-id-1 div.sk-parallel {display: flex;align-items: stretch;justify-content: center;background-color: white;position: relative;}#sk-container-id-1 div.sk-item::before, #sk-container-id-1 div.sk-parallel-item::before {content: \"\";position: absolute;border-left: 1px solid gray;box-sizing: border-box;top: 0;bottom: 0;left: 50%;z-index: -1;}#sk-container-id-1 div.sk-parallel-item {display: flex;flex-direction: column;z-index: 1;position: relative;background-color: white;}#sk-container-id-1 div.sk-parallel-item:first-child::after {align-self: flex-end;width: 50%;}#sk-container-id-1 div.sk-parallel-item:last-child::after {align-self: flex-start;width: 50%;}#sk-container-id-1 div.sk-parallel-item:only-child::after {width: 0;}#sk-container-id-1 div.sk-dashed-wrapped {border: 1px dashed gray;margin: 0 0.4em 0.5em 0.4em;box-sizing: border-box;padding-bottom: 0.4em;background-color: white;}#sk-container-id-1 div.sk-label label {font-family: monospace;font-weight: bold;display: inline-block;line-height: 1.2em;}#sk-container-id-1 div.sk-label-container {text-align: center;}#sk-container-id-1 div.sk-container {/* jupyter's `normalize.less` sets `[hidden] { display: none; }` but bootstrap.min.css set `[hidden] { display: none !important; }` so we also need the `!important` here to be able to override the default hidden behavior on the sphinx rendered scikit-learn.org. See: https://github.com/scikit-learn/scikit-learn/issues/21755 */display: inline-block !important;position: relative;}#sk-container-id-1 div.sk-text-repr-fallback {display: none;}</style><div id=\"sk-container-id-1\" class=\"sk-top-container\"><div class=\"sk-text-repr-fallback\"><pre>DecisionTreeRegressor(random_state=26)</pre><b>In a Jupyter environment, please rerun this cell to show the HTML representation or trust the notebook. <br />On GitHub, the HTML representation is unable to render, please try loading this page with nbviewer.org.</b></div><div class=\"sk-container\" hidden><div class=\"sk-item\"><div class=\"sk-estimator sk-toggleable\"><input class=\"sk-toggleable__control sk-hidden--visually\" id=\"sk-estimator-id-1\" type=\"checkbox\" checked><label for=\"sk-estimator-id-1\" class=\"sk-toggleable__label sk-toggleable__label-arrow\">DecisionTreeRegressor</label><div class=\"sk-toggleable__content\"><pre>DecisionTreeRegressor(random_state=26)</pre></div></div></div></div></div>"
            ]
          },
          "metadata": {},
          "execution_count": 20
        }
      ]
    },
    {
      "cell_type": "markdown",
      "source": [
        "#5.1.a. Árvore de Decisão - Previsão"
      ],
      "metadata": {
        "id": "SqFlgGnDKdKm"
      }
    },
    {
      "cell_type": "code",
      "source": [
        "# Usando o Modelo_01 para fazer previsões nos dados de teste X_test\n",
        "y_pred = modelo_01.predict(X_test)"
      ],
      "metadata": {
        "id": "8D8k-GkaKu3t"
      },
      "execution_count": 21,
      "outputs": []
    },
    {
      "cell_type": "code",
      "source": [
        "r2 = r2_score(y_test,y_pred) # calcula o coeficiente de determinação R²\n",
        "mae = mean_absolute_error(y_test,y_pred) # calcula o erro médio absoluto (MAE)\n",
        "mse = mean_squared_error(y_test,y_pred, squared=True) # calcula o erro médio quadrático (MSE)\n",
        "rmse = mean_squared_error(y_test,y_pred, squared=False) # calcula a raiz quadrada do erro médio quadrático (RMSE)"
      ],
      "metadata": {
        "id": "1tkONqiNNgLX"
      },
      "execution_count": 22,
      "outputs": []
    },
    {
      "cell_type": "markdown",
      "source": [
        "#5.1.b. Árvore de Decisão - Armazenamento do Resultado"
      ],
      "metadata": {
        "id": "j-B13RkJKj-v"
      }
    },
    {
      "cell_type": "code",
      "source": [
        "resultado['Árvore de Decisão'] = {'R2':r2, 'MAE':mae, 'MSE':mse, 'RMSE':rmse}\n",
        "\n",
        "print('R2  :',r2)\n",
        "print('MAE :',mae)\n",
        "print('MSE :',mse)\n",
        "print('RMSE:',rmse)"
      ],
      "metadata": {
        "colab": {
          "base_uri": "https://localhost:8080/"
        },
        "id": "5BkDz3CGOl6J",
        "outputId": "8fe1ef88-e6bb-460f-8725-8b01cf6ca903"
      },
      "execution_count": 23,
      "outputs": [
        {
          "output_type": "stream",
          "name": "stdout",
          "text": [
            "R2  : 0.7124933121167488\n",
            "MAE : 101237.07587323617\n",
            "MSE : 35296307596.01399\n",
            "RMSE: 187873.11568187183\n"
          ]
        }
      ]
    },
    {
      "cell_type": "markdown",
      "source": [
        "#5.2. Random Forest"
      ],
      "metadata": {
        "id": "p9rroSLfo9-L"
      }
    },
    {
      "cell_type": "markdown",
      "source": [
        "Random Forest é um algoritmo de aprendizado de máquina que combina várias árvores de decisão para realizar tarefas de classificação e regressão. Em vez de confiar em uma única árvore de decisão, o Random Forest cria um conjunto de árvores de decisão e faz a previsão com base na média ou na maioria das previsões dessas árvores."
      ],
      "metadata": {
        "id": "QCyscX1pgy_4"
      }
    },
    {
      "cell_type": "code",
      "source": [
        "# Definindo o Modelo de Random Forest\n",
        "modelo_02 = RandomForestRegressor(n_estimators=100, random_state=26)\n",
        "modelo_02.fit(X_train, y_train)"
      ],
      "metadata": {
        "colab": {
          "base_uri": "https://localhost:8080/",
          "height": 75
        },
        "id": "3fKaT1aySA6l",
        "outputId": "b3fe54b4-0449-4c9f-a7d6-f63f38816bcc"
      },
      "execution_count": 24,
      "outputs": [
        {
          "output_type": "execute_result",
          "data": {
            "text/plain": [
              "RandomForestRegressor(random_state=26)"
            ],
            "text/html": [
              "<style>#sk-container-id-2 {color: black;background-color: white;}#sk-container-id-2 pre{padding: 0;}#sk-container-id-2 div.sk-toggleable {background-color: white;}#sk-container-id-2 label.sk-toggleable__label {cursor: pointer;display: block;width: 100%;margin-bottom: 0;padding: 0.3em;box-sizing: border-box;text-align: center;}#sk-container-id-2 label.sk-toggleable__label-arrow:before {content: \"▸\";float: left;margin-right: 0.25em;color: #696969;}#sk-container-id-2 label.sk-toggleable__label-arrow:hover:before {color: black;}#sk-container-id-2 div.sk-estimator:hover label.sk-toggleable__label-arrow:before {color: black;}#sk-container-id-2 div.sk-toggleable__content {max-height: 0;max-width: 0;overflow: hidden;text-align: left;background-color: #f0f8ff;}#sk-container-id-2 div.sk-toggleable__content pre {margin: 0.2em;color: black;border-radius: 0.25em;background-color: #f0f8ff;}#sk-container-id-2 input.sk-toggleable__control:checked~div.sk-toggleable__content {max-height: 200px;max-width: 100%;overflow: auto;}#sk-container-id-2 input.sk-toggleable__control:checked~label.sk-toggleable__label-arrow:before {content: \"▾\";}#sk-container-id-2 div.sk-estimator input.sk-toggleable__control:checked~label.sk-toggleable__label {background-color: #d4ebff;}#sk-container-id-2 div.sk-label input.sk-toggleable__control:checked~label.sk-toggleable__label {background-color: #d4ebff;}#sk-container-id-2 input.sk-hidden--visually {border: 0;clip: rect(1px 1px 1px 1px);clip: rect(1px, 1px, 1px, 1px);height: 1px;margin: -1px;overflow: hidden;padding: 0;position: absolute;width: 1px;}#sk-container-id-2 div.sk-estimator {font-family: monospace;background-color: #f0f8ff;border: 1px dotted black;border-radius: 0.25em;box-sizing: border-box;margin-bottom: 0.5em;}#sk-container-id-2 div.sk-estimator:hover {background-color: #d4ebff;}#sk-container-id-2 div.sk-parallel-item::after {content: \"\";width: 100%;border-bottom: 1px solid gray;flex-grow: 1;}#sk-container-id-2 div.sk-label:hover label.sk-toggleable__label {background-color: #d4ebff;}#sk-container-id-2 div.sk-serial::before {content: \"\";position: absolute;border-left: 1px solid gray;box-sizing: border-box;top: 0;bottom: 0;left: 50%;z-index: 0;}#sk-container-id-2 div.sk-serial {display: flex;flex-direction: column;align-items: center;background-color: white;padding-right: 0.2em;padding-left: 0.2em;position: relative;}#sk-container-id-2 div.sk-item {position: relative;z-index: 1;}#sk-container-id-2 div.sk-parallel {display: flex;align-items: stretch;justify-content: center;background-color: white;position: relative;}#sk-container-id-2 div.sk-item::before, #sk-container-id-2 div.sk-parallel-item::before {content: \"\";position: absolute;border-left: 1px solid gray;box-sizing: border-box;top: 0;bottom: 0;left: 50%;z-index: -1;}#sk-container-id-2 div.sk-parallel-item {display: flex;flex-direction: column;z-index: 1;position: relative;background-color: white;}#sk-container-id-2 div.sk-parallel-item:first-child::after {align-self: flex-end;width: 50%;}#sk-container-id-2 div.sk-parallel-item:last-child::after {align-self: flex-start;width: 50%;}#sk-container-id-2 div.sk-parallel-item:only-child::after {width: 0;}#sk-container-id-2 div.sk-dashed-wrapped {border: 1px dashed gray;margin: 0 0.4em 0.5em 0.4em;box-sizing: border-box;padding-bottom: 0.4em;background-color: white;}#sk-container-id-2 div.sk-label label {font-family: monospace;font-weight: bold;display: inline-block;line-height: 1.2em;}#sk-container-id-2 div.sk-label-container {text-align: center;}#sk-container-id-2 div.sk-container {/* jupyter's `normalize.less` sets `[hidden] { display: none; }` but bootstrap.min.css set `[hidden] { display: none !important; }` so we also need the `!important` here to be able to override the default hidden behavior on the sphinx rendered scikit-learn.org. See: https://github.com/scikit-learn/scikit-learn/issues/21755 */display: inline-block !important;position: relative;}#sk-container-id-2 div.sk-text-repr-fallback {display: none;}</style><div id=\"sk-container-id-2\" class=\"sk-top-container\"><div class=\"sk-text-repr-fallback\"><pre>RandomForestRegressor(random_state=26)</pre><b>In a Jupyter environment, please rerun this cell to show the HTML representation or trust the notebook. <br />On GitHub, the HTML representation is unable to render, please try loading this page with nbviewer.org.</b></div><div class=\"sk-container\" hidden><div class=\"sk-item\"><div class=\"sk-estimator sk-toggleable\"><input class=\"sk-toggleable__control sk-hidden--visually\" id=\"sk-estimator-id-2\" type=\"checkbox\" checked><label for=\"sk-estimator-id-2\" class=\"sk-toggleable__label sk-toggleable__label-arrow\">RandomForestRegressor</label><div class=\"sk-toggleable__content\"><pre>RandomForestRegressor(random_state=26)</pre></div></div></div></div></div>"
            ]
          },
          "metadata": {},
          "execution_count": 24
        }
      ]
    },
    {
      "cell_type": "markdown",
      "source": [
        "#5.2.a. Random Forest - Previsão"
      ],
      "metadata": {
        "id": "l9tHksnDQSkN"
      }
    },
    {
      "cell_type": "code",
      "source": [
        "# Usando o Modelo_02 para fazer previsões nos dados de teste X_test\n",
        "y_pred = modelo_02.predict(X_test)"
      ],
      "metadata": {
        "id": "yN7nw5VDVSuB"
      },
      "execution_count": 25,
      "outputs": []
    },
    {
      "cell_type": "code",
      "source": [
        "r2 = r2_score(y_test,y_pred) # calcula o coeficiente de determinação R²\n",
        "mae = mean_absolute_error(y_test,y_pred) # calcula o erro médio absoluto (MAE)\n",
        "mse = mean_squared_error(y_test,y_pred, squared=True) # calcula o erro médio quadrático (MSE)\n",
        "rmse = mean_squared_error(y_test,y_pred, squared=False) # calcula a raiz quadrada do erro médio quadrático (RMSE)"
      ],
      "metadata": {
        "id": "xbG_i1juYBZb"
      },
      "execution_count": 26,
      "outputs": []
    },
    {
      "cell_type": "markdown",
      "source": [
        "#5.2.b. Random Forest - Armazenamento do Resultado"
      ],
      "metadata": {
        "id": "K6YV91QBRHzo"
      }
    },
    {
      "cell_type": "code",
      "source": [
        "resultado['Random Forest'] = {'R2':r2, 'MAE':mae, 'MSE':mse, 'RMSE':rmse}\n",
        "\n",
        "print('R2  :',r2)\n",
        "print('MAE :',mae)\n",
        "print('MSE :',mse)\n",
        "print('RMSE:',rmse)"
      ],
      "metadata": {
        "colab": {
          "base_uri": "https://localhost:8080/"
        },
        "id": "uB7-H4KwYYUv",
        "outputId": "f5657900-e208-4b11-f079-f129a55a45e3"
      },
      "execution_count": 27,
      "outputs": [
        {
          "output_type": "stream",
          "name": "stdout",
          "text": [
            "R2  : 0.8868692109486765\n",
            "MAE : 68391.40051320732\n",
            "MSE : 13888717366.313154\n",
            "RMSE: 117850.4024868526\n"
          ]
        }
      ]
    },
    {
      "cell_type": "markdown",
      "source": [
        "#5.3. Bagging"
      ],
      "metadata": {
        "id": "jxfTd7yQpC9a"
      }
    },
    {
      "cell_type": "markdown",
      "source": [
        "Bagging (Bootstrap Aggregating) é uma técnica de aprendizado de máquina que utiliza o conceito de ensemble learning (aprendizado em conjunto) para melhorar o desempenho e a robustez dos modelos."
      ],
      "metadata": {
        "id": "PPuvC5BtiDxA"
      }
    },
    {
      "cell_type": "code",
      "source": [
        "# Definindo o Modelo de Bagging\n",
        "modelo_base = DecisionTreeRegressor(random_state=26)\n",
        "modelo_03 = BaggingRegressor(base_estimator=modelo_base, n_estimators=10, random_state=26)\n",
        "modelo_03.fit(X_train, y_train)"
      ],
      "metadata": {
        "colab": {
          "base_uri": "https://localhost:8080/",
          "height": 118
        },
        "id": "68LM2wQfS-mt",
        "outputId": "b36ccc35-f627-4279-aed2-34f77f7c3c3f"
      },
      "execution_count": 28,
      "outputs": [
        {
          "output_type": "execute_result",
          "data": {
            "text/plain": [
              "BaggingRegressor(base_estimator=DecisionTreeRegressor(random_state=26),\n",
              "                 random_state=26)"
            ],
            "text/html": [
              "<style>#sk-container-id-3 {color: black;background-color: white;}#sk-container-id-3 pre{padding: 0;}#sk-container-id-3 div.sk-toggleable {background-color: white;}#sk-container-id-3 label.sk-toggleable__label {cursor: pointer;display: block;width: 100%;margin-bottom: 0;padding: 0.3em;box-sizing: border-box;text-align: center;}#sk-container-id-3 label.sk-toggleable__label-arrow:before {content: \"▸\";float: left;margin-right: 0.25em;color: #696969;}#sk-container-id-3 label.sk-toggleable__label-arrow:hover:before {color: black;}#sk-container-id-3 div.sk-estimator:hover label.sk-toggleable__label-arrow:before {color: black;}#sk-container-id-3 div.sk-toggleable__content {max-height: 0;max-width: 0;overflow: hidden;text-align: left;background-color: #f0f8ff;}#sk-container-id-3 div.sk-toggleable__content pre {margin: 0.2em;color: black;border-radius: 0.25em;background-color: #f0f8ff;}#sk-container-id-3 input.sk-toggleable__control:checked~div.sk-toggleable__content {max-height: 200px;max-width: 100%;overflow: auto;}#sk-container-id-3 input.sk-toggleable__control:checked~label.sk-toggleable__label-arrow:before {content: \"▾\";}#sk-container-id-3 div.sk-estimator input.sk-toggleable__control:checked~label.sk-toggleable__label {background-color: #d4ebff;}#sk-container-id-3 div.sk-label input.sk-toggleable__control:checked~label.sk-toggleable__label {background-color: #d4ebff;}#sk-container-id-3 input.sk-hidden--visually {border: 0;clip: rect(1px 1px 1px 1px);clip: rect(1px, 1px, 1px, 1px);height: 1px;margin: -1px;overflow: hidden;padding: 0;position: absolute;width: 1px;}#sk-container-id-3 div.sk-estimator {font-family: monospace;background-color: #f0f8ff;border: 1px dotted black;border-radius: 0.25em;box-sizing: border-box;margin-bottom: 0.5em;}#sk-container-id-3 div.sk-estimator:hover {background-color: #d4ebff;}#sk-container-id-3 div.sk-parallel-item::after {content: \"\";width: 100%;border-bottom: 1px solid gray;flex-grow: 1;}#sk-container-id-3 div.sk-label:hover label.sk-toggleable__label {background-color: #d4ebff;}#sk-container-id-3 div.sk-serial::before {content: \"\";position: absolute;border-left: 1px solid gray;box-sizing: border-box;top: 0;bottom: 0;left: 50%;z-index: 0;}#sk-container-id-3 div.sk-serial {display: flex;flex-direction: column;align-items: center;background-color: white;padding-right: 0.2em;padding-left: 0.2em;position: relative;}#sk-container-id-3 div.sk-item {position: relative;z-index: 1;}#sk-container-id-3 div.sk-parallel {display: flex;align-items: stretch;justify-content: center;background-color: white;position: relative;}#sk-container-id-3 div.sk-item::before, #sk-container-id-3 div.sk-parallel-item::before {content: \"\";position: absolute;border-left: 1px solid gray;box-sizing: border-box;top: 0;bottom: 0;left: 50%;z-index: -1;}#sk-container-id-3 div.sk-parallel-item {display: flex;flex-direction: column;z-index: 1;position: relative;background-color: white;}#sk-container-id-3 div.sk-parallel-item:first-child::after {align-self: flex-end;width: 50%;}#sk-container-id-3 div.sk-parallel-item:last-child::after {align-self: flex-start;width: 50%;}#sk-container-id-3 div.sk-parallel-item:only-child::after {width: 0;}#sk-container-id-3 div.sk-dashed-wrapped {border: 1px dashed gray;margin: 0 0.4em 0.5em 0.4em;box-sizing: border-box;padding-bottom: 0.4em;background-color: white;}#sk-container-id-3 div.sk-label label {font-family: monospace;font-weight: bold;display: inline-block;line-height: 1.2em;}#sk-container-id-3 div.sk-label-container {text-align: center;}#sk-container-id-3 div.sk-container {/* jupyter's `normalize.less` sets `[hidden] { display: none; }` but bootstrap.min.css set `[hidden] { display: none !important; }` so we also need the `!important` here to be able to override the default hidden behavior on the sphinx rendered scikit-learn.org. See: https://github.com/scikit-learn/scikit-learn/issues/21755 */display: inline-block !important;position: relative;}#sk-container-id-3 div.sk-text-repr-fallback {display: none;}</style><div id=\"sk-container-id-3\" class=\"sk-top-container\"><div class=\"sk-text-repr-fallback\"><pre>BaggingRegressor(base_estimator=DecisionTreeRegressor(random_state=26),\n",
              "                 random_state=26)</pre><b>In a Jupyter environment, please rerun this cell to show the HTML representation or trust the notebook. <br />On GitHub, the HTML representation is unable to render, please try loading this page with nbviewer.org.</b></div><div class=\"sk-container\" hidden><div class=\"sk-item sk-dashed-wrapped\"><div class=\"sk-label-container\"><div class=\"sk-label sk-toggleable\"><input class=\"sk-toggleable__control sk-hidden--visually\" id=\"sk-estimator-id-3\" type=\"checkbox\" ><label for=\"sk-estimator-id-3\" class=\"sk-toggleable__label sk-toggleable__label-arrow\">BaggingRegressor</label><div class=\"sk-toggleable__content\"><pre>BaggingRegressor(base_estimator=DecisionTreeRegressor(random_state=26),\n",
              "                 random_state=26)</pre></div></div></div><div class=\"sk-parallel\"><div class=\"sk-parallel-item\"><div class=\"sk-item\"><div class=\"sk-label-container\"><div class=\"sk-label sk-toggleable\"><input class=\"sk-toggleable__control sk-hidden--visually\" id=\"sk-estimator-id-4\" type=\"checkbox\" ><label for=\"sk-estimator-id-4\" class=\"sk-toggleable__label sk-toggleable__label-arrow\">base_estimator: DecisionTreeRegressor</label><div class=\"sk-toggleable__content\"><pre>DecisionTreeRegressor(random_state=26)</pre></div></div></div><div class=\"sk-serial\"><div class=\"sk-item\"><div class=\"sk-estimator sk-toggleable\"><input class=\"sk-toggleable__control sk-hidden--visually\" id=\"sk-estimator-id-5\" type=\"checkbox\" ><label for=\"sk-estimator-id-5\" class=\"sk-toggleable__label sk-toggleable__label-arrow\">DecisionTreeRegressor</label><div class=\"sk-toggleable__content\"><pre>DecisionTreeRegressor(random_state=26)</pre></div></div></div></div></div></div></div></div></div></div>"
            ]
          },
          "metadata": {},
          "execution_count": 28
        }
      ]
    },
    {
      "cell_type": "markdown",
      "source": [
        "#5.3.a. Bagging - Previsão"
      ],
      "metadata": {
        "id": "PbnU8d26QdIz"
      }
    },
    {
      "cell_type": "code",
      "source": [
        "# Usando o Modelo_03 para fazer previsões nos dados de teste X_test\n",
        "y_pred = modelo_03.predict(X_test)"
      ],
      "metadata": {
        "id": "FKfALiA9VYKZ"
      },
      "execution_count": 29,
      "outputs": []
    },
    {
      "cell_type": "code",
      "source": [
        "r2 = r2_score(y_test,y_pred) # calcula o coeficiente de determinação R²\n",
        "mae = mean_absolute_error(y_test,y_pred) # calcula o erro médio absoluto (MAE)\n",
        "mse = mean_squared_error(y_test,y_pred, squared=True) # calcula o erro médio quadrático (MSE)\n",
        "rmse = mean_squared_error(y_test,y_pred, squared=False) # calcula a raiz quadrada do erro médio quadrático (RMSE)"
      ],
      "metadata": {
        "id": "axQl1AmNW5j-"
      },
      "execution_count": 30,
      "outputs": []
    },
    {
      "cell_type": "markdown",
      "source": [
        "#5.3.b. Bagging - Armazenamento do Resultado"
      ],
      "metadata": {
        "id": "QOF0fj1iROjl"
      }
    },
    {
      "cell_type": "code",
      "source": [
        "resultado['Bagging'] = {'R2':r2, 'MAE':mae, 'MSE':mse, 'RMSE':rmse}\n",
        "\n",
        "print('R2  :',r2)\n",
        "print('MAE :',mae)\n",
        "print('MSE :',mse)\n",
        "print('RMSE:',rmse)"
      ],
      "metadata": {
        "colab": {
          "base_uri": "https://localhost:8080/"
        },
        "id": "pEFI2o5dYj4p",
        "outputId": "6075d471-3b4f-422f-c3cf-7b6521b09573"
      },
      "execution_count": 31,
      "outputs": [
        {
          "output_type": "stream",
          "name": "stdout",
          "text": [
            "R2  : 0.8705834220657769\n",
            "MAE : 72623.02107415485\n",
            "MSE : 15888073339.86183\n",
            "RMSE: 126047.90097364505\n"
          ]
        }
      ]
    },
    {
      "cell_type": "markdown",
      "source": [
        "#5.4. K-NN (k-Nearest Neighbors)"
      ],
      "metadata": {
        "id": "sGP0lxZNoGJE"
      }
    },
    {
      "cell_type": "markdown",
      "source": [
        "K-NN (K-Nearest Neighbors) é um algoritmo de aprendizado de máquina supervisionado utilizado para classificação e regressão. O K-NN classifica ou prevê novos pontos de dados com base na proximidade com os vizinhos mais próximos no conjunto de dados de treinamento."
      ],
      "metadata": {
        "id": "qjYGy_HGi4sP"
      }
    },
    {
      "cell_type": "code",
      "source": [
        "# Definindo o Modelo de KNN\n",
        "modelo_04 = KNeighborsRegressor(n_neighbors=3,metric='euclidean')\n",
        "modelo_04.fit(X_train,y_train)"
      ],
      "metadata": {
        "colab": {
          "base_uri": "https://localhost:8080/",
          "height": 75
        },
        "id": "Cgw6WLiVTZb4",
        "outputId": "e8256243-cbe1-4910-8822-3284f828dd35"
      },
      "execution_count": 32,
      "outputs": [
        {
          "output_type": "execute_result",
          "data": {
            "text/plain": [
              "KNeighborsRegressor(metric='euclidean', n_neighbors=3)"
            ],
            "text/html": [
              "<style>#sk-container-id-4 {color: black;background-color: white;}#sk-container-id-4 pre{padding: 0;}#sk-container-id-4 div.sk-toggleable {background-color: white;}#sk-container-id-4 label.sk-toggleable__label {cursor: pointer;display: block;width: 100%;margin-bottom: 0;padding: 0.3em;box-sizing: border-box;text-align: center;}#sk-container-id-4 label.sk-toggleable__label-arrow:before {content: \"▸\";float: left;margin-right: 0.25em;color: #696969;}#sk-container-id-4 label.sk-toggleable__label-arrow:hover:before {color: black;}#sk-container-id-4 div.sk-estimator:hover label.sk-toggleable__label-arrow:before {color: black;}#sk-container-id-4 div.sk-toggleable__content {max-height: 0;max-width: 0;overflow: hidden;text-align: left;background-color: #f0f8ff;}#sk-container-id-4 div.sk-toggleable__content pre {margin: 0.2em;color: black;border-radius: 0.25em;background-color: #f0f8ff;}#sk-container-id-4 input.sk-toggleable__control:checked~div.sk-toggleable__content {max-height: 200px;max-width: 100%;overflow: auto;}#sk-container-id-4 input.sk-toggleable__control:checked~label.sk-toggleable__label-arrow:before {content: \"▾\";}#sk-container-id-4 div.sk-estimator input.sk-toggleable__control:checked~label.sk-toggleable__label {background-color: #d4ebff;}#sk-container-id-4 div.sk-label input.sk-toggleable__control:checked~label.sk-toggleable__label {background-color: #d4ebff;}#sk-container-id-4 input.sk-hidden--visually {border: 0;clip: rect(1px 1px 1px 1px);clip: rect(1px, 1px, 1px, 1px);height: 1px;margin: -1px;overflow: hidden;padding: 0;position: absolute;width: 1px;}#sk-container-id-4 div.sk-estimator {font-family: monospace;background-color: #f0f8ff;border: 1px dotted black;border-radius: 0.25em;box-sizing: border-box;margin-bottom: 0.5em;}#sk-container-id-4 div.sk-estimator:hover {background-color: #d4ebff;}#sk-container-id-4 div.sk-parallel-item::after {content: \"\";width: 100%;border-bottom: 1px solid gray;flex-grow: 1;}#sk-container-id-4 div.sk-label:hover label.sk-toggleable__label {background-color: #d4ebff;}#sk-container-id-4 div.sk-serial::before {content: \"\";position: absolute;border-left: 1px solid gray;box-sizing: border-box;top: 0;bottom: 0;left: 50%;z-index: 0;}#sk-container-id-4 div.sk-serial {display: flex;flex-direction: column;align-items: center;background-color: white;padding-right: 0.2em;padding-left: 0.2em;position: relative;}#sk-container-id-4 div.sk-item {position: relative;z-index: 1;}#sk-container-id-4 div.sk-parallel {display: flex;align-items: stretch;justify-content: center;background-color: white;position: relative;}#sk-container-id-4 div.sk-item::before, #sk-container-id-4 div.sk-parallel-item::before {content: \"\";position: absolute;border-left: 1px solid gray;box-sizing: border-box;top: 0;bottom: 0;left: 50%;z-index: -1;}#sk-container-id-4 div.sk-parallel-item {display: flex;flex-direction: column;z-index: 1;position: relative;background-color: white;}#sk-container-id-4 div.sk-parallel-item:first-child::after {align-self: flex-end;width: 50%;}#sk-container-id-4 div.sk-parallel-item:last-child::after {align-self: flex-start;width: 50%;}#sk-container-id-4 div.sk-parallel-item:only-child::after {width: 0;}#sk-container-id-4 div.sk-dashed-wrapped {border: 1px dashed gray;margin: 0 0.4em 0.5em 0.4em;box-sizing: border-box;padding-bottom: 0.4em;background-color: white;}#sk-container-id-4 div.sk-label label {font-family: monospace;font-weight: bold;display: inline-block;line-height: 1.2em;}#sk-container-id-4 div.sk-label-container {text-align: center;}#sk-container-id-4 div.sk-container {/* jupyter's `normalize.less` sets `[hidden] { display: none; }` but bootstrap.min.css set `[hidden] { display: none !important; }` so we also need the `!important` here to be able to override the default hidden behavior on the sphinx rendered scikit-learn.org. See: https://github.com/scikit-learn/scikit-learn/issues/21755 */display: inline-block !important;position: relative;}#sk-container-id-4 div.sk-text-repr-fallback {display: none;}</style><div id=\"sk-container-id-4\" class=\"sk-top-container\"><div class=\"sk-text-repr-fallback\"><pre>KNeighborsRegressor(metric=&#x27;euclidean&#x27;, n_neighbors=3)</pre><b>In a Jupyter environment, please rerun this cell to show the HTML representation or trust the notebook. <br />On GitHub, the HTML representation is unable to render, please try loading this page with nbviewer.org.</b></div><div class=\"sk-container\" hidden><div class=\"sk-item\"><div class=\"sk-estimator sk-toggleable\"><input class=\"sk-toggleable__control sk-hidden--visually\" id=\"sk-estimator-id-6\" type=\"checkbox\" checked><label for=\"sk-estimator-id-6\" class=\"sk-toggleable__label sk-toggleable__label-arrow\">KNeighborsRegressor</label><div class=\"sk-toggleable__content\"><pre>KNeighborsRegressor(metric=&#x27;euclidean&#x27;, n_neighbors=3)</pre></div></div></div></div></div>"
            ]
          },
          "metadata": {},
          "execution_count": 32
        }
      ]
    },
    {
      "cell_type": "markdown",
      "source": [
        "#5.4.a. K-NN (k-Nearest Neighbors) - Previsão"
      ],
      "metadata": {
        "id": "n0SP4WfTQmxk"
      }
    },
    {
      "cell_type": "code",
      "source": [
        "# Usando o Modelo_04 para fazer previsões nos dados de teste X_test\n",
        "y_pred = modelo_04.predict(X_test)"
      ],
      "metadata": {
        "id": "N6OuVq3mVhC7"
      },
      "execution_count": 33,
      "outputs": []
    },
    {
      "cell_type": "code",
      "source": [
        "r2 = r2_score(y_test,y_pred) # calcula o coeficiente de determinação R²\n",
        "mae = mean_absolute_error(y_test,y_pred) # calcula o erro médio absoluto (MAE)\n",
        "mse = mean_squared_error(y_test,y_pred, squared=True) # calcula o erro médio quadrático (MSE)\n",
        "rmse = mean_squared_error(y_test,y_pred, squared=False) # calcula a raiz quadrada do erro médio quadrático (RMSE)"
      ],
      "metadata": {
        "id": "shTuarX5W9rI"
      },
      "execution_count": 34,
      "outputs": []
    },
    {
      "cell_type": "markdown",
      "source": [
        "#5.4.b. K-NN (k-Nearest Neighbors) - Armazenamento do Resultado"
      ],
      "metadata": {
        "id": "rPRMtXrgWHzx"
      }
    },
    {
      "cell_type": "code",
      "source": [
        "resultado['K-NN'] = {'R2':r2, 'MAE':mae, 'MSE':mse, 'RMSE':rmse}\n",
        "\n",
        "print('R2  :',r2)\n",
        "print('MAE :',mae)\n",
        "print('MSE :',mse)\n",
        "print('RMSE:',rmse)"
      ],
      "metadata": {
        "colab": {
          "base_uri": "https://localhost:8080/"
        },
        "id": "TeHx_7HpYrSw",
        "outputId": "e19f00f4-8f53-46fe-b214-cbd7376cfb62"
      },
      "execution_count": 35,
      "outputs": [
        {
          "output_type": "stream",
          "name": "stdout",
          "text": [
            "R2  : 0.7956821665820843\n",
            "MAE : 91700.18775541677\n",
            "MSE : 25083469009.939575\n",
            "RMSE: 158377.6152426206\n"
          ]
        }
      ]
    },
    {
      "cell_type": "markdown",
      "source": [
        "#5.5. SVM (Support Vector Machines)"
      ],
      "metadata": {
        "id": "Fpy71qEUokGq"
      }
    },
    {
      "cell_type": "markdown",
      "source": [
        "Support Vector Machines (SVM), ou Máquinas de Vetores de Suporte, é um algoritmo de aprendizado de máquina supervisionado utilizado para tarefas de classificação e regressão. Ele é conhecido por sua eficácia em problemas de classificação binária e por sua capacidade de lidar com dados de alta dimensionalidade."
      ],
      "metadata": {
        "id": "xf5yPJF3j9YK"
      }
    },
    {
      "cell_type": "code",
      "source": [
        "# Definindo o Modelo de SVM\n",
        "modelo_05 = SVR()\n",
        "modelo_05.fit(X_train, y_train)"
      ],
      "metadata": {
        "id": "GmY00hPRT2PT",
        "colab": {
          "base_uri": "https://localhost:8080/",
          "height": 75
        },
        "outputId": "15c202ea-e3d7-457b-de19-4ac73bec942f"
      },
      "execution_count": 36,
      "outputs": [
        {
          "output_type": "execute_result",
          "data": {
            "text/plain": [
              "SVR()"
            ],
            "text/html": [
              "<style>#sk-container-id-5 {color: black;background-color: white;}#sk-container-id-5 pre{padding: 0;}#sk-container-id-5 div.sk-toggleable {background-color: white;}#sk-container-id-5 label.sk-toggleable__label {cursor: pointer;display: block;width: 100%;margin-bottom: 0;padding: 0.3em;box-sizing: border-box;text-align: center;}#sk-container-id-5 label.sk-toggleable__label-arrow:before {content: \"▸\";float: left;margin-right: 0.25em;color: #696969;}#sk-container-id-5 label.sk-toggleable__label-arrow:hover:before {color: black;}#sk-container-id-5 div.sk-estimator:hover label.sk-toggleable__label-arrow:before {color: black;}#sk-container-id-5 div.sk-toggleable__content {max-height: 0;max-width: 0;overflow: hidden;text-align: left;background-color: #f0f8ff;}#sk-container-id-5 div.sk-toggleable__content pre {margin: 0.2em;color: black;border-radius: 0.25em;background-color: #f0f8ff;}#sk-container-id-5 input.sk-toggleable__control:checked~div.sk-toggleable__content {max-height: 200px;max-width: 100%;overflow: auto;}#sk-container-id-5 input.sk-toggleable__control:checked~label.sk-toggleable__label-arrow:before {content: \"▾\";}#sk-container-id-5 div.sk-estimator input.sk-toggleable__control:checked~label.sk-toggleable__label {background-color: #d4ebff;}#sk-container-id-5 div.sk-label input.sk-toggleable__control:checked~label.sk-toggleable__label {background-color: #d4ebff;}#sk-container-id-5 input.sk-hidden--visually {border: 0;clip: rect(1px 1px 1px 1px);clip: rect(1px, 1px, 1px, 1px);height: 1px;margin: -1px;overflow: hidden;padding: 0;position: absolute;width: 1px;}#sk-container-id-5 div.sk-estimator {font-family: monospace;background-color: #f0f8ff;border: 1px dotted black;border-radius: 0.25em;box-sizing: border-box;margin-bottom: 0.5em;}#sk-container-id-5 div.sk-estimator:hover {background-color: #d4ebff;}#sk-container-id-5 div.sk-parallel-item::after {content: \"\";width: 100%;border-bottom: 1px solid gray;flex-grow: 1;}#sk-container-id-5 div.sk-label:hover label.sk-toggleable__label {background-color: #d4ebff;}#sk-container-id-5 div.sk-serial::before {content: \"\";position: absolute;border-left: 1px solid gray;box-sizing: border-box;top: 0;bottom: 0;left: 50%;z-index: 0;}#sk-container-id-5 div.sk-serial {display: flex;flex-direction: column;align-items: center;background-color: white;padding-right: 0.2em;padding-left: 0.2em;position: relative;}#sk-container-id-5 div.sk-item {position: relative;z-index: 1;}#sk-container-id-5 div.sk-parallel {display: flex;align-items: stretch;justify-content: center;background-color: white;position: relative;}#sk-container-id-5 div.sk-item::before, #sk-container-id-5 div.sk-parallel-item::before {content: \"\";position: absolute;border-left: 1px solid gray;box-sizing: border-box;top: 0;bottom: 0;left: 50%;z-index: -1;}#sk-container-id-5 div.sk-parallel-item {display: flex;flex-direction: column;z-index: 1;position: relative;background-color: white;}#sk-container-id-5 div.sk-parallel-item:first-child::after {align-self: flex-end;width: 50%;}#sk-container-id-5 div.sk-parallel-item:last-child::after {align-self: flex-start;width: 50%;}#sk-container-id-5 div.sk-parallel-item:only-child::after {width: 0;}#sk-container-id-5 div.sk-dashed-wrapped {border: 1px dashed gray;margin: 0 0.4em 0.5em 0.4em;box-sizing: border-box;padding-bottom: 0.4em;background-color: white;}#sk-container-id-5 div.sk-label label {font-family: monospace;font-weight: bold;display: inline-block;line-height: 1.2em;}#sk-container-id-5 div.sk-label-container {text-align: center;}#sk-container-id-5 div.sk-container {/* jupyter's `normalize.less` sets `[hidden] { display: none; }` but bootstrap.min.css set `[hidden] { display: none !important; }` so we also need the `!important` here to be able to override the default hidden behavior on the sphinx rendered scikit-learn.org. See: https://github.com/scikit-learn/scikit-learn/issues/21755 */display: inline-block !important;position: relative;}#sk-container-id-5 div.sk-text-repr-fallback {display: none;}</style><div id=\"sk-container-id-5\" class=\"sk-top-container\"><div class=\"sk-text-repr-fallback\"><pre>SVR()</pre><b>In a Jupyter environment, please rerun this cell to show the HTML representation or trust the notebook. <br />On GitHub, the HTML representation is unable to render, please try loading this page with nbviewer.org.</b></div><div class=\"sk-container\" hidden><div class=\"sk-item\"><div class=\"sk-estimator sk-toggleable\"><input class=\"sk-toggleable__control sk-hidden--visually\" id=\"sk-estimator-id-7\" type=\"checkbox\" checked><label for=\"sk-estimator-id-7\" class=\"sk-toggleable__label sk-toggleable__label-arrow\">SVR</label><div class=\"sk-toggleable__content\"><pre>SVR()</pre></div></div></div></div></div>"
            ]
          },
          "metadata": {},
          "execution_count": 36
        }
      ]
    },
    {
      "cell_type": "markdown",
      "source": [
        "#5.5.a. SVM (Support Vector Machines) - Previsão"
      ],
      "metadata": {
        "id": "ElWV01TBQtR2"
      }
    },
    {
      "cell_type": "code",
      "source": [
        "# Usando o Modelo_05 para fazer previsões nos dados de teste X_test\n",
        "y_pred = modelo_05.predict(X_test)"
      ],
      "metadata": {
        "id": "wRrJ1qfnWeFL"
      },
      "execution_count": 37,
      "outputs": []
    },
    {
      "cell_type": "code",
      "source": [
        "r2 = r2_score(y_test,y_pred) # calcula o coeficiente de determinação R²\n",
        "mae = mean_absolute_error(y_test,y_pred) # calcula o erro médio absoluto (MAE)\n",
        "mse = mean_squared_error(y_test,y_pred, squared=True) # calcula o erro médio quadrático (MSE)\n",
        "rmse = mean_squared_error(y_test,y_pred, squared=False) # calcula a raiz quadrada do erro médio quadrático (RMSE)"
      ],
      "metadata": {
        "id": "GQ15PLdDXARZ"
      },
      "execution_count": 38,
      "outputs": []
    },
    {
      "cell_type": "markdown",
      "source": [
        "#5.5.b. SVM (Support Vector Machines) - Armazenamento do Resultado"
      ],
      "metadata": {
        "id": "CbgfS2eRRXq9"
      }
    },
    {
      "cell_type": "code",
      "source": [
        "resultado['SVM'] = {'R2':r2, 'MAE':mae, 'MSE':mse, 'RMSE':rmse}\n",
        "\n",
        "print('R2  :',r2)\n",
        "print('MAE :',mae)\n",
        "print('MSE :',mse)\n",
        "print('RMSE:',rmse)"
      ],
      "metadata": {
        "colab": {
          "base_uri": "https://localhost:8080/"
        },
        "id": "J17P6_bgY5gA",
        "outputId": "f96e75a9-c286-455c-fc45-9860d80ba8a8"
      },
      "execution_count": 39,
      "outputs": [
        {
          "output_type": "stream",
          "name": "stdout",
          "text": [
            "R2  : -0.06151567406955549\n",
            "MAE : 221780.774224504\n",
            "MSE : 130318998927.64845\n",
            "RMSE: 360997.22842100664\n"
          ]
        }
      ]
    },
    {
      "cell_type": "markdown",
      "source": [
        "#5.6. Regressão Linear"
      ],
      "metadata": {
        "id": "RPJ92pR2oRJN"
      }
    },
    {
      "cell_type": "markdown",
      "source": [
        "A regressão linear é um algoritmo de aprendizado de máquina utilizado para realizar tarefas de regressão, ou seja, prever valores numéricos contínuos com base em variáveis independentes.\n",
        "\n",
        "O objetivo da regressão linear é modelar a relação linear entre uma variável de saída (variável dependente) e uma ou mais variáveis de entrada (variáveis independentes)."
      ],
      "metadata": {
        "id": "alnig4NYkZvI"
      }
    },
    {
      "cell_type": "code",
      "source": [
        "# Definindo o Modelo de Regressão Linear\n",
        "modelo_06 = LinearRegression()\n",
        "modelo_06.fit(X_train, y_train)"
      ],
      "metadata": {
        "colab": {
          "base_uri": "https://localhost:8080/",
          "height": 75
        },
        "id": "5Hr_SYRkT_LD",
        "outputId": "c47b5f1d-9d89-4f8a-c873-1ba62a9f9af8"
      },
      "execution_count": 40,
      "outputs": [
        {
          "output_type": "execute_result",
          "data": {
            "text/plain": [
              "LinearRegression()"
            ],
            "text/html": [
              "<style>#sk-container-id-6 {color: black;background-color: white;}#sk-container-id-6 pre{padding: 0;}#sk-container-id-6 div.sk-toggleable {background-color: white;}#sk-container-id-6 label.sk-toggleable__label {cursor: pointer;display: block;width: 100%;margin-bottom: 0;padding: 0.3em;box-sizing: border-box;text-align: center;}#sk-container-id-6 label.sk-toggleable__label-arrow:before {content: \"▸\";float: left;margin-right: 0.25em;color: #696969;}#sk-container-id-6 label.sk-toggleable__label-arrow:hover:before {color: black;}#sk-container-id-6 div.sk-estimator:hover label.sk-toggleable__label-arrow:before {color: black;}#sk-container-id-6 div.sk-toggleable__content {max-height: 0;max-width: 0;overflow: hidden;text-align: left;background-color: #f0f8ff;}#sk-container-id-6 div.sk-toggleable__content pre {margin: 0.2em;color: black;border-radius: 0.25em;background-color: #f0f8ff;}#sk-container-id-6 input.sk-toggleable__control:checked~div.sk-toggleable__content {max-height: 200px;max-width: 100%;overflow: auto;}#sk-container-id-6 input.sk-toggleable__control:checked~label.sk-toggleable__label-arrow:before {content: \"▾\";}#sk-container-id-6 div.sk-estimator input.sk-toggleable__control:checked~label.sk-toggleable__label {background-color: #d4ebff;}#sk-container-id-6 div.sk-label input.sk-toggleable__control:checked~label.sk-toggleable__label {background-color: #d4ebff;}#sk-container-id-6 input.sk-hidden--visually {border: 0;clip: rect(1px 1px 1px 1px);clip: rect(1px, 1px, 1px, 1px);height: 1px;margin: -1px;overflow: hidden;padding: 0;position: absolute;width: 1px;}#sk-container-id-6 div.sk-estimator {font-family: monospace;background-color: #f0f8ff;border: 1px dotted black;border-radius: 0.25em;box-sizing: border-box;margin-bottom: 0.5em;}#sk-container-id-6 div.sk-estimator:hover {background-color: #d4ebff;}#sk-container-id-6 div.sk-parallel-item::after {content: \"\";width: 100%;border-bottom: 1px solid gray;flex-grow: 1;}#sk-container-id-6 div.sk-label:hover label.sk-toggleable__label {background-color: #d4ebff;}#sk-container-id-6 div.sk-serial::before {content: \"\";position: absolute;border-left: 1px solid gray;box-sizing: border-box;top: 0;bottom: 0;left: 50%;z-index: 0;}#sk-container-id-6 div.sk-serial {display: flex;flex-direction: column;align-items: center;background-color: white;padding-right: 0.2em;padding-left: 0.2em;position: relative;}#sk-container-id-6 div.sk-item {position: relative;z-index: 1;}#sk-container-id-6 div.sk-parallel {display: flex;align-items: stretch;justify-content: center;background-color: white;position: relative;}#sk-container-id-6 div.sk-item::before, #sk-container-id-6 div.sk-parallel-item::before {content: \"\";position: absolute;border-left: 1px solid gray;box-sizing: border-box;top: 0;bottom: 0;left: 50%;z-index: -1;}#sk-container-id-6 div.sk-parallel-item {display: flex;flex-direction: column;z-index: 1;position: relative;background-color: white;}#sk-container-id-6 div.sk-parallel-item:first-child::after {align-self: flex-end;width: 50%;}#sk-container-id-6 div.sk-parallel-item:last-child::after {align-self: flex-start;width: 50%;}#sk-container-id-6 div.sk-parallel-item:only-child::after {width: 0;}#sk-container-id-6 div.sk-dashed-wrapped {border: 1px dashed gray;margin: 0 0.4em 0.5em 0.4em;box-sizing: border-box;padding-bottom: 0.4em;background-color: white;}#sk-container-id-6 div.sk-label label {font-family: monospace;font-weight: bold;display: inline-block;line-height: 1.2em;}#sk-container-id-6 div.sk-label-container {text-align: center;}#sk-container-id-6 div.sk-container {/* jupyter's `normalize.less` sets `[hidden] { display: none; }` but bootstrap.min.css set `[hidden] { display: none !important; }` so we also need the `!important` here to be able to override the default hidden behavior on the sphinx rendered scikit-learn.org. See: https://github.com/scikit-learn/scikit-learn/issues/21755 */display: inline-block !important;position: relative;}#sk-container-id-6 div.sk-text-repr-fallback {display: none;}</style><div id=\"sk-container-id-6\" class=\"sk-top-container\"><div class=\"sk-text-repr-fallback\"><pre>LinearRegression()</pre><b>In a Jupyter environment, please rerun this cell to show the HTML representation or trust the notebook. <br />On GitHub, the HTML representation is unable to render, please try loading this page with nbviewer.org.</b></div><div class=\"sk-container\" hidden><div class=\"sk-item\"><div class=\"sk-estimator sk-toggleable\"><input class=\"sk-toggleable__control sk-hidden--visually\" id=\"sk-estimator-id-8\" type=\"checkbox\" checked><label for=\"sk-estimator-id-8\" class=\"sk-toggleable__label sk-toggleable__label-arrow\">LinearRegression</label><div class=\"sk-toggleable__content\"><pre>LinearRegression()</pre></div></div></div></div></div>"
            ]
          },
          "metadata": {},
          "execution_count": 40
        }
      ]
    },
    {
      "cell_type": "markdown",
      "source": [
        "#5.6.a. Regressão Linear - Previsão"
      ],
      "metadata": {
        "id": "exOLcMKfQ03P"
      }
    },
    {
      "cell_type": "code",
      "source": [
        "# Usando o Modelo_06 para fazer previsões nos dados de teste X_test\n",
        "y_pred = modelo_06.predict(X_test)"
      ],
      "metadata": {
        "id": "Y6fwPczMWlMW"
      },
      "execution_count": 41,
      "outputs": []
    },
    {
      "cell_type": "code",
      "source": [
        "r2 = r2_score(y_test,y_pred) # calcula o coeficiente de determinação R²\n",
        "mae = mean_absolute_error(y_test,y_pred) # calcula o erro médio absoluto (MAE)\n",
        "mse = mean_squared_error(y_test,y_pred, squared=True) # calcula o erro médio quadrático (MSE)\n",
        "rmse = mean_squared_error(y_test,y_pred, squared=False) # calcula a raiz quadrada do erro médio quadrático (RMSE)"
      ],
      "metadata": {
        "id": "Ce4rZxPdXCuo"
      },
      "execution_count": 42,
      "outputs": []
    },
    {
      "cell_type": "markdown",
      "source": [
        "#5.6.b. Regressão Linear - Armazenamento do Resultado"
      ],
      "metadata": {
        "id": "0bySfF1_Rd9T"
      }
    },
    {
      "cell_type": "code",
      "source": [
        "resultado['Regressão Linear'] = {'R2':r2, 'MAE':mae, 'MSE':mse, 'RMSE':rmse}\n",
        "\n",
        "print('R2  :',r2)\n",
        "print('MAE :',mae)\n",
        "print('MSE :',mse)\n",
        "print('RMSE:',rmse)"
      ],
      "metadata": {
        "colab": {
          "base_uri": "https://localhost:8080/"
        },
        "id": "Vrv_djfnZBzJ",
        "outputId": "337b7170-da73-4d77-d6cc-e8e4179e3414"
      },
      "execution_count": 43,
      "outputs": [
        {
          "output_type": "stream",
          "name": "stdout",
          "text": [
            "R2  : 0.7081528477872958\n",
            "MAE : 125085.80065949388\n",
            "MSE : 35829172988.50223\n",
            "RMSE: 189285.95560289788\n"
          ]
        }
      ]
    },
    {
      "cell_type": "markdown",
      "source": [
        "#5.7. Ensemble"
      ],
      "metadata": {
        "id": "HEma7st1pHim"
      }
    },
    {
      "cell_type": "markdown",
      "source": [
        "ensemble learning (aprendizado em conjunto) é uma abordagem que combina múltiplos modelos de aprendizado para melhorar o desempenho e a robustez das previsões. Em vez de confiar em um único modelo, ensemble learning utiliza a sabedoria coletiva de vários modelos para obter resultados mais precisos e confiáveis."
      ],
      "metadata": {
        "id": "uqIhdz_JksS0"
      }
    },
    {
      "cell_type": "code",
      "source": [
        "# Definindo o Modelo de Ensemble\n",
        "r1 = LinearRegression()\n",
        "r2 = RandomForestRegressor(n_estimators=10, random_state=26)\n",
        "\n",
        "modelo_07 = VotingRegressor([('LR', r1), ('RF', r2)])\n",
        "modelo_07.fit(X_train, y_train)"
      ],
      "metadata": {
        "colab": {
          "base_uri": "https://localhost:8080/",
          "height": 110
        },
        "id": "Niml807_URz-",
        "outputId": "2c185d97-871a-47b4-9f95-0b68ccf56aea"
      },
      "execution_count": 44,
      "outputs": [
        {
          "output_type": "execute_result",
          "data": {
            "text/plain": [
              "VotingRegressor(estimators=[('LR', LinearRegression()),\n",
              "                            ('RF',\n",
              "                             RandomForestRegressor(n_estimators=10,\n",
              "                                                   random_state=26))])"
            ],
            "text/html": [
              "<style>#sk-container-id-7 {color: black;background-color: white;}#sk-container-id-7 pre{padding: 0;}#sk-container-id-7 div.sk-toggleable {background-color: white;}#sk-container-id-7 label.sk-toggleable__label {cursor: pointer;display: block;width: 100%;margin-bottom: 0;padding: 0.3em;box-sizing: border-box;text-align: center;}#sk-container-id-7 label.sk-toggleable__label-arrow:before {content: \"▸\";float: left;margin-right: 0.25em;color: #696969;}#sk-container-id-7 label.sk-toggleable__label-arrow:hover:before {color: black;}#sk-container-id-7 div.sk-estimator:hover label.sk-toggleable__label-arrow:before {color: black;}#sk-container-id-7 div.sk-toggleable__content {max-height: 0;max-width: 0;overflow: hidden;text-align: left;background-color: #f0f8ff;}#sk-container-id-7 div.sk-toggleable__content pre {margin: 0.2em;color: black;border-radius: 0.25em;background-color: #f0f8ff;}#sk-container-id-7 input.sk-toggleable__control:checked~div.sk-toggleable__content {max-height: 200px;max-width: 100%;overflow: auto;}#sk-container-id-7 input.sk-toggleable__control:checked~label.sk-toggleable__label-arrow:before {content: \"▾\";}#sk-container-id-7 div.sk-estimator input.sk-toggleable__control:checked~label.sk-toggleable__label {background-color: #d4ebff;}#sk-container-id-7 div.sk-label input.sk-toggleable__control:checked~label.sk-toggleable__label {background-color: #d4ebff;}#sk-container-id-7 input.sk-hidden--visually {border: 0;clip: rect(1px 1px 1px 1px);clip: rect(1px, 1px, 1px, 1px);height: 1px;margin: -1px;overflow: hidden;padding: 0;position: absolute;width: 1px;}#sk-container-id-7 div.sk-estimator {font-family: monospace;background-color: #f0f8ff;border: 1px dotted black;border-radius: 0.25em;box-sizing: border-box;margin-bottom: 0.5em;}#sk-container-id-7 div.sk-estimator:hover {background-color: #d4ebff;}#sk-container-id-7 div.sk-parallel-item::after {content: \"\";width: 100%;border-bottom: 1px solid gray;flex-grow: 1;}#sk-container-id-7 div.sk-label:hover label.sk-toggleable__label {background-color: #d4ebff;}#sk-container-id-7 div.sk-serial::before {content: \"\";position: absolute;border-left: 1px solid gray;box-sizing: border-box;top: 0;bottom: 0;left: 50%;z-index: 0;}#sk-container-id-7 div.sk-serial {display: flex;flex-direction: column;align-items: center;background-color: white;padding-right: 0.2em;padding-left: 0.2em;position: relative;}#sk-container-id-7 div.sk-item {position: relative;z-index: 1;}#sk-container-id-7 div.sk-parallel {display: flex;align-items: stretch;justify-content: center;background-color: white;position: relative;}#sk-container-id-7 div.sk-item::before, #sk-container-id-7 div.sk-parallel-item::before {content: \"\";position: absolute;border-left: 1px solid gray;box-sizing: border-box;top: 0;bottom: 0;left: 50%;z-index: -1;}#sk-container-id-7 div.sk-parallel-item {display: flex;flex-direction: column;z-index: 1;position: relative;background-color: white;}#sk-container-id-7 div.sk-parallel-item:first-child::after {align-self: flex-end;width: 50%;}#sk-container-id-7 div.sk-parallel-item:last-child::after {align-self: flex-start;width: 50%;}#sk-container-id-7 div.sk-parallel-item:only-child::after {width: 0;}#sk-container-id-7 div.sk-dashed-wrapped {border: 1px dashed gray;margin: 0 0.4em 0.5em 0.4em;box-sizing: border-box;padding-bottom: 0.4em;background-color: white;}#sk-container-id-7 div.sk-label label {font-family: monospace;font-weight: bold;display: inline-block;line-height: 1.2em;}#sk-container-id-7 div.sk-label-container {text-align: center;}#sk-container-id-7 div.sk-container {/* jupyter's `normalize.less` sets `[hidden] { display: none; }` but bootstrap.min.css set `[hidden] { display: none !important; }` so we also need the `!important` here to be able to override the default hidden behavior on the sphinx rendered scikit-learn.org. See: https://github.com/scikit-learn/scikit-learn/issues/21755 */display: inline-block !important;position: relative;}#sk-container-id-7 div.sk-text-repr-fallback {display: none;}</style><div id=\"sk-container-id-7\" class=\"sk-top-container\"><div class=\"sk-text-repr-fallback\"><pre>VotingRegressor(estimators=[(&#x27;LR&#x27;, LinearRegression()),\n",
              "                            (&#x27;RF&#x27;,\n",
              "                             RandomForestRegressor(n_estimators=10,\n",
              "                                                   random_state=26))])</pre><b>In a Jupyter environment, please rerun this cell to show the HTML representation or trust the notebook. <br />On GitHub, the HTML representation is unable to render, please try loading this page with nbviewer.org.</b></div><div class=\"sk-container\" hidden><div class=\"sk-item sk-dashed-wrapped\"><div class=\"sk-label-container\"><div class=\"sk-label sk-toggleable\"><input class=\"sk-toggleable__control sk-hidden--visually\" id=\"sk-estimator-id-9\" type=\"checkbox\" ><label for=\"sk-estimator-id-9\" class=\"sk-toggleable__label sk-toggleable__label-arrow\">VotingRegressor</label><div class=\"sk-toggleable__content\"><pre>VotingRegressor(estimators=[(&#x27;LR&#x27;, LinearRegression()),\n",
              "                            (&#x27;RF&#x27;,\n",
              "                             RandomForestRegressor(n_estimators=10,\n",
              "                                                   random_state=26))])</pre></div></div></div><div class=\"sk-parallel\"><div class=\"sk-parallel-item\"><div class=\"sk-item\"><div class=\"sk-label-container\"><div class=\"sk-label sk-toggleable\"><label>LR</label></div></div><div class=\"sk-serial\"><div class=\"sk-item\"><div class=\"sk-estimator sk-toggleable\"><input class=\"sk-toggleable__control sk-hidden--visually\" id=\"sk-estimator-id-10\" type=\"checkbox\" ><label for=\"sk-estimator-id-10\" class=\"sk-toggleable__label sk-toggleable__label-arrow\">LinearRegression</label><div class=\"sk-toggleable__content\"><pre>LinearRegression()</pre></div></div></div></div></div></div><div class=\"sk-parallel-item\"><div class=\"sk-item\"><div class=\"sk-label-container\"><div class=\"sk-label sk-toggleable\"><label>RF</label></div></div><div class=\"sk-serial\"><div class=\"sk-item\"><div class=\"sk-estimator sk-toggleable\"><input class=\"sk-toggleable__control sk-hidden--visually\" id=\"sk-estimator-id-11\" type=\"checkbox\" ><label for=\"sk-estimator-id-11\" class=\"sk-toggleable__label sk-toggleable__label-arrow\">RandomForestRegressor</label><div class=\"sk-toggleable__content\"><pre>RandomForestRegressor(n_estimators=10, random_state=26)</pre></div></div></div></div></div></div></div></div></div></div>"
            ]
          },
          "metadata": {},
          "execution_count": 44
        }
      ]
    },
    {
      "cell_type": "markdown",
      "source": [
        "#5.7.a. Ensemble - Previsão"
      ],
      "metadata": {
        "id": "6P9H6kQCQ9l9"
      }
    },
    {
      "cell_type": "code",
      "source": [
        "# Usando o Modelo_07 para fazer previsões nos dados de teste X_test\n",
        "y_pred = modelo_07.predict(X_test)"
      ],
      "metadata": {
        "id": "RL83Uqc0WrQG"
      },
      "execution_count": 45,
      "outputs": []
    },
    {
      "cell_type": "code",
      "source": [
        "r2 = r2_score(y_test,y_pred) # calcula o coeficiente de determinação R²\n",
        "mae = mean_absolute_error(y_test,y_pred) # calcula o erro médio absoluto (MAE)\n",
        "mse = mean_squared_error(y_test,y_pred, squared=True) # calcula o erro médio quadrático (MSE)\n",
        "rmse = mean_squared_error(y_test,y_pred, squared=False) # calcula a raiz quadrada do erro médio quadrático (RMSE)"
      ],
      "metadata": {
        "id": "LmF-8Rx3XGyg"
      },
      "execution_count": 49,
      "outputs": []
    },
    {
      "cell_type": "markdown",
      "source": [
        "#5.7.b. Ensemble - Armazenamento do Resultado"
      ],
      "metadata": {
        "id": "SgM1wxlXRkIJ"
      }
    },
    {
      "cell_type": "code",
      "source": [
        "resultado['Ensemble'] = {'R2':r2, 'MAE':mae, 'MSE':mse, 'RMSE':rmse}\n",
        "\n",
        "print('R2  :',r2)\n",
        "print('MAE :',mae)\n",
        "print('MSE :',mse)\n",
        "print('RMSE:',rmse)"
      ],
      "metadata": {
        "colab": {
          "base_uri": "https://localhost:8080/"
        },
        "id": "U-wGxkMZZKoL",
        "outputId": "d39505da-18ce-471f-e5fa-23df285475d9"
      },
      "execution_count": 50,
      "outputs": [
        {
          "output_type": "stream",
          "name": "stdout",
          "text": [
            "R2  : 0.8418433209056075\n",
            "MAE : 87101.70713863919\n",
            "MSE : 19416406744.41144\n",
            "RMSE: 139342.7671047602\n"
          ]
        }
      ]
    },
    {
      "cell_type": "markdown",
      "source": [
        "# 6.Resultados"
      ],
      "metadata": {
        "id": "mBz3z0pgtBb8"
      }
    },
    {
      "cell_type": "code",
      "source": [
        "# Visualização de todos os resultados\n",
        "cm = sns.color_palette('Blues_r', as_cmap=True)\n",
        "pd.DataFrame(resultado).T.style.background_gradient(subset=['R2'],\n",
        "             cmap=cm).highlight_max(subset=['R2'], axis=0)"
      ],
      "metadata": {
        "colab": {
          "base_uri": "https://localhost:8080/",
          "height": 269
        },
        "id": "u85Xd-a3Z62T",
        "outputId": "6ce45645-ce4c-43ad-8a49-f0f387ec0175"
      },
      "execution_count": 51,
      "outputs": [
        {
          "output_type": "execute_result",
          "data": {
            "text/plain": [
              "<pandas.io.formats.style.Styler at 0x7e4a93bf00d0>"
            ],
            "text/html": [
              "<style type=\"text/css\">\n",
              "#T_b3ab2_row0_col0 {\n",
              "  background-color: #d3e3f3;\n",
              "  color: #000000;\n",
              "}\n",
              "#T_b3ab2_row1_col0 {\n",
              "  background-color: #f7fbff;\n",
              "  color: #000000;\n",
              "  background-color: yellow;\n",
              "}\n",
              "#T_b3ab2_row2_col0 {\n",
              "  background-color: #f4f9fe;\n",
              "  color: #000000;\n",
              "}\n",
              "#T_b3ab2_row3_col0 {\n",
              "  background-color: #e4eff9;\n",
              "  color: #000000;\n",
              "}\n",
              "#T_b3ab2_row4_col0 {\n",
              "  background-color: #08306b;\n",
              "  color: #f1f1f1;\n",
              "}\n",
              "#T_b3ab2_row5_col0 {\n",
              "  background-color: #d2e3f3;\n",
              "  color: #000000;\n",
              "}\n",
              "#T_b3ab2_row6_col0 {\n",
              "  background-color: #eef5fc;\n",
              "  color: #000000;\n",
              "}\n",
              "</style>\n",
              "<table id=\"T_b3ab2\" class=\"dataframe\">\n",
              "  <thead>\n",
              "    <tr>\n",
              "      <th class=\"blank level0\" >&nbsp;</th>\n",
              "      <th id=\"T_b3ab2_level0_col0\" class=\"col_heading level0 col0\" >R2</th>\n",
              "      <th id=\"T_b3ab2_level0_col1\" class=\"col_heading level0 col1\" >MAE</th>\n",
              "      <th id=\"T_b3ab2_level0_col2\" class=\"col_heading level0 col2\" >MSE</th>\n",
              "      <th id=\"T_b3ab2_level0_col3\" class=\"col_heading level0 col3\" >RMSE</th>\n",
              "    </tr>\n",
              "  </thead>\n",
              "  <tbody>\n",
              "    <tr>\n",
              "      <th id=\"T_b3ab2_level0_row0\" class=\"row_heading level0 row0\" >Árvore de Decisão</th>\n",
              "      <td id=\"T_b3ab2_row0_col0\" class=\"data row0 col0\" >0.712493</td>\n",
              "      <td id=\"T_b3ab2_row0_col1\" class=\"data row0 col1\" >101237.075873</td>\n",
              "      <td id=\"T_b3ab2_row0_col2\" class=\"data row0 col2\" >35296307596.013992</td>\n",
              "      <td id=\"T_b3ab2_row0_col3\" class=\"data row0 col3\" >187873.115682</td>\n",
              "    </tr>\n",
              "    <tr>\n",
              "      <th id=\"T_b3ab2_level0_row1\" class=\"row_heading level0 row1\" >Random Forest</th>\n",
              "      <td id=\"T_b3ab2_row1_col0\" class=\"data row1 col0\" >0.886869</td>\n",
              "      <td id=\"T_b3ab2_row1_col1\" class=\"data row1 col1\" >68391.400513</td>\n",
              "      <td id=\"T_b3ab2_row1_col2\" class=\"data row1 col2\" >13888717366.313154</td>\n",
              "      <td id=\"T_b3ab2_row1_col3\" class=\"data row1 col3\" >117850.402487</td>\n",
              "    </tr>\n",
              "    <tr>\n",
              "      <th id=\"T_b3ab2_level0_row2\" class=\"row_heading level0 row2\" >Bagging</th>\n",
              "      <td id=\"T_b3ab2_row2_col0\" class=\"data row2 col0\" >0.870583</td>\n",
              "      <td id=\"T_b3ab2_row2_col1\" class=\"data row2 col1\" >72623.021074</td>\n",
              "      <td id=\"T_b3ab2_row2_col2\" class=\"data row2 col2\" >15888073339.861830</td>\n",
              "      <td id=\"T_b3ab2_row2_col3\" class=\"data row2 col3\" >126047.900974</td>\n",
              "    </tr>\n",
              "    <tr>\n",
              "      <th id=\"T_b3ab2_level0_row3\" class=\"row_heading level0 row3\" >K-NN</th>\n",
              "      <td id=\"T_b3ab2_row3_col0\" class=\"data row3 col0\" >0.795682</td>\n",
              "      <td id=\"T_b3ab2_row3_col1\" class=\"data row3 col1\" >91700.187755</td>\n",
              "      <td id=\"T_b3ab2_row3_col2\" class=\"data row3 col2\" >25083469009.939575</td>\n",
              "      <td id=\"T_b3ab2_row3_col3\" class=\"data row3 col3\" >158377.615243</td>\n",
              "    </tr>\n",
              "    <tr>\n",
              "      <th id=\"T_b3ab2_level0_row4\" class=\"row_heading level0 row4\" >SVM</th>\n",
              "      <td id=\"T_b3ab2_row4_col0\" class=\"data row4 col0\" >-0.061516</td>\n",
              "      <td id=\"T_b3ab2_row4_col1\" class=\"data row4 col1\" >221780.774225</td>\n",
              "      <td id=\"T_b3ab2_row4_col2\" class=\"data row4 col2\" >130318998927.648453</td>\n",
              "      <td id=\"T_b3ab2_row4_col3\" class=\"data row4 col3\" >360997.228421</td>\n",
              "    </tr>\n",
              "    <tr>\n",
              "      <th id=\"T_b3ab2_level0_row5\" class=\"row_heading level0 row5\" >Regressão Linear</th>\n",
              "      <td id=\"T_b3ab2_row5_col0\" class=\"data row5 col0\" >0.708153</td>\n",
              "      <td id=\"T_b3ab2_row5_col1\" class=\"data row5 col1\" >125085.800659</td>\n",
              "      <td id=\"T_b3ab2_row5_col2\" class=\"data row5 col2\" >35829172988.502228</td>\n",
              "      <td id=\"T_b3ab2_row5_col3\" class=\"data row5 col3\" >189285.955603</td>\n",
              "    </tr>\n",
              "    <tr>\n",
              "      <th id=\"T_b3ab2_level0_row6\" class=\"row_heading level0 row6\" >Ensemble</th>\n",
              "      <td id=\"T_b3ab2_row6_col0\" class=\"data row6 col0\" >0.841843</td>\n",
              "      <td id=\"T_b3ab2_row6_col1\" class=\"data row6 col1\" >87101.707139</td>\n",
              "      <td id=\"T_b3ab2_row6_col2\" class=\"data row6 col2\" >19416406744.411442</td>\n",
              "      <td id=\"T_b3ab2_row6_col3\" class=\"data row6 col3\" >139342.767105</td>\n",
              "    </tr>\n",
              "  </tbody>\n",
              "</table>\n"
            ]
          },
          "metadata": {},
          "execution_count": 51
        }
      ]
    },
    {
      "cell_type": "markdown",
      "source": [
        "#6.1. Análise"
      ],
      "metadata": {
        "id": "t_QRrxoEmUG2"
      }
    },
    {
      "cell_type": "markdown",
      "source": [
        "**Análise do R²**\n",
        "\n",
        "* Random Forest\n",
        "Tem o maior valor de R², indicando que tem a melhor capacidade de explicar a variância dos dados em relação às outras estratégias.\n",
        "\n",
        "* Bagging\n",
        "Tmbém apresenta um bom desempenho em termos de R², sendo muito próximo ao Random Forest.\n",
        "\n",
        "* K-NN\n",
        "Tem um valor elevado de R², indicando que também possui um bom poder de explicação dos dados, embora seja ligeiramente inferior ao Random Forest e Bagging.\n",
        "\n",
        "* Árvore de Decisão e  Regressão Linear\n",
        "Tem valores razoáveis de R², mas inferiores aos das outras estratégias mencionadas acima.\n",
        "\n",
        "* SVM\n",
        "Tem um valor negativo de R², indicando que não se ajusta bem aos dados.\n",
        "\n",
        "* Ensemble\n",
        "Tem resultados promissores em todas as métricas, com valores de R², MAE e RMSE próximos aos do Random Forest e Bagging.\n",
        "\n",
        "**Análise do MAE (Erro Absoluto Médio) e do RMSE (Raiz Quadrada do Erro Quadrático Médio)**\n",
        "\n",
        "* Random Forest apresenta os menores valores, seguido pelo Bagging. Isso indica que essas estratégias têm um bom desempenho em termos de previsões precisas e baixa dispersão dos erros.\n"
      ],
      "metadata": {
        "id": "rokes_kxmcdj"
      }
    },
    {
      "cell_type": "markdown",
      "source": [
        "# 7.Conclusão"
      ],
      "metadata": {
        "id": "QCFDHURwn_vn"
      }
    },
    {
      "cell_type": "markdown",
      "source": [
        "---\n",
        "\n",
        "Al´m das métricas é importante considerar outros fatores, como interpretabilidade do modelo, tempo de treinamento e escalabilidade, para tomar uma decisão final.\n",
        "Assim, Random Forest, Bagging e Ensemble são as melhores estratégias com comportamentos semelhantes."
      ],
      "metadata": {
        "id": "N3TBreUSoieq"
      }
    },
    {
      "cell_type": "markdown",
      "source": [
        "#** PARTE B - PROCESSAMENTO DE LINGUAGEM NATURAL **"
      ],
      "metadata": {
        "id": "-uX8PNpxpcHe"
      }
    },
    {
      "cell_type": "markdown",
      "source": [
        "# 1.Definição do Problema\n",
        "\n",
        "## Descrição\n",
        "A Olist é uma empresa de plataforma de vendas que oferece suporte de gestão de vendas, onde os lojistas podem gerenciar seus pedidos, estoque, preços e outras informações importantes para o negócio.\n",
        "O problema desse MVP é por meio do processamneto de linguagem natural avaliar a relação entre consumidores e plataformas com base na análise das revisões feitas pelos mesmos.\n",
        "\n",
        "## Modelo de Aprendizado\n",
        "Esse MVP é um modelo de aprendizado supervisionado, pois é construído a partir dos dados de entrada que serão apresentados para um algoritmo na forma de pares ordenados (entrada – saída desejada). Esses dados são rotulados, pois já é de conhecimento, a saída esperada para cada entrada de dados. Nesse caso, o aprendizado (ou treinamento) consiste em apresentar para o algoritmo um número suficiente de exemplos de entradas e saídas desejadas (já rotuladas previamente). Assim, o objetivo do algoritmo é aprender uma regra geral que mapeie as entradas nas saídas corretamente, o que consiste no modelo final.\n",
        "\n",
        "## Premissas\n",
        "Informações relativas ao funcionamento da plataforma não foram consideradas.\n",
        "\n",
        "## Condições e Restrições\n",
        "\n",
        "Disponibilizados no Kaggle, os dados analisados concentraram-se nas informações de consumidores, pedidos e avaliações.\n",
        "\n",
        "## Atributos\n",
        "\n",
        "###-> customer_city\n",
        "Cidade do cliente.\n",
        "\n",
        "###-> customer_id\n",
        "Identificador do cliente.\n",
        "\n",
        "###-> customer_state\n",
        "Estado do cliente.\n",
        "\n",
        "###-> customer_unique_id\n",
        "Identificador exclusivo do cliente.\n",
        "\n",
        "###-> customer_zip_code_prefix\n",
        "CEP do cliente.\n",
        "\n",
        "###-> order_approved_at\n",
        "Data e hora da aprovação da compra.\n",
        "\n",
        "###-> order_delivered_carrier_date\n",
        "Data e hora de entrega do pedido à transportadora.\n",
        "\n",
        "###-> order_delivered_customer_date\n",
        "Data e hora de entrega do pedido ao cliente.\n",
        "\n",
        "###-> order_estimated_delivery_date\n",
        "Data e hora daentrega estimada.\n",
        "\n",
        "###-> order_id\n",
        "Identificador do pedido.\n",
        "\n",
        "###-> order_purchase_timestamp\n",
        "Data e hora da compra.\n",
        "\n",
        "###-> order_status\n",
        "Status do pedido.\n",
        "\n",
        "###-> review_answer_timestamp\n",
        "Resposta à avaliação.\n",
        "\n",
        "###-> review_comment_message\n",
        "Corpo do texto da avaliação.\n",
        "\n",
        "###-> review_comment_title\n",
        "Título da avaliação.\n",
        "\n",
        "###-> review_creation_date\n",
        "Data da avaliação.\n",
        "\n",
        "###-> review_id\n",
        "Identificador da avaliação.\n",
        "\n",
        "###-> review_score\n",
        "Pontuação dada na avaliação.\n"
      ],
      "metadata": {
        "id": "4PSALXk_p-Pb"
      }
    },
    {
      "cell_type": "markdown",
      "source": [
        "### ▶ Início do Código\n"
      ],
      "metadata": {
        "id": "rNyesMWoqDGI"
      }
    },
    {
      "cell_type": "markdown",
      "source": [
        "## -> Configurações Iniciais"
      ],
      "metadata": {
        "id": "cycqi3yEqDuS"
      }
    },
    {
      "cell_type": "code",
      "source": [
        "## Configuração para não exibir \"Mensagens de Aviso\" (Warnings)\n",
        "# A determinação de omitir ou não uma mensagem de aviso é controlada\n",
        "# pelo filtro de aviso, que é uma sequência de regras e ações correspondentes.\n",
        "import warnings\n",
        "warnings.filterwarnings(\"ignore\")"
      ],
      "metadata": {
        "id": "IAT3CHWhKoh3"
      },
      "execution_count": 52,
      "outputs": []
    },
    {
      "cell_type": "code",
      "source": [
        "## Instalando a biblioteca Sklearn.\n",
        "# Oferece uma ampla gama de algoritmos e ferramentas para tarefas comuns de aprendizado de máquina\n",
        "#como classificação, regressão, agrupamento e pré-processamento de dados.\n",
        "!pip install scikit-learn==0.23.2"
      ],
      "metadata": {
        "colab": {
          "base_uri": "https://localhost:8080/"
        },
        "id": "_1jkfNyEc7v0",
        "outputId": "c60ec78e-a820-4264-aa86-6cc40d5c1257"
      },
      "execution_count": 53,
      "outputs": [
        {
          "output_type": "stream",
          "name": "stdout",
          "text": [
            "Collecting scikit-learn==0.23.2\n",
            "  Using cached scikit-learn-0.23.2.tar.gz (7.2 MB)\n",
            "  Installing build dependencies ... \u001b[?25l\u001b[?25hcanceled\n",
            "Traceback (most recent call last):\n",
            "  File \"/usr/local/lib/python3.10/dist-packages/pip/_internal/cli/base_command.py\", line 169, in exc_logging_wrapper\n",
            "    status = run_func(*args)\n",
            "  File \"/usr/local/lib/python3.10/dist-packages/pip/_internal/cli/req_command.py\", line 242, in wrapper\n",
            "    return func(self, options, args)\n",
            "  File \"/usr/local/lib/python3.10/dist-packages/pip/_internal/commands/install.py\", line 377, in run\n",
            "    requirement_set = resolver.resolve(\n",
            "  File \"/usr/local/lib/python3.10/dist-packages/pip/_internal/resolution/resolvelib/resolver.py\", line 92, in resolve\n",
            "    result = self._result = resolver.resolve(\n",
            "  File \"/usr/local/lib/python3.10/dist-packages/pip/_vendor/resolvelib/resolvers.py\", line 546, in resolve\n",
            "    state = resolution.resolve(requirements, max_rounds=max_rounds)\n",
            "  File \"/usr/local/lib/python3.10/dist-packages/pip/_vendor/resolvelib/resolvers.py\", line 397, in resolve\n",
            "    self._add_to_criteria(self.state.criteria, r, parent=None)\n",
            "  File \"/usr/local/lib/python3.10/dist-packages/pip/_vendor/resolvelib/resolvers.py\", line 173, in _add_to_criteria\n",
            "    if not criterion.candidates:\n",
            "  File \"/usr/local/lib/python3.10/dist-packages/pip/_vendor/resolvelib/structs.py\", line 156, in __bool__\n",
            "    return bool(self._sequence)\n",
            "  File \"/usr/local/lib/python3.10/dist-packages/pip/_internal/resolution/resolvelib/found_candidates.py\", line 155, in __bool__\n",
            "    return any(self)\n",
            "  File \"/usr/local/lib/python3.10/dist-packages/pip/_internal/resolution/resolvelib/found_candidates.py\", line 143, in <genexpr>\n",
            "    return (c for c in iterator if id(c) not in self._incompatible_ids)\n",
            "  File \"/usr/local/lib/python3.10/dist-packages/pip/_internal/resolution/resolvelib/found_candidates.py\", line 47, in _iter_built\n",
            "    candidate = func()\n",
            "  File \"/usr/local/lib/python3.10/dist-packages/pip/_internal/resolution/resolvelib/factory.py\", line 206, in _make_candidate_from_link\n",
            "    self._link_candidate_cache[link] = LinkCandidate(\n",
            "  File \"/usr/local/lib/python3.10/dist-packages/pip/_internal/resolution/resolvelib/candidates.py\", line 293, in __init__\n",
            "    super().__init__(\n",
            "  File \"/usr/local/lib/python3.10/dist-packages/pip/_internal/resolution/resolvelib/candidates.py\", line 156, in __init__\n",
            "    self.dist = self._prepare()\n",
            "  File \"/usr/local/lib/python3.10/dist-packages/pip/_internal/resolution/resolvelib/candidates.py\", line 225, in _prepare\n",
            "    dist = self._prepare_distribution()\n",
            "  File \"/usr/local/lib/python3.10/dist-packages/pip/_internal/resolution/resolvelib/candidates.py\", line 304, in _prepare_distribution\n",
            "    return preparer.prepare_linked_requirement(self._ireq, parallel_builds=True)\n",
            "  File \"/usr/local/lib/python3.10/dist-packages/pip/_internal/operations/prepare.py\", line 516, in prepare_linked_requirement\n",
            "    return self._prepare_linked_requirement(req, parallel_builds)\n",
            "  File \"/usr/local/lib/python3.10/dist-packages/pip/_internal/operations/prepare.py\", line 631, in _prepare_linked_requirement\n",
            "    dist = _get_prepared_distribution(\n",
            "  File \"/usr/local/lib/python3.10/dist-packages/pip/_internal/operations/prepare.py\", line 69, in _get_prepared_distribution\n",
            "    abstract_dist.prepare_distribution_metadata(\n",
            "  File \"/usr/local/lib/python3.10/dist-packages/pip/_internal/distributions/sdist.py\", line 38, in prepare_distribution_metadata\n",
            "    self._prepare_build_backend(finder)\n",
            "  File \"/usr/local/lib/python3.10/dist-packages/pip/_internal/distributions/sdist.py\", line 70, in _prepare_build_backend\n",
            "    self.req.build_env.install_requirements(\n",
            "  File \"/usr/local/lib/python3.10/dist-packages/pip/_internal/build_env.py\", line 217, in install_requirements\n",
            "    self._install_requirements(\n",
            "  File \"/usr/local/lib/python3.10/dist-packages/pip/_internal/build_env.py\", line 275, in _install_requirements\n",
            "    call_subprocess(\n",
            "  File \"/usr/local/lib/python3.10/dist-packages/pip/_internal/utils/subprocess.py\", line 173, in call_subprocess\n",
            "    log_subprocess(line)\n",
            "  File \"/usr/local/lib/python3.10/dist-packages/pip/_internal/utils/_log.py\", line 23, in verbose\n",
            "    return self.log(VERBOSE, msg, *args, **kwargs)\n",
            "  File \"/usr/lib/python3.10/logging/__init__.py\", line 1546, in log\n",
            "    if self.isEnabledFor(level):\n",
            "  File \"/usr/lib/python3.10/logging/__init__.py\", line 1724, in isEnabledFor\n",
            "    def isEnabledFor(self, level):\n",
            "KeyboardInterrupt\n",
            "\n",
            "During handling of the above exception, another exception occurred:\n",
            "\n",
            "Traceback (most recent call last):\n",
            "  File \"/usr/local/bin/pip3\", line 8, in <module>\n",
            "    sys.exit(main())\n",
            "  File \"/usr/local/lib/python3.10/dist-packages/pip/_internal/cli/main.py\", line 79, in main\n",
            "    return command.main(cmd_args)\n",
            "  File \"/usr/local/lib/python3.10/dist-packages/pip/_internal/cli/base_command.py\", line 101, in main\n",
            "    return self._main(args)\n",
            "  File \"/usr/local/lib/python3.10/dist-packages/pip/_internal/cli/base_command.py\", line 223, in _main\n",
            "    return run(options, args)\n",
            "  File \"/usr/local/lib/python3.10/dist-packages/pip/_internal/cli/base_command.py\", line 206, in exc_logging_wrapper\n",
            "    logger.critical(\"Operation cancelled by user\")\n",
            "  File \"/usr/lib/python3.10/logging/__init__.py\", line 1524, in critical\n",
            "    self._log(CRITICAL, msg, args, **kwargs)\n",
            "  File \"/usr/lib/python3.10/logging/__init__.py\", line 1624, in _log\n",
            "    self.handle(record)\n",
            "  File \"/usr/lib/python3.10/logging/__init__.py\", line 1634, in handle\n",
            "    self.callHandlers(record)\n",
            "  File \"/usr/lib/python3.10/logging/__init__.py\", line 1696, in callHandlers\n",
            "    hdlr.handle(record)\n",
            "  File \"/usr/lib/python3.10/logging/__init__.py\", line 968, in handle\n",
            "    self.emit(record)\n",
            "  File \"/usr/local/lib/python3.10/dist-packages/pip/_internal/utils/logging.py\", line 177, in emit\n",
            "    self.console.print(renderable, overflow=\"ignore\", crop=False, style=style)\n",
            "  File \"/usr/local/lib/python3.10/dist-packages/pip/_vendor/rich/console.py\", line 1701, in print\n",
            "    extend(\n",
            "  File \"/usr/local/lib/python3.10/dist-packages/pip/_vendor/rich/segment.py\", line 198, in <genexpr>\n",
            "    result_segments = (\n",
            "  File \"/usr/local/lib/python3.10/dist-packages/pip/_vendor/rich/console.py\", line 1309, in render\n",
            "    if hasattr(renderable, \"__rich_console__\") and not isclass(renderable):\n",
            "KeyboardInterrupt\n",
            "^C\n"
          ]
        }
      ]
    },
    {
      "cell_type": "code",
      "source": [
        "# Instalando o módulo unidecode que é uma biblioteca externa que fornece\n",
        "# funcionalidades para remover a acentuação de caracteres em strings.\n",
        "!pip install unidecode"
      ],
      "metadata": {
        "colab": {
          "base_uri": "https://localhost:8080/"
        },
        "id": "MFfbvVN8Taa7",
        "outputId": "303f56fd-2475-4d3f-c635-25c5f650eca3"
      },
      "execution_count": 54,
      "outputs": [
        {
          "output_type": "stream",
          "name": "stdout",
          "text": [
            "Collecting unidecode\n",
            "  Downloading Unidecode-1.3.6-py3-none-any.whl (235 kB)\n",
            "\u001b[?25l     \u001b[90m━━━━━━━━━━━━━━━━━━━━━━━━━━━━━━━━━━━━━━━━\u001b[0m \u001b[32m0.0/235.9 kB\u001b[0m \u001b[31m?\u001b[0m eta \u001b[36m-:--:--\u001b[0m\r\u001b[2K     \u001b[91m━━━━━━━━━━━━━━━━━━━━━━━━━━━━━━━━━━━━━━\u001b[0m\u001b[91m╸\u001b[0m \u001b[32m235.5/235.9 kB\u001b[0m \u001b[31m7.0 MB/s\u001b[0m eta \u001b[36m0:00:01\u001b[0m\r\u001b[2K     \u001b[90m━━━━━━━━━━━━━━━━━━━━━━━━━━━━━━━━━━━━━━━\u001b[0m \u001b[32m235.9/235.9 kB\u001b[0m \u001b[31m5.6 MB/s\u001b[0m eta \u001b[36m0:00:00\u001b[0m\n",
            "\u001b[?25hInstalling collected packages: unidecode\n",
            "Successfully installed unidecode-1.3.6\n"
          ]
        }
      ]
    },
    {
      "cell_type": "code",
      "source": [
        "# Baixando o modelo de processamento de linguagem natural para a língua portuguesa\n",
        "# fornecido pela biblioteca SpaCy.\n",
        "!python -m spacy download pt"
      ],
      "metadata": {
        "colab": {
          "base_uri": "https://localhost:8080/"
        },
        "id": "hLn8WX3fIQxl",
        "outputId": "97e702bd-21b6-4d6c-cb9c-83b6ce4c06c7"
      },
      "execution_count": 55,
      "outputs": [
        {
          "output_type": "stream",
          "name": "stdout",
          "text": [
            "2023-07-22 00:05:29.769882: W tensorflow/compiler/tf2tensorrt/utils/py_utils.cc:38] TF-TRT Warning: Could not find TensorRT\n",
            "\u001b[38;5;3m⚠ As of spaCy v3.0, shortcuts like 'pt' are deprecated. Please use the\n",
            "full pipeline package name 'pt_core_news_sm' instead.\u001b[0m\n",
            "Collecting pt-core-news-sm==3.5.0\n",
            "  Downloading https://github.com/explosion/spacy-models/releases/download/pt_core_news_sm-3.5.0/pt_core_news_sm-3.5.0-py3-none-any.whl (13.0 MB)\n",
            "\u001b[2K     \u001b[90m━━━━━━━━━━━━━━━━━━━━━━━━━━━━━━━━━━━━━━━━\u001b[0m \u001b[32m13.0/13.0 MB\u001b[0m \u001b[31m24.9 MB/s\u001b[0m eta \u001b[36m0:00:00\u001b[0m\n",
            "\u001b[?25hRequirement already satisfied: spacy<3.6.0,>=3.5.0 in /usr/local/lib/python3.10/dist-packages (from pt-core-news-sm==3.5.0) (3.5.4)\n",
            "Requirement already satisfied: spacy-legacy<3.1.0,>=3.0.11 in /usr/local/lib/python3.10/dist-packages (from spacy<3.6.0,>=3.5.0->pt-core-news-sm==3.5.0) (3.0.12)\n",
            "Requirement already satisfied: spacy-loggers<2.0.0,>=1.0.0 in /usr/local/lib/python3.10/dist-packages (from spacy<3.6.0,>=3.5.0->pt-core-news-sm==3.5.0) (1.0.4)\n",
            "Requirement already satisfied: murmurhash<1.1.0,>=0.28.0 in /usr/local/lib/python3.10/dist-packages (from spacy<3.6.0,>=3.5.0->pt-core-news-sm==3.5.0) (1.0.9)\n",
            "Requirement already satisfied: cymem<2.1.0,>=2.0.2 in /usr/local/lib/python3.10/dist-packages (from spacy<3.6.0,>=3.5.0->pt-core-news-sm==3.5.0) (2.0.7)\n",
            "Requirement already satisfied: preshed<3.1.0,>=3.0.2 in /usr/local/lib/python3.10/dist-packages (from spacy<3.6.0,>=3.5.0->pt-core-news-sm==3.5.0) (3.0.8)\n",
            "Requirement already satisfied: thinc<8.2.0,>=8.1.8 in /usr/local/lib/python3.10/dist-packages (from spacy<3.6.0,>=3.5.0->pt-core-news-sm==3.5.0) (8.1.10)\n",
            "Requirement already satisfied: wasabi<1.2.0,>=0.9.1 in /usr/local/lib/python3.10/dist-packages (from spacy<3.6.0,>=3.5.0->pt-core-news-sm==3.5.0) (1.1.2)\n",
            "Requirement already satisfied: srsly<3.0.0,>=2.4.3 in /usr/local/lib/python3.10/dist-packages (from spacy<3.6.0,>=3.5.0->pt-core-news-sm==3.5.0) (2.4.7)\n",
            "Requirement already satisfied: catalogue<2.1.0,>=2.0.6 in /usr/local/lib/python3.10/dist-packages (from spacy<3.6.0,>=3.5.0->pt-core-news-sm==3.5.0) (2.0.8)\n",
            "Requirement already satisfied: typer<0.10.0,>=0.3.0 in /usr/local/lib/python3.10/dist-packages (from spacy<3.6.0,>=3.5.0->pt-core-news-sm==3.5.0) (0.9.0)\n",
            "Requirement already satisfied: pathy>=0.10.0 in /usr/local/lib/python3.10/dist-packages (from spacy<3.6.0,>=3.5.0->pt-core-news-sm==3.5.0) (0.10.2)\n",
            "Requirement already satisfied: smart-open<7.0.0,>=5.2.1 in /usr/local/lib/python3.10/dist-packages (from spacy<3.6.0,>=3.5.0->pt-core-news-sm==3.5.0) (6.3.0)\n",
            "Requirement already satisfied: tqdm<5.0.0,>=4.38.0 in /usr/local/lib/python3.10/dist-packages (from spacy<3.6.0,>=3.5.0->pt-core-news-sm==3.5.0) (4.65.0)\n",
            "Requirement already satisfied: numpy>=1.15.0 in /usr/local/lib/python3.10/dist-packages (from spacy<3.6.0,>=3.5.0->pt-core-news-sm==3.5.0) (1.22.4)\n",
            "Requirement already satisfied: requests<3.0.0,>=2.13.0 in /usr/local/lib/python3.10/dist-packages (from spacy<3.6.0,>=3.5.0->pt-core-news-sm==3.5.0) (2.27.1)\n",
            "Requirement already satisfied: pydantic!=1.8,!=1.8.1,<1.11.0,>=1.7.4 in /usr/local/lib/python3.10/dist-packages (from spacy<3.6.0,>=3.5.0->pt-core-news-sm==3.5.0) (1.10.11)\n",
            "Requirement already satisfied: jinja2 in /usr/local/lib/python3.10/dist-packages (from spacy<3.6.0,>=3.5.0->pt-core-news-sm==3.5.0) (3.1.2)\n",
            "Requirement already satisfied: setuptools in /usr/local/lib/python3.10/dist-packages (from spacy<3.6.0,>=3.5.0->pt-core-news-sm==3.5.0) (67.7.2)\n",
            "Requirement already satisfied: packaging>=20.0 in /usr/local/lib/python3.10/dist-packages (from spacy<3.6.0,>=3.5.0->pt-core-news-sm==3.5.0) (23.1)\n",
            "Requirement already satisfied: langcodes<4.0.0,>=3.2.0 in /usr/local/lib/python3.10/dist-packages (from spacy<3.6.0,>=3.5.0->pt-core-news-sm==3.5.0) (3.3.0)\n",
            "Requirement already satisfied: typing-extensions>=4.2.0 in /usr/local/lib/python3.10/dist-packages (from pydantic!=1.8,!=1.8.1,<1.11.0,>=1.7.4->spacy<3.6.0,>=3.5.0->pt-core-news-sm==3.5.0) (4.7.1)\n",
            "Requirement already satisfied: urllib3<1.27,>=1.21.1 in /usr/local/lib/python3.10/dist-packages (from requests<3.0.0,>=2.13.0->spacy<3.6.0,>=3.5.0->pt-core-news-sm==3.5.0) (1.26.16)\n",
            "Requirement already satisfied: certifi>=2017.4.17 in /usr/local/lib/python3.10/dist-packages (from requests<3.0.0,>=2.13.0->spacy<3.6.0,>=3.5.0->pt-core-news-sm==3.5.0) (2023.5.7)\n",
            "Requirement already satisfied: charset-normalizer~=2.0.0 in /usr/local/lib/python3.10/dist-packages (from requests<3.0.0,>=2.13.0->spacy<3.6.0,>=3.5.0->pt-core-news-sm==3.5.0) (2.0.12)\n",
            "Requirement already satisfied: idna<4,>=2.5 in /usr/local/lib/python3.10/dist-packages (from requests<3.0.0,>=2.13.0->spacy<3.6.0,>=3.5.0->pt-core-news-sm==3.5.0) (3.4)\n",
            "Requirement already satisfied: blis<0.8.0,>=0.7.8 in /usr/local/lib/python3.10/dist-packages (from thinc<8.2.0,>=8.1.8->spacy<3.6.0,>=3.5.0->pt-core-news-sm==3.5.0) (0.7.9)\n",
            "Requirement already satisfied: confection<1.0.0,>=0.0.1 in /usr/local/lib/python3.10/dist-packages (from thinc<8.2.0,>=8.1.8->spacy<3.6.0,>=3.5.0->pt-core-news-sm==3.5.0) (0.1.0)\n",
            "Requirement already satisfied: click<9.0.0,>=7.1.1 in /usr/local/lib/python3.10/dist-packages (from typer<0.10.0,>=0.3.0->spacy<3.6.0,>=3.5.0->pt-core-news-sm==3.5.0) (8.1.6)\n",
            "Requirement already satisfied: MarkupSafe>=2.0 in /usr/local/lib/python3.10/dist-packages (from jinja2->spacy<3.6.0,>=3.5.0->pt-core-news-sm==3.5.0) (2.1.3)\n",
            "Installing collected packages: pt-core-news-sm\n",
            "Successfully installed pt-core-news-sm-3.5.0\n",
            "\u001b[38;5;2m✔ Download and installation successful\u001b[0m\n",
            "You can now load the package via spacy.load('pt_core_news_sm')\n"
          ]
        }
      ]
    },
    {
      "cell_type": "code",
      "source": [
        "## Importação de Pacotes Básicos\n",
        "\n",
        "# Pandas: Pacote que fornece ferramentas com grande poder para manipulação e análise de dados,\n",
        "# de maneira simples e eficiente.\n",
        "# Numpy: Pacote cujo foco são as operações matemáticas.\n",
        "# Matplotlib: Pacote para visualização de dados.\n",
        "# Seaborn: Pacote de ferramentas para plotagem dos mais variados tipos de gráficos.\n",
        "\n",
        "import pandas as pd\n",
        "\n",
        "pd.set_option('max_colwidth', 400) # usada para definir a largura máxima de exibição de colunas em\n",
        "# um DataFrame do pandas\n",
        "\n",
        "import matplotlib.pyplot as plt\n",
        "\n",
        "plt.style.use('fivethirtyeight') # rojetado para se assemelhar ao estilo de gráficos usado no site\n",
        "# de notícias e análises políticas FiveThirtyEight.\n",
        "\n",
        "import numpy as np\n",
        "import seaborn as sns"
      ],
      "metadata": {
        "id": "TKCqz9vDNawI"
      },
      "execution_count": 56,
      "outputs": []
    },
    {
      "cell_type": "code",
      "source": [
        "## Importação de Pacotes Sklearn\n",
        "# Sklearn: Pacote de ferramentas para tarefas comuns de aprendizado de máquina.\n",
        "\n",
        "from sklearn.model_selection import train_test_split # divide um conjunto de dados em treino e teste\n",
        "\n",
        "from sklearn.feature_extraction.text import TfidfVectorizer # é usada para transformar uma coleção de\n",
        "# documentos de texto em uma matriz de recursos TF-IDF (Term Frequency-Inverse Document Frequency).\n",
        "\n",
        "from sklearn.ensemble import ExtraTreesClassifier # implementação do algoritmo de classificação chamado\n",
        "# Extra Trees (Extra Randomized Trees) no scikit-learn.\n",
        "\n",
        "from sklearn.naive_bayes import MultinomialNB # implementação do algoritmo de classificação chamado\n",
        "# Naive Bayes Multinomial no scikit-learn.\n",
        "\n",
        "from sklearn.metrics import accuracy_score, log_loss,confusion_matrix # métricas de avaliação de desempenho\n",
        "\n",
        "from sklearn.decomposition import NMF # Non-Negative Matrix Factorization é um algoritmo de decomposição\n",
        "# de matriz não negativa\n",
        "\n",
        "from sklearn.manifold import TSNE # t-Distributed Stochastic Neighbor Embedding) é um algoritmo de redução\n",
        "# de dimensionalidade não linear"
      ],
      "metadata": {
        "id": "fMF7phU9N1KH"
      },
      "execution_count": 57,
      "outputs": []
    },
    {
      "cell_type": "code",
      "source": [
        "## Importação de Pacotes para Processamento de linguagem natural\n",
        "\n",
        "# Re: Pacote que fornece funcionalidades para trabalhar com expressões regulares.\n",
        "# Unicode:  Biblioteca externa do Python que fornece uma função para remover a acentuação de\n",
        "# caracteres em strings.\n",
        "# Spacy: Pacote de processamento de linguagem natural (PLN) de código aberto.\n",
        "# NLTH: Pacote de processamento de linguagem natural (PLN) de código aberto.\n",
        "# Gensim: Pacote de processamento de linguagem natural (PLN) de código aberto.\n",
        "# PIL: Python Imaging Library,  para processamento de imagens em Python.\n",
        "# Wordcloud: Pacote para criar nuvens de palavras.\n",
        "# Random: PAcote com funcionalidades relacionadas à geração de números pseudoaleatórios.\n",
        "\n",
        "import re\n",
        "import spacy\n",
        "import random\n",
        "import nltk\n",
        "\n",
        "from nltk import FreqDist # calcula a distribuição de frequência de um conjunto de elementos\n",
        "# em uma lista ou sequência\n",
        "\n",
        "nltk.download('rslp') #download e instalação do recurso RSLP no seu ambiente Python.\n",
        "\n",
        "from gensim.models.phrases import Phrases, Phraser # utilizadas para realizar a detecção de\n",
        "# frases ou bigramas em um corpus de texto.\n",
        "\n",
        "from gensim.models import Word2Vec # utilizada para treinar modelos de representação vetorial\n",
        "# de palavras.\n",
        "\n",
        "from unidecode import unidecode\n",
        "\n",
        "from PIL import Image\n",
        "from wordcloud import WordCloud"
      ],
      "metadata": {
        "colab": {
          "base_uri": "https://localhost:8080/"
        },
        "id": "PX43_RWcLbXJ",
        "outputId": "06b71d78-b7b7-41c6-d115-98fa37f0a5da"
      },
      "execution_count": 58,
      "outputs": [
        {
          "output_type": "stream",
          "name": "stderr",
          "text": [
            "[nltk_data] Downloading package rslp to /root/nltk_data...\n",
            "[nltk_data]   Unzipping stemmers/rslp.zip.\n"
          ]
        }
      ]
    },
    {
      "cell_type": "markdown",
      "source": [
        "# 2.Coleta e Análise de Dados\n"
      ],
      "metadata": {
        "id": "lqnM-klHUHKk"
      }
    },
    {
      "cell_type": "markdown",
      "source": [
        "## 2.1. Importação da Base de Dados"
      ],
      "metadata": {
        "id": "dfs9KaqPULoQ"
      }
    },
    {
      "cell_type": "code",
      "source": [
        "## Carga das Bases de Dados\n",
        "# Os datasets estão em domínio público no GitHub, uma plataforma de hospedagem de código-fonte.\n",
        "\n",
        "# Dataset com dados dos clientes\n",
        "df_clientes = pd.read_csv('https://github.com/dayanallima/ciencia_dados/blob/main/olist_customers_dataset.csv?raw=true')\n",
        "\n",
        "# Dataset com dados dos pedidos\n",
        "df_pedidos = pd.read_csv('https://github.com/dayanallima/ciencia_dados/blob/main/olist_orders_dataset.csv?raw=true')\n",
        "\n",
        "# Dataset com dados das avaliações dos pedidos\n",
        "df_avaliacao = pd.read_csv('https://github.com/dayanallima/ciencia_dados/blob/main/olist_order_reviews_dataset.csv?raw=true')"
      ],
      "metadata": {
        "id": "wxmrjGygURyA"
      },
      "execution_count": 59,
      "outputs": []
    },
    {
      "cell_type": "markdown",
      "source": [
        "##2.2. Explorando a Base de Dados"
      ],
      "metadata": {
        "id": "ykt42EyWuZEb"
      }
    },
    {
      "cell_type": "code",
      "source": [
        "# Dimensões do dataset (linhas, colunas)\n",
        "print('Dimensões do DataSet Clientes:')\n",
        "df_clientes.shape"
      ],
      "metadata": {
        "colab": {
          "base_uri": "https://localhost:8080/"
        },
        "id": "6FdoBJ10unnr",
        "outputId": "1573e564-ca04-4b95-fb7a-64a2852d76f5"
      },
      "execution_count": 60,
      "outputs": [
        {
          "output_type": "stream",
          "name": "stdout",
          "text": [
            "Dimensões do DataSet Clientes:\n"
          ]
        },
        {
          "output_type": "execute_result",
          "data": {
            "text/plain": [
              "(99441, 5)"
            ]
          },
          "metadata": {},
          "execution_count": 60
        }
      ]
    },
    {
      "cell_type": "code",
      "source": [
        "# Dimensões do dataset (linhas, colunas)\n",
        "print('Dimensões do DataSet Pedidos:')\n",
        "df_pedidos.shape"
      ],
      "metadata": {
        "colab": {
          "base_uri": "https://localhost:8080/"
        },
        "id": "LbMACtNvv2pw",
        "outputId": "20237860-fb51-492d-e3a3-2b1de16bdee4"
      },
      "execution_count": 61,
      "outputs": [
        {
          "output_type": "stream",
          "name": "stdout",
          "text": [
            "Dimensões do DataSet Pedidos:\n"
          ]
        },
        {
          "output_type": "execute_result",
          "data": {
            "text/plain": [
              "(99441, 8)"
            ]
          },
          "metadata": {},
          "execution_count": 61
        }
      ]
    },
    {
      "cell_type": "code",
      "source": [
        "# Dimensões do dataset (linhas, colunas)\n",
        "print('Dimensões do DataSet Avaliação:')\n",
        "df_avaliacao.shape"
      ],
      "metadata": {
        "colab": {
          "base_uri": "https://localhost:8080/"
        },
        "id": "OkYPFKpDwAYR",
        "outputId": "e6c571e6-da1f-4ebc-bd62-9ce82cf199c5"
      },
      "execution_count": 62,
      "outputs": [
        {
          "output_type": "stream",
          "name": "stdout",
          "text": [
            "Dimensões do DataSet Avaliação:\n"
          ]
        },
        {
          "output_type": "execute_result",
          "data": {
            "text/plain": [
              "(99224, 7)"
            ]
          },
          "metadata": {},
          "execution_count": 62
        }
      ]
    },
    {
      "cell_type": "markdown",
      "source": [
        "##2.2.a. Construindo um novo dataset"
      ],
      "metadata": {
        "id": "n21LWo10yFFX"
      }
    },
    {
      "cell_type": "code",
      "source": [
        "# Checagem das colunas do datase\n",
        "print('Colunas do DataSet Clientes:')\n",
        "df_clientes.columns"
      ],
      "metadata": {
        "colab": {
          "base_uri": "https://localhost:8080/"
        },
        "id": "0iR5-nCXyPd4",
        "outputId": "f2373cfb-3577-4003-bcc5-6ed1d66ba7af"
      },
      "execution_count": 63,
      "outputs": [
        {
          "output_type": "stream",
          "name": "stdout",
          "text": [
            "Colunas do DataSet Clientes:\n"
          ]
        },
        {
          "output_type": "execute_result",
          "data": {
            "text/plain": [
              "Index(['customer_id', 'customer_unique_id', 'customer_zip_code_prefix',\n",
              "       'customer_city', 'customer_state'],\n",
              "      dtype='object')"
            ]
          },
          "metadata": {},
          "execution_count": 63
        }
      ]
    },
    {
      "cell_type": "code",
      "source": [
        "# Checagem das colunas do datase\n",
        "print('Colunas do DataSet Pedidos:')\n",
        "df_pedidos.columns"
      ],
      "metadata": {
        "colab": {
          "base_uri": "https://localhost:8080/"
        },
        "id": "rbshnV5_yYZL",
        "outputId": "1d1d7394-7777-4646-e07b-24a215a2b5a7"
      },
      "execution_count": 64,
      "outputs": [
        {
          "output_type": "stream",
          "name": "stdout",
          "text": [
            "Colunas do DataSet Pedidos:\n"
          ]
        },
        {
          "output_type": "execute_result",
          "data": {
            "text/plain": [
              "Index(['order_id', 'customer_id', 'order_status', 'order_purchase_timestamp',\n",
              "       'order_approved_at', 'order_delivered_carrier_date',\n",
              "       'order_delivered_customer_date', 'order_estimated_delivery_date'],\n",
              "      dtype='object')"
            ]
          },
          "metadata": {},
          "execution_count": 64
        }
      ]
    },
    {
      "cell_type": "code",
      "source": [
        "# Checagem das colunas do datase\n",
        "print('Dimensões do DataSet Avaliação:')\n",
        "df_avaliacao.columns"
      ],
      "metadata": {
        "colab": {
          "base_uri": "https://localhost:8080/"
        },
        "id": "z5ySbHYjyfMX",
        "outputId": "e6a0dfa1-2498-439f-9852-ef031f527610"
      },
      "execution_count": 65,
      "outputs": [
        {
          "output_type": "stream",
          "name": "stdout",
          "text": [
            "Dimensões do DataSet Avaliação:\n"
          ]
        },
        {
          "output_type": "execute_result",
          "data": {
            "text/plain": [
              "Index(['review_id', 'order_id', 'review_score', 'review_comment_title',\n",
              "       'review_comment_message', 'review_creation_date',\n",
              "       'review_answer_timestamp'],\n",
              "      dtype='object')"
            ]
          },
          "metadata": {},
          "execution_count": 65
        }
      ]
    },
    {
      "cell_type": "code",
      "source": [
        "# Construindo um dataset a partir da manipulação das bases de dados\n",
        "# Unindo os datasets Consumidores e Pedidos por meio da coluna 'customer_id'\n",
        "df = df_clientes.merge(df_pedidos, how='left', on='customer_id')"
      ],
      "metadata": {
        "id": "Wg0Xe2dHxDoF"
      },
      "execution_count": 66,
      "outputs": []
    },
    {
      "cell_type": "code",
      "source": [
        "# Construindo um dataset a partir da manipulação das bases de dados\n",
        "# Unindo o dataset da linha anterior com Avaliação de pedidos por meio da coluna 'order_id'\n",
        "df = df.merge(df_avaliacao, how='left', on='order_id')"
      ],
      "metadata": {
        "id": "QIrtnnvt0UBS"
      },
      "execution_count": 67,
      "outputs": []
    },
    {
      "cell_type": "code",
      "source": [
        "# Checagem das colunas do datase agrupado\n",
        "print('Dimensões do DataSet Agrupado:')\n",
        "df.columns"
      ],
      "metadata": {
        "colab": {
          "base_uri": "https://localhost:8080/"
        },
        "id": "rZ_uvrmCFO0-",
        "outputId": "a76f7846-e1ab-41dc-cada-4e9f0d8c3adc"
      },
      "execution_count": 68,
      "outputs": [
        {
          "output_type": "stream",
          "name": "stdout",
          "text": [
            "Dimensões do DataSet Agrupado:\n"
          ]
        },
        {
          "output_type": "execute_result",
          "data": {
            "text/plain": [
              "Index(['customer_id', 'customer_unique_id', 'customer_zip_code_prefix',\n",
              "       'customer_city', 'customer_state', 'order_id', 'order_status',\n",
              "       'order_purchase_timestamp', 'order_approved_at',\n",
              "       'order_delivered_carrier_date', 'order_delivered_customer_date',\n",
              "       'order_estimated_delivery_date', 'review_id', 'review_score',\n",
              "       'review_comment_title', 'review_comment_message',\n",
              "       'review_creation_date', 'review_answer_timestamp'],\n",
              "      dtype='object')"
            ]
          },
          "metadata": {},
          "execution_count": 68
        }
      ]
    },
    {
      "cell_type": "code",
      "source": [
        "# Define a semente para a geração de números aleatórios\n",
        "np.random.seed(100)\n",
        "\n",
        "# Faz a amostragem aleatória de 1 registro do DataFrame df.\n",
        "# Isso seleciona aleatoriamente uma linha do DataFrame.\n",
        "# .T é usado para transpor o resultado\n",
        "df.sample(1).T"
      ],
      "metadata": {
        "colab": {
          "base_uri": "https://localhost:8080/",
          "height": 614
        },
        "id": "dpFd1QaZ1aLx",
        "outputId": "911c3c64-8c43-406b-de1c-55966ac54866"
      },
      "execution_count": 69,
      "outputs": [
        {
          "output_type": "execute_result",
          "data": {
            "text/plain": [
              "                                                                                    72464\n",
              "customer_id                                              336efbe454423ed05946e5bdfd1810f7\n",
              "customer_unique_id                                       3c24feb1177149a73ee87c838ad1a04a\n",
              "customer_zip_code_prefix                                                            35585\n",
              "customer_city                                                                     pimenta\n",
              "customer_state                                                                         MG\n",
              "order_id                                                 d1bbc3ea80f956f0a139a12f1ef2ca28\n",
              "order_status                                                                    delivered\n",
              "order_purchase_timestamp                                              2018-02-03 18:58:52\n",
              "order_approved_at                                                     2018-02-03 22:49:33\n",
              "order_delivered_carrier_date                                          2018-02-06 17:42:12\n",
              "order_delivered_customer_date                                         2018-02-15 19:49:00\n",
              "order_estimated_delivery_date                                         2018-03-12 00:00:00\n",
              "review_id                                                32c590c829429732dbc7551960965c6c\n",
              "review_score                                                                          5.0\n",
              "review_comment_title                                                                  NaN\n",
              "review_comment_message         Ótimo produto!\\r\\nEntregue antes do prazo!\\r\\nSatisfeito! \n",
              "review_creation_date                                                  2018-02-16 00:00:00\n",
              "review_answer_timestamp                                               2018-02-16 22:22:53"
            ],
            "text/html": [
              "\n",
              "\n",
              "  <div id=\"df-94585990-8843-4f0b-9571-0e70059845ae\">\n",
              "    <div class=\"colab-df-container\">\n",
              "      <div>\n",
              "<style scoped>\n",
              "    .dataframe tbody tr th:only-of-type {\n",
              "        vertical-align: middle;\n",
              "    }\n",
              "\n",
              "    .dataframe tbody tr th {\n",
              "        vertical-align: top;\n",
              "    }\n",
              "\n",
              "    .dataframe thead th {\n",
              "        text-align: right;\n",
              "    }\n",
              "</style>\n",
              "<table border=\"1\" class=\"dataframe\">\n",
              "  <thead>\n",
              "    <tr style=\"text-align: right;\">\n",
              "      <th></th>\n",
              "      <th>72464</th>\n",
              "    </tr>\n",
              "  </thead>\n",
              "  <tbody>\n",
              "    <tr>\n",
              "      <th>customer_id</th>\n",
              "      <td>336efbe454423ed05946e5bdfd1810f7</td>\n",
              "    </tr>\n",
              "    <tr>\n",
              "      <th>customer_unique_id</th>\n",
              "      <td>3c24feb1177149a73ee87c838ad1a04a</td>\n",
              "    </tr>\n",
              "    <tr>\n",
              "      <th>customer_zip_code_prefix</th>\n",
              "      <td>35585</td>\n",
              "    </tr>\n",
              "    <tr>\n",
              "      <th>customer_city</th>\n",
              "      <td>pimenta</td>\n",
              "    </tr>\n",
              "    <tr>\n",
              "      <th>customer_state</th>\n",
              "      <td>MG</td>\n",
              "    </tr>\n",
              "    <tr>\n",
              "      <th>order_id</th>\n",
              "      <td>d1bbc3ea80f956f0a139a12f1ef2ca28</td>\n",
              "    </tr>\n",
              "    <tr>\n",
              "      <th>order_status</th>\n",
              "      <td>delivered</td>\n",
              "    </tr>\n",
              "    <tr>\n",
              "      <th>order_purchase_timestamp</th>\n",
              "      <td>2018-02-03 18:58:52</td>\n",
              "    </tr>\n",
              "    <tr>\n",
              "      <th>order_approved_at</th>\n",
              "      <td>2018-02-03 22:49:33</td>\n",
              "    </tr>\n",
              "    <tr>\n",
              "      <th>order_delivered_carrier_date</th>\n",
              "      <td>2018-02-06 17:42:12</td>\n",
              "    </tr>\n",
              "    <tr>\n",
              "      <th>order_delivered_customer_date</th>\n",
              "      <td>2018-02-15 19:49:00</td>\n",
              "    </tr>\n",
              "    <tr>\n",
              "      <th>order_estimated_delivery_date</th>\n",
              "      <td>2018-03-12 00:00:00</td>\n",
              "    </tr>\n",
              "    <tr>\n",
              "      <th>review_id</th>\n",
              "      <td>32c590c829429732dbc7551960965c6c</td>\n",
              "    </tr>\n",
              "    <tr>\n",
              "      <th>review_score</th>\n",
              "      <td>5.0</td>\n",
              "    </tr>\n",
              "    <tr>\n",
              "      <th>review_comment_title</th>\n",
              "      <td>NaN</td>\n",
              "    </tr>\n",
              "    <tr>\n",
              "      <th>review_comment_message</th>\n",
              "      <td>Ótimo produto!\\r\\nEntregue antes do prazo!\\r\\nSatisfeito!</td>\n",
              "    </tr>\n",
              "    <tr>\n",
              "      <th>review_creation_date</th>\n",
              "      <td>2018-02-16 00:00:00</td>\n",
              "    </tr>\n",
              "    <tr>\n",
              "      <th>review_answer_timestamp</th>\n",
              "      <td>2018-02-16 22:22:53</td>\n",
              "    </tr>\n",
              "  </tbody>\n",
              "</table>\n",
              "</div>\n",
              "      <button class=\"colab-df-convert\" onclick=\"convertToInteractive('df-94585990-8843-4f0b-9571-0e70059845ae')\"\n",
              "              title=\"Convert this dataframe to an interactive table.\"\n",
              "              style=\"display:none;\">\n",
              "\n",
              "  <svg xmlns=\"http://www.w3.org/2000/svg\" height=\"24px\"viewBox=\"0 0 24 24\"\n",
              "       width=\"24px\">\n",
              "    <path d=\"M0 0h24v24H0V0z\" fill=\"none\"/>\n",
              "    <path d=\"M18.56 5.44l.94 2.06.94-2.06 2.06-.94-2.06-.94-.94-2.06-.94 2.06-2.06.94zm-11 1L8.5 8.5l.94-2.06 2.06-.94-2.06-.94L8.5 2.5l-.94 2.06-2.06.94zm10 10l.94 2.06.94-2.06 2.06-.94-2.06-.94-.94-2.06-.94 2.06-2.06.94z\"/><path d=\"M17.41 7.96l-1.37-1.37c-.4-.4-.92-.59-1.43-.59-.52 0-1.04.2-1.43.59L10.3 9.45l-7.72 7.72c-.78.78-.78 2.05 0 2.83L4 21.41c.39.39.9.59 1.41.59.51 0 1.02-.2 1.41-.59l7.78-7.78 2.81-2.81c.8-.78.8-2.07 0-2.86zM5.41 20L4 18.59l7.72-7.72 1.47 1.35L5.41 20z\"/>\n",
              "  </svg>\n",
              "      </button>\n",
              "\n",
              "\n",
              "\n",
              "    <div id=\"df-681ab0b5-77f5-4ee4-a925-ba0ded04896e\">\n",
              "      <button class=\"colab-df-quickchart\" onclick=\"quickchart('df-681ab0b5-77f5-4ee4-a925-ba0ded04896e')\"\n",
              "              title=\"Suggest charts.\"\n",
              "              style=\"display:none;\">\n",
              "\n",
              "<svg xmlns=\"http://www.w3.org/2000/svg\" height=\"24px\"viewBox=\"0 0 24 24\"\n",
              "     width=\"24px\">\n",
              "    <g>\n",
              "        <path d=\"M19 3H5c-1.1 0-2 .9-2 2v14c0 1.1.9 2 2 2h14c1.1 0 2-.9 2-2V5c0-1.1-.9-2-2-2zM9 17H7v-7h2v7zm4 0h-2V7h2v10zm4 0h-2v-4h2v4z\"/>\n",
              "    </g>\n",
              "</svg>\n",
              "      </button>\n",
              "    </div>\n",
              "\n",
              "<style>\n",
              "  .colab-df-quickchart {\n",
              "    background-color: #E8F0FE;\n",
              "    border: none;\n",
              "    border-radius: 50%;\n",
              "    cursor: pointer;\n",
              "    display: none;\n",
              "    fill: #1967D2;\n",
              "    height: 32px;\n",
              "    padding: 0 0 0 0;\n",
              "    width: 32px;\n",
              "  }\n",
              "\n",
              "  .colab-df-quickchart:hover {\n",
              "    background-color: #E2EBFA;\n",
              "    box-shadow: 0px 1px 2px rgba(60, 64, 67, 0.3), 0px 1px 3px 1px rgba(60, 64, 67, 0.15);\n",
              "    fill: #174EA6;\n",
              "  }\n",
              "\n",
              "  [theme=dark] .colab-df-quickchart {\n",
              "    background-color: #3B4455;\n",
              "    fill: #D2E3FC;\n",
              "  }\n",
              "\n",
              "  [theme=dark] .colab-df-quickchart:hover {\n",
              "    background-color: #434B5C;\n",
              "    box-shadow: 0px 1px 3px 1px rgba(0, 0, 0, 0.15);\n",
              "    filter: drop-shadow(0px 1px 2px rgba(0, 0, 0, 0.3));\n",
              "    fill: #FFFFFF;\n",
              "  }\n",
              "</style>\n",
              "\n",
              "    <script>\n",
              "      async function quickchart(key) {\n",
              "        const containerElement = document.querySelector('#' + key);\n",
              "        const charts = await google.colab.kernel.invokeFunction(\n",
              "            'suggestCharts', [key], {});\n",
              "      }\n",
              "    </script>\n",
              "\n",
              "      <script>\n",
              "\n",
              "function displayQuickchartButton(domScope) {\n",
              "  let quickchartButtonEl =\n",
              "    domScope.querySelector('#df-681ab0b5-77f5-4ee4-a925-ba0ded04896e button.colab-df-quickchart');\n",
              "  quickchartButtonEl.style.display =\n",
              "    google.colab.kernel.accessAllowed ? 'block' : 'none';\n",
              "}\n",
              "\n",
              "        displayQuickchartButton(document);\n",
              "      </script>\n",
              "      <style>\n",
              "    .colab-df-container {\n",
              "      display:flex;\n",
              "      flex-wrap:wrap;\n",
              "      gap: 12px;\n",
              "    }\n",
              "\n",
              "    .colab-df-convert {\n",
              "      background-color: #E8F0FE;\n",
              "      border: none;\n",
              "      border-radius: 50%;\n",
              "      cursor: pointer;\n",
              "      display: none;\n",
              "      fill: #1967D2;\n",
              "      height: 32px;\n",
              "      padding: 0 0 0 0;\n",
              "      width: 32px;\n",
              "    }\n",
              "\n",
              "    .colab-df-convert:hover {\n",
              "      background-color: #E2EBFA;\n",
              "      box-shadow: 0px 1px 2px rgba(60, 64, 67, 0.3), 0px 1px 3px 1px rgba(60, 64, 67, 0.15);\n",
              "      fill: #174EA6;\n",
              "    }\n",
              "\n",
              "    [theme=dark] .colab-df-convert {\n",
              "      background-color: #3B4455;\n",
              "      fill: #D2E3FC;\n",
              "    }\n",
              "\n",
              "    [theme=dark] .colab-df-convert:hover {\n",
              "      background-color: #434B5C;\n",
              "      box-shadow: 0px 1px 3px 1px rgba(0, 0, 0, 0.15);\n",
              "      filter: drop-shadow(0px 1px 2px rgba(0, 0, 0, 0.3));\n",
              "      fill: #FFFFFF;\n",
              "    }\n",
              "  </style>\n",
              "\n",
              "      <script>\n",
              "        const buttonEl =\n",
              "          document.querySelector('#df-94585990-8843-4f0b-9571-0e70059845ae button.colab-df-convert');\n",
              "        buttonEl.style.display =\n",
              "          google.colab.kernel.accessAllowed ? 'block' : 'none';\n",
              "\n",
              "        async function convertToInteractive(key) {\n",
              "          const element = document.querySelector('#df-94585990-8843-4f0b-9571-0e70059845ae');\n",
              "          const dataTable =\n",
              "            await google.colab.kernel.invokeFunction('convertToInteractive',\n",
              "                                                     [key], {});\n",
              "          if (!dataTable) return;\n",
              "\n",
              "          const docLinkHtml = 'Like what you see? Visit the ' +\n",
              "            '<a target=\"_blank\" href=https://colab.research.google.com/notebooks/data_table.ipynb>data table notebook</a>'\n",
              "            + ' to learn more about interactive tables.';\n",
              "          element.innerHTML = '';\n",
              "          dataTable['output_type'] = 'display_data';\n",
              "          await google.colab.output.renderOutput(dataTable, element);\n",
              "          const docLink = document.createElement('div');\n",
              "          docLink.innerHTML = docLinkHtml;\n",
              "          element.appendChild(docLink);\n",
              "        }\n",
              "      </script>\n",
              "    </div>\n",
              "  </div>\n"
            ]
          },
          "metadata": {},
          "execution_count": 69
        }
      ]
    },
    {
      "cell_type": "markdown",
      "source": [
        "#3.Corpus"
      ],
      "metadata": {
        "id": "Y12zrm1S2YQM"
      }
    },
    {
      "cell_type": "markdown",
      "source": [
        "Corpus refere-se a um conjunto de textos ou documentos que são utilizados como base de dados para análise e modelagem de linguagem. Um corpus pode abranger uma ampla variedade de tipos de texto, como livros, artigos, transcrições de conversas, mensagens de mídia social, entre outros."
      ],
      "metadata": {
        "id": "UsF1pKEO7xbf"
      }
    },
    {
      "cell_type": "markdown",
      "source": [
        "## 3.1. Análise e tratamento do conteúdo dos comentários"
      ],
      "metadata": {
        "id": "sKaruLzaGqjC"
      }
    },
    {
      "cell_type": "markdown",
      "source": [
        "A coluna \"review_comment_message\" contém as informações alvo desse MVP. Nela estão os comentários base da análise."
      ],
      "metadata": {
        "id": "qtW6urV8FwIG"
      }
    },
    {
      "cell_type": "code",
      "source": [
        "## Estatística Descritiva\n",
        "# Calculndo o comprimeto das sentenças\n",
        "df['review_comment_message'].str.len().describe()"
      ],
      "metadata": {
        "colab": {
          "base_uri": "https://localhost:8080/"
        },
        "id": "Uf5T6T7f2ew3",
        "outputId": "f90495df-c301-4e43-8be4-c30a865da6fc"
      },
      "execution_count": 70,
      "outputs": [
        {
          "output_type": "execute_result",
          "data": {
            "text/plain": [
              "count    40977.000000\n",
              "mean        68.637675\n",
              "std         53.849207\n",
              "min          1.000000\n",
              "25%         28.000000\n",
              "50%         53.000000\n",
              "75%         95.000000\n",
              "max        208.000000\n",
              "Name: review_comment_message, dtype: float64"
            ]
          },
          "metadata": {},
          "execution_count": 70
        }
      ]
    },
    {
      "cell_type": "markdown",
      "source": [
        "* O número total de comentários é 40.977.\n",
        "* A média do comprimento das sentenças dos comentários é aproximadamente 68,64 caracteres.\n",
        "* O desvio padrão do comprimento das sentenças é aproximadamente 53.85 caracteres, ou seja, alto. Isso indica que os comprimentos das sentenças variam bastante em torno da média. Mas, é aceitável dentro do universo de comentários de sites de compras.\n",
        "* O menor comprimento encontrado nas sentenças dos comentários é 1 caractere.\n",
        "* 25% dos comentários têm 28 caracteres ou menos.\n",
        "* Metade dos comentários tem 53 caracteres ou menos, e a outra metade tem mais de 53 caracteres.\n",
        "* 75% dos comentários têm 95 caracteres ou menos.\n",
        "* O maior comprimento encontrado nas sentenças dos comentários é 208 caracteres."
      ],
      "metadata": {
        "id": "kgJr87TpG7aW"
      }
    },
    {
      "cell_type": "code",
      "source": [
        "# Valores Nulos e Registros Duplicados\n",
        "print('Dataset sem alterações:', df.shape)\n",
        "print('Valores Nulos na Coluna \"review_comment_message\" : ', df['review_comment_message'].isnull().sum())\n",
        "print('Registros Duplicados na Coluna \"review_comment_message\": ', df['review_comment_message'].duplicated(keep=False).sum())\n"
      ],
      "metadata": {
        "colab": {
          "base_uri": "https://localhost:8080/"
        },
        "id": "1ns0fuqE3I7d",
        "outputId": "e45679ea-b1e6-4580-a248-d6190f436cdf"
      },
      "execution_count": 71,
      "outputs": [
        {
          "output_type": "stream",
          "name": "stdout",
          "text": [
            "Dataset sem alterações: (99992, 18)\n",
            "Valores Nulos na Coluna \"review_comment_message\" :  59015\n",
            "Registros Duplicados na Coluna \"review_comment_message\":  65015\n"
          ]
        }
      ]
    },
    {
      "cell_type": "markdown",
      "source": [
        "## 3.1.a. Adequções dos comentários"
      ],
      "metadata": {
        "id": "aJ4tX0WvJvO5"
      }
    },
    {
      "cell_type": "code",
      "source": [
        "## Adequações\n",
        "\n",
        "# Remove valores ausentes na Coluna \"review_comment_message\"\n",
        "df = df[~df['review_comment_message'].isna()].reset_index(drop=True)\n",
        "\n",
        "# Filtra as linhas da coluna \"review_comment_message\" que contém pelo menos um caractere alfanumérico.\n",
        "df = df[df['review_comment_message'].str.contains(\"\\w\")]\n",
        "\n",
        "# Filtra as linhas da coluna \"review_comment_message\" que tem um comprimento maior que 5 caracteres.\n",
        "df = df[df['review_comment_message'].str.len() > 5]\n",
        "\n",
        "# Remove as linhas duplicadas com base na coluna \"review_comment_message\"\n",
        "df = df.drop_duplicates('review_comment_message').reset_index(drop=True)\n"
      ],
      "metadata": {
        "id": "zyW0JraW4E6i"
      },
      "execution_count": 72,
      "outputs": []
    },
    {
      "cell_type": "code",
      "source": [
        "# Análise após remoção dos Valores Nulos e Registros Duplicados\n",
        "print('\\nFormato do dataset após remoção de duplicados e nulos:', df.shape)\n",
        "print('Valores Nulos na Coluna \"review_comment_message\": ', df['review_comment_message'].isnull().sum())\n",
        "print('Registros Duplicados na Coluna \"review_comment_message\": ', df['review_comment_message'].duplicated(keep=False).sum())\n"
      ],
      "metadata": {
        "colab": {
          "base_uri": "https://localhost:8080/"
        },
        "id": "CGEtMl4p5MnU",
        "outputId": "f87634a4-0425-4157-a053-a5fdb9631629"
      },
      "execution_count": 73,
      "outputs": [
        {
          "output_type": "stream",
          "name": "stdout",
          "text": [
            "\n",
            "Formato do dataset após remoção de duplicados e nulos: (35936, 18)\n",
            "Valores Nulos na Coluna \"review_comment_message\":  0\n",
            "Registros Duplicados na Coluna \"review_comment_message\":  0\n"
          ]
        }
      ]
    },
    {
      "cell_type": "code",
      "source": [
        "# Calcula as estatísticas descritivas do comprimento das sentenças na coluna 'review_comment_message'\n",
        "print(df['review_comment_message'].str.len().describe())\n",
        "\n",
        "# Mostra uma mensagem na tela indicando que as próximas linhas exibirão as sentenças com 6 caracteres.\n",
        "print(\"\\nSentenças de 6 caracteres\")\n",
        "\n",
        "# Restringe as sentenças a pelo menos 6 caracteres\n",
        "print(df['review_comment_message'][df['review_comment_message'].str.len() == 6].head())"
      ],
      "metadata": {
        "colab": {
          "base_uri": "https://localhost:8080/"
        },
        "id": "2eQXTQgL51Vw",
        "outputId": "acc43a57-39f8-4420-d047-66dd99c43fba"
      },
      "execution_count": 74,
      "outputs": [
        {
          "output_type": "stream",
          "name": "stdout",
          "text": [
            "count    35936.000000\n",
            "mean        76.180293\n",
            "std         52.677845\n",
            "min          6.000000\n",
            "25%         36.000000\n",
            "50%         60.000000\n",
            "75%        103.000000\n",
            "max        208.000000\n",
            "Name: review_comment_message, dtype: float64\n",
            "\n",
            "Sentenças de 6 caracteres\n",
            "136    Ótima \n",
            "370    Otimo.\n",
            "441    otimo.\n",
            "569    Ótimo \n",
            "767    Gostei\n",
            "Name: review_comment_message, dtype: object\n"
          ]
        }
      ]
    },
    {
      "cell_type": "markdown",
      "source": [
        "O objetivo de um corpus é fornecer uma coleção representativa de dados textuais para realizar pesquisas e desenvolver modelos de PLN. O tamanho e a diversidade do corpus podem variar dependendo do objetivo da análise ou da tarefa em questão. Alguns corpus são criados especificamente para um domínio ou tarefa específica, enquanto outros são construídos para representar um conjunto mais amplo de textos de uma determinada língua ou cultura."
      ],
      "metadata": {
        "id": "Umw8LMB879ss"
      }
    },
    {
      "cell_type": "markdown",
      "source": [
        "**Foi possível identificar ocorrências de textos de avaliações com comprimentos de apenas 1 caractere, avaliações nulas e registros duplicados. Após retirada de todos os registros duplicados e nulos, e estabelecendo o comprimento mínimo de 6 caracteres, o conjunto de dados ficou com 35.936 observações.**"
      ],
      "metadata": {
        "id": "DanmW0I38EtG"
      }
    },
    {
      "cell_type": "markdown",
      "source": [
        "##3.2. Balanceamento de Classes"
      ],
      "metadata": {
        "id": "AuKqbJXf8Wk0"
      }
    },
    {
      "cell_type": "markdown",
      "source": [
        "O balanceamento de classes é uma técnica usada em aprendizado de máquina para lidar com conjuntos de dados desbalanceados, ou seja, conjuntos de dados em que as classes têm quantidades significativamente diferentes de exemplos. Essa situação é comum em muitos problemas de classificação da vida real, onde uma classe pode ter muito mais instâncias do que outras."
      ],
      "metadata": {
        "id": "7PlArJpe8pSi"
      }
    },
    {
      "cell_type": "markdown",
      "source": [
        "**Para o MVP em questão, o balanceamento de classes será realizado com a diminuição do corpus para igualar a quantidade de classes, onde serão selecionadas as avaliações de pontuação 2 e 1 como negativas, enquanto as de pontuação 5 serão definidas como positivas. De cada conjunto serão selecionadas 20.000 amostras, resultando em um corpus igualmente distribuído.**"
      ],
      "metadata": {
        "id": "dcG2Lfi-83gL"
      }
    },
    {
      "cell_type": "markdown",
      "source": [
        "A coluna \"review score\", contém a pontuação referente aos comentários."
      ],
      "metadata": {
        "id": "ZoSn1_RCJTle"
      }
    },
    {
      "cell_type": "markdown",
      "source": [
        "## 3.2.a. Visão antes do balanceamento"
      ],
      "metadata": {
        "id": "Vkxi1Qx3K6qZ"
      }
    },
    {
      "cell_type": "code",
      "source": [
        "# Cálculo das contagens de cada valor único na coluna \"review_score\"\n",
        "rating_counts = df['review_score'].value_counts().reset_index().sort_values('index').iloc[:,1].tolist()\n",
        "\n",
        "# Cálculo da proporção (%) de cada valor único na coluna 'review_score' em relação ao total de amostras.\n",
        "rating_p = round(df['review_score'].value_counts(normalize=True).reset_index()\n",
        "                 .sort_values('index').iloc[:,1] * 100, 1).apply(lambda x: '{} %'.format(x)).tolist()"
      ],
      "metadata": {
        "id": "v5AsXd7M9T90"
      },
      "execution_count": 75,
      "outputs": []
    },
    {
      "cell_type": "code",
      "source": [
        "# Plota o % de registros em cada Nota de Avaliação\n",
        "fig, ax = plt.subplots(figsize=(12,7))\n",
        "ax = sns.countplot(x=df['review_score'])\n",
        "plt.xticks(fontsize=12)\n",
        "plt.title('Distruição das Classes de Avaliação',fontsize=20)\n",
        "ax.set_ylabel('')\n",
        "ax.set_xlabel('Nota da Avaliação', size=15)\n",
        "for i, v in enumerate(rating_counts):\n",
        "    ax.text(i-0.2, v+400, rating_p[i], size=20)"
      ],
      "metadata": {
        "colab": {
          "base_uri": "https://localhost:8080/",
          "height": 572
        },
        "id": "uCs86UQPAs0F",
        "outputId": "3f248543-61af-4be7-eaf2-c9083a3dab7c"
      },
      "execution_count": 76,
      "outputs": [
        {
          "output_type": "display_data",
          "data": {
            "text/plain": [
              "<Figure size 1200x700 with 1 Axes>"
            ],
            "image/png": "[encoded data removed]"
          },
          "metadata": {}
        }
      ]
    },
    {
      "cell_type": "markdown",
      "source": [
        "O gráfico mostra a variação, desbalanceamento entre os registros. É preciso balancear."
      ],
      "metadata": {
        "id": "xG4TTbDQBLlH"
      }
    },
    {
      "cell_type": "markdown",
      "source": [
        "## 3.2.b. Balanceamento\n",
        "\n"
      ],
      "metadata": {
        "id": "AEMcuxb3LCwq"
      }
    },
    {
      "cell_type": "code",
      "source": [
        "# Avaliações Positivas\n",
        "pos = df[['review_comment_message', 'review_score']][df['review_score'] == 5]\n",
        "\n",
        "# Avaliações Negativas\n",
        "neg = df[['review_comment_message', 'review_score']][df['review_score'] <= 2]\n",
        "\n",
        "# Novo dataset a partir da combinação de \"pos\" e \"neg\"\n",
        "# Avaliações positivas (pontuação igual a 5) e avaliações negativas (pontuação menor ou igual a 2).\n",
        "\n",
        "df_balance = pd.concat([pos, neg])"
      ],
      "metadata": {
        "id": "IazzCm0-Ba7I"
      },
      "execution_count": 77,
      "outputs": []
    },
    {
      "cell_type": "code",
      "source": [
        "# Define um dicionário de mapeamento\n",
        "maping = {5: 'Positivo'\n",
        "         ,2: 'Negativo'\n",
        "         ,1: 'Negativo'}\n",
        "df_balance = df_balance.replace(maping)"
      ],
      "metadata": {
        "id": "1JBpy2RMB9J7"
      },
      "execution_count": 78,
      "outputs": []
    },
    {
      "cell_type": "code",
      "source": [
        "## Define a semente para a geração de números aleatórios\n",
        "np.random.seed(seed=100)\n",
        "\n",
        "# Amostragem aleatória sem reposição de 10.000 comentários de revisão positivos\n",
        "pos = np.random.choice(df_balance['review_comment_message']\n",
        "                      [df_balance['review_score'] == 'Positivo'], 10000, replace=False)\n",
        "\n",
        "# Amostragem aleatória sem reposição de 10.000 comentários de revisão negativos\n",
        "neg = np.random.choice(df_balance['review_comment_message']\n",
        "                      [df_balance['review_score'] == 'Negativo'], 10000, replace=False)\n",
        "\n",
        "# Amostra final concatenada\n",
        "amostra_final = np.concatenate([pos, neg])"
      ],
      "metadata": {
        "id": "h6jd9p0vFcL9"
      },
      "execution_count": 79,
      "outputs": []
    },
    {
      "cell_type": "code",
      "source": [
        "# Mantém apenas as linhas df_balance cujos comentários de revisão estão presentes\n",
        "# na mostra_final\n",
        "df_balance = df_balance[df_balance['review_comment_message'].isin(amostra_final)].reset_index(drop=True)\n",
        "\n",
        "# Embaralha aleatoriamente as linhas\n",
        "df_balance = df_balance.sample(frac=1).reset_index(drop=True)"
      ],
      "metadata": {
        "id": "sPFUduu2GlU1"
      },
      "execution_count": 80,
      "outputs": []
    },
    {
      "cell_type": "code",
      "source": [
        "# Plota o % de registros em cada Nota de Avaliação\n",
        "print(df_balance['review_score'].value_counts(normalize=True))\n",
        "print(\"\\n\", df_balance.shape)"
      ],
      "metadata": {
        "colab": {
          "base_uri": "https://localhost:8080/"
        },
        "id": "bgPIzcg2HqZL",
        "outputId": "8308802e-7a1f-435f-c9c1-3ecbb997d796"
      },
      "execution_count": 81,
      "outputs": [
        {
          "output_type": "stream",
          "name": "stdout",
          "text": [
            "Positivo    0.5\n",
            "Negativo    0.5\n",
            "Name: review_score, dtype: float64\n",
            "\n",
            " (20000, 2)\n"
          ]
        }
      ]
    },
    {
      "cell_type": "markdown",
      "source": [
        "Conforme definido, de cada conjunto foram selecionadas 20.000 amostras, resultando em um corpus igualmente distribuído com 50% de avaliações positivas e 50% de avaliações negativas."
      ],
      "metadata": {
        "id": "xLwXz0VRH9cN"
      }
    },
    {
      "cell_type": "markdown",
      "source": [
        "##3.3. Análise de Sentimentos"
      ],
      "metadata": {
        "id": "AMpeLe2KJ17N"
      }
    },
    {
      "cell_type": "markdown",
      "source": [
        "A análise de sentimentos é uma aplicação importante de Processamento de Linguagem Natural (PLN) que envolve identificar e extrair informações sobre as emoções e opiniões expressas em textos. O objetivo é determinar se o sentimento expresso em um determinado texto é positivo, negativo ou neutro."
      ],
      "metadata": {
        "id": "33Q1sQTTJ8mm"
      }
    },
    {
      "cell_type": "code",
      "source": [
        "# Carrega o modelo de processamento de linguagem natural (PLN)\n",
        "# para a língua portuguesa usando a biblioteca SpaCy.\n",
        "pln = spacy.load(\"pt_core_news_sm\")\n"
      ],
      "metadata": {
        "id": "YyJUI1OxKs-T"
      },
      "execution_count": 82,
      "outputs": []
    },
    {
      "cell_type": "code",
      "source": [
        "# Cria um objeto stemmer (extrator de radical) usando a biblioteca NLTK (Natural Language Toolkit).\n",
        "# O algoritmo de stemmer utilizado aqui é o RSLP (Removedor de Sufixos da Língua Portuguesa), que é\n",
        "# uma técnica usada para reduzir palavras à sua forma básica, eliminando os sufixos.\n",
        "# Isso é útil para agrupar diferentes formas flexionadas de uma palavra em um mesmo radical.\n",
        "stemmer = nltk.stem.RSLPStemmer()"
      ],
      "metadata": {
        "id": "Mm2ldcJ1KvMq"
      },
      "execution_count": 83,
      "outputs": []
    },
    {
      "cell_type": "markdown",
      "source": [
        "##3.3.a. Criando a classe para Processamento do Texto"
      ],
      "metadata": {
        "id": "saQYeQ7kPqAf"
      }
    },
    {
      "cell_type": "markdown",
      "source": [
        "Será criada uma classe que contém várias funções que podem ser utilizadas para realizar o pré-processamento de dados textuais, ou seja, preparar os textos para análise ou modelagem em tarefas de Processamento de Linguagem Natural (PLN)."
      ],
      "metadata": {
        "id": "pxD6W0O_QCr0"
      }
    },
    {
      "cell_type": "code",
      "source": [
        "class DataPrep:\n",
        "\n",
        "    def __init__(self): # Imprime que o objeto DataPrep está pronto.\n",
        "        print('DataPrep pronto!')\n",
        "\n",
        "    def remove_stopwords(self, texto): # Remove stopwords\n",
        "         # (palavras comuns sem relevância para a análise) e outras palavras predefinidas\n",
        "         # do texto fornecido como entrada.\n",
        "        stop_words = [word for word in pln.Defaults.stop_words]\n",
        "        texto_limpo = \" \".join([i for i in texto if i not in set(stop_words)])\n",
        "        return texto_limpo\n",
        "\n",
        "    def clean_text(self, texto): # Aplica a remoção de stopwords, caracteres não\n",
        "        #alfabéticos e outras palavras curtas do texto.\n",
        "        df_corpus = []\n",
        "        for i in range(len(texto)):\n",
        "            df_c = re.sub('[^A-Za-záàâãéèêíïóôõöúçñÁÀÂÃÉÈÍÏÓÔÕÖÚÇÑ]', ' ', texto[i]).lower().split()\n",
        "            df_corpus.append(df_c)\n",
        "        df_corpus= pd.Series(df_corpus).apply(lambda x: ' '.join([w for w in x if len(w)>2]))\n",
        "        corpus = [self.remove_stopwords(r.split()) for r in df_corpus]\n",
        "        return corpus\n",
        "\n",
        "    def lemmatization(self, texto): # Extrai o lema das palavras que é a forma básica ou raiz da palavra.\n",
        "        global pln\n",
        "        output = []\n",
        "        for sent in texto:\n",
        "            doc = pln(\" \".join(sent))\n",
        "            output.append([token.lemma_ for token in doc])\n",
        "        return output\n",
        "\n",
        "    def lemmatize(self, texto): # Aplica a limpeza do texto e a lematização\n",
        "        token = self.lemmatization(pd.Series(self.clean_text(texto)).apply(lambda x: x.split()))\n",
        "        token_lemma = []\n",
        "        for i in range(len(token)):\n",
        "            token_lemma.append(' '.join(token[i]))\n",
        "        return token_lemma\n",
        "\n",
        "    def list_freq(self, texto, terms=30): # Lista as palavras mais frequentes do texto.\n",
        "        all_words = ' '.join([text for text in texto])\n",
        "        all_words = all_words.split()\n",
        "        fdist = FreqDist(all_words)\n",
        "        words_df = pd.DataFrame({'word':list(fdist.keys()), 'count':list(fdist.values())})\n",
        "        d = words_df.nlargest(columns=\"count\", n=terms)\n",
        "        return d\n",
        "        print(d[:terms])\n",
        "\n",
        "    def steming(self, texto): # Extrai a raiz (stem) das palavras do texto usando o algoritmo RSLPStemmer do NLTK.\n",
        "        global stemmer\n",
        "        output_1 = []\n",
        "        for sent in texto:\n",
        "            doc = \" \".join(sent)\n",
        "            output_2 = []\n",
        "            for w in doc.split():\n",
        "                f = stemmer.stem(w)\n",
        "                output_2.append(f)\n",
        "            output_1.append(output_2)\n",
        "        return output_1\n",
        "\n",
        "    def stemize(self, texto): # Aplica o steming\n",
        "        token = self.steming(pd.Series(self.clean_text(texto)).apply(lambda x: x.split()))\n",
        "        token_lemma = []\n",
        "        for i in range(len(token)):\n",
        "            token_lemma.append(' '.join(token[i]))\n",
        "        return token_lemma\n",
        "\n",
        "    def rm_accents(self, texto) -> list: # Remove acentos e cedilha do texto usando a biblioteca unidecode.\n",
        "        fixed = list()\n",
        "        for linha in texto:\n",
        "            unidecoded_text = unidecode(linha)\n",
        "            fixed.append(unidecoded_text)\n",
        "        return fixed"
      ],
      "metadata": {
        "id": "nCnDgJ-uQMDm"
      },
      "execution_count": 84,
      "outputs": []
    },
    {
      "cell_type": "markdown",
      "source": [
        "##3.3.b. Pré Processamento do Corpus"
      ],
      "metadata": {
        "id": "wXj3ZMQNTIGJ"
      }
    },
    {
      "cell_type": "markdown",
      "source": [
        "A classe criada será usada para processar e pré-processar os dados do dataset df_balance."
      ],
      "metadata": {
        "id": "2JKcp70TTmTD"
      }
    },
    {
      "cell_type": "code",
      "source": [
        "dp = DataPrep()\n",
        "\n",
        "# Remove os acentos e cedilha dos textos na coluna 'review_comment_message' do df_balance.\n",
        "df_balance['review_comment_message'] = dp.rm_accents(df_balance['review_comment_message'])\n",
        "\n",
        "# Aplica a limpeza do texto e a lematização nos textos da coluna 'review_comment_message' do df_balance.\n",
        "corpus = dp.lemmatize(df_balance['review_comment_message'])"
      ],
      "metadata": {
        "colab": {
          "base_uri": "https://localhost:8080/"
        },
        "id": "Euy7IKEWTPBe",
        "outputId": "9cc640a8-3337-4706-d108-7cfdc92780f0"
      },
      "execution_count": 85,
      "outputs": [
        {
          "output_type": "stream",
          "name": "stdout",
          "text": [
            "DataPrep pronto!\n"
          ]
        }
      ]
    },
    {
      "cell_type": "markdown",
      "source": [
        "#4.Abordagens | Processamento de Linguagem Natural"
      ],
      "metadata": {
        "id": "aX3sia3sWmOg"
      }
    },
    {
      "cell_type": "markdown",
      "source": [
        "# 4.1. Bag of Words"
      ],
      "metadata": {
        "id": "H2bdA1KTWujy"
      }
    },
    {
      "cell_type": "markdown",
      "source": [
        "O Bag of Words é uma abordagem simples, porém eficiente, para lidar com dados de texto e é amplamente utilizado em várias tarefas de PLN, como classificação de texto, análise de sentimentos, recuperação de informações e muito mais. Embora ignore a estrutura e a semântica das frases, o Bag of Words oferece uma maneira útil de representar o conteúdo textual como um conjunto de vetores numéricos, que pode ser facilmente utilizado em algoritmos de aprendizado de máquina e outras análises estatísticas."
      ],
      "metadata": {
        "id": "53CEHernZvoa"
      }
    },
    {
      "cell_type": "markdown",
      "source": [
        "##4.1.a. Vetorização"
      ],
      "metadata": {
        "id": "hm0quat-b87Z"
      }
    },
    {
      "cell_type": "markdown",
      "source": [
        "O corpus será representado numericamento sob os seguintes parâmetros:\n",
        "- Uma palavra deve aparecer em pelo menos 2 documentos para ser incluída no vocabulário. (min_df=2)\n",
        "- Palavras que aparecem em mais de 75% dos documentos serão ignoradas. (max_df=0.75)\n",
        "- O vetorizador analisará os documentos por palavra. (analyzer='word')\n",
        "- Os acentos serão removidos dos documentos usando a codificação unicode. (strip_accents='unicode')\n",
        "-  O vetorizador usará o esquema de ponderação TF-IDF (Term Frequency-Inverse Document Frequency). O TF-IDF atribui pesos às palavras com base na frequência com que aparecem em um documento específico (TF) e na raridade da palavra em todo o corpus (IDF). (use_idf=True)\n",
        "- O intervalo de n-gramas a ser considerado durante a análise. Aqui, estamos configurando-o para (1,2), o que significa que serão considerados unigramas (palavras individuais) e bigramas (pares de palavras adjacentes). ngram_range=(1,2)\n",
        "- O número máximo de recursos (palavras) que serão considerados no vocabulário é definido em 10.000. (max_features=10000)"
      ],
      "metadata": {
        "id": "-sUDAeE0alW5"
      }
    },
    {
      "cell_type": "code",
      "source": [
        "# Transforma uma coleção de documentos de texto (corpus) em uma representação numérica.\n",
        "vectorizer = TfidfVectorizer(min_df=2, max_df=0.75, analyzer='word',\n",
        "                             strip_accents='unicode', use_idf=True,\n",
        "                             ngram_range=(1,2), max_features=10000)"
      ],
      "metadata": {
        "id": "mNKtmrlMaSQb"
      },
      "execution_count": 86,
      "outputs": []
    },
    {
      "cell_type": "code",
      "source": [
        "# Aplica o vetorizador ao corpus\n",
        "X = vectorizer.fit_transform(corpus).toarray()\n",
        "y = df_balance.loc[:,\"review_score\"].values\n",
        "\n",
        "print('X shape: ', X.shape, '\\ny shape: ', y.shape)"
      ],
      "metadata": {
        "colab": {
          "base_uri": "https://localhost:8080/"
        },
        "id": "39OtFrytcIQf",
        "outputId": "db27188a-b8dc-455d-b866-a79b45c4aeb9"
      },
      "execution_count": 87,
      "outputs": [
        {
          "output_type": "stream",
          "name": "stdout",
          "text": [
            "X shape:  (20000, 10000) \n",
            "y shape:  (20000,)\n"
          ]
        }
      ]
    },
    {
      "cell_type": "markdown",
      "source": [
        "##4.1.b. N-Gram"
      ],
      "metadata": {
        "id": "0J0LL2-Acb_h"
      }
    },
    {
      "cell_type": "markdown",
      "source": [
        "N-gram é uma sequência contígua de n itens (palavras, caracteres ou outras unidades) em um determinado texto ou sentença. Os n-grams são amplamente utilizados em processamento de linguagem natural (PLN) e linguística computacional como uma técnica fundamental para modelagem de linguagem e análise de texto."
      ],
      "metadata": {
        "id": "3W_VZvsjc3ho"
      }
    },
    {
      "cell_type": "code",
      "source": [
        "# Lista os nomes das características (ou \"features\") e\n",
        "# particionanos os primeiros 20 elementos da lista\n",
        "feature_names = vectorizer.get_feature_names_out()\n",
        "feature_names[:20]"
      ],
      "metadata": {
        "colab": {
          "base_uri": "https://localhost:8080/"
        },
        "id": "ifja5ziojeBZ",
        "outputId": "ffc36d8d-574f-4109-b28a-a80bcbb78b4a"
      },
      "execution_count": 88,
      "outputs": [
        {
          "output_type": "execute_result",
          "data": {
            "text/plain": [
              "array(['abaixo', 'abaixo esperar', 'abajur', 'abencoe', 'abertura',\n",
              "       'aborrecir', 'abraco', 'abri', 'abri caixo', 'abri chamar',\n",
              "       'abri embalagem', 'abri pacote', 'abri reclamacao',\n",
              "       'abri solicitacao', 'abril', 'abrir', 'abrir caixa',\n",
              "       'abrir chamar', 'abrir embalagem', 'abrir nao'], dtype=object)"
            ]
          },
          "metadata": {},
          "execution_count": 88
        }
      ]
    },
    {
      "cell_type": "markdown",
      "source": [
        "##4.2. Multinomial Naive Bayes\n"
      ],
      "metadata": {
        "id": "hWbDsPrfZgc0"
      }
    },
    {
      "cell_type": "markdown",
      "source": [
        "O Multinomial Naive Bayes é popular para classificação de texto, especialmente em tarefas como análise de sentimentos, classificação de documentos, categorização de notícias, entre outras. Apesar de suas suposições simplificadoras, ele pode fornecer resultados surpreendentemente bons em muitos cenários e é relativamente eficiente em termos de tempo de treinamento e classificação. No entanto, é importante observar que o desempenho do algoritmo pode depender da qualidade e tamanho dos dados de treinamento, bem como da representação das palavras usada no processo de vetorização do texto."
      ],
      "metadata": {
        "id": "6Uj6gL0pZ7zZ"
      }
    },
    {
      "cell_type": "markdown",
      "source": [
        "##4.2.a. Base de Treino e Base de Teste"
      ],
      "metadata": {
        "id": "02lZeUsw9-vt"
      }
    },
    {
      "cell_type": "markdown",
      "source": [
        "Teste e treinamento de modelos fazem parte de uma técnica comum na ciência de dados e na aprendizagem de máquina. Envolve a divisão dos dados em dois conjuntos distintos: um conjunto de treinamento e um conjunto de teste. O conjunto de treinamento é usado para ajustar os parâmetros do modelo. O conjunto de teste é usado para avaliar a capacidade do modelo de generalizar, ou seja, sua capacidade de fazer previsões precisas em dados que não foram usados no treinamento."
      ],
      "metadata": {
        "id": "JLsNdcr5-PxM"
      }
    },
    {
      "cell_type": "code",
      "source": [
        "## A função train_test_split da biblioteca scikit-learn é usada para dividir os\n",
        "## dados em conjuntos de treinamento e teste. E é composta dos seguintes elementos:\n",
        "\n",
        "# X e Y são as variáveis de entrada e a variável alvo, respectivamente.\n",
        "# test_size=0.2 especifica que 20% dos dados serão usados para teste e 80% para treinamento.\n",
        "# random_state=42 define a semente aleatória como 20, garantindo que a divisão dos dados\n",
        "# seja a mesma toda vez que o código for executado. Isso é útil para reprodutibilidade.\n",
        "\n",
        "# A função retornará quatro conjuntos de dados:\n",
        "\n",
        "# X_train: O conjunto de treinamento de características, que conterá 80% dos dados originais.\n",
        "# X_test: O conjunto de teste de características, que conterá 20% dos dados originais.\n",
        "# y_train: A variável alvo do conjunto de treinamento, correspondente às características de X_train.\n",
        "# y_test: A variável alvo do conjunto de teste, correspondente às características de X_test.\n",
        "\n",
        "X_train, X_test, y_train, y_test = train_test_split(X, y, test_size=0.2, random_state=42)\n",
        "print('treino:', len(y_train))\n",
        "print('teste:', len(y_test))"
      ],
      "metadata": {
        "colab": {
          "base_uri": "https://localhost:8080/"
        },
        "id": "_BMmRYAz99pe",
        "outputId": "815a7818-a97b-4737-caa6-b51a56da7f19"
      },
      "execution_count": 89,
      "outputs": [
        {
          "output_type": "stream",
          "name": "stdout",
          "text": [
            "treino: 16000\n",
            "teste: 4000\n"
          ]
        }
      ]
    },
    {
      "cell_type": "code",
      "source": [
        "# Definindo o Modelo de Naive Bayes\n",
        "classifier_nb = MultinomialNB()\n",
        "classifier_nb.fit(X_train, y_train)"
      ],
      "metadata": {
        "colab": {
          "base_uri": "https://localhost:8080/",
          "height": 75
        },
        "id": "P_sqnhGI-5Qg",
        "outputId": "e17d7fc2-8f37-4c17-e958-b767bac10310"
      },
      "execution_count": 90,
      "outputs": [
        {
          "output_type": "execute_result",
          "data": {
            "text/plain": [
              "MultinomialNB()"
            ],
            "text/html": [
              "<style>#sk-container-id-8 {color: black;background-color: white;}#sk-container-id-8 pre{padding: 0;}#sk-container-id-8 div.sk-toggleable {background-color: white;}#sk-container-id-8 label.sk-toggleable__label {cursor: pointer;display: block;width: 100%;margin-bottom: 0;padding: 0.3em;box-sizing: border-box;text-align: center;}#sk-container-id-8 label.sk-toggleable__label-arrow:before {content: \"▸\";float: left;margin-right: 0.25em;color: #696969;}#sk-container-id-8 label.sk-toggleable__label-arrow:hover:before {color: black;}#sk-container-id-8 div.sk-estimator:hover label.sk-toggleable__label-arrow:before {color: black;}#sk-container-id-8 div.sk-toggleable__content {max-height: 0;max-width: 0;overflow: hidden;text-align: left;background-color: #f0f8ff;}#sk-container-id-8 div.sk-toggleable__content pre {margin: 0.2em;color: black;border-radius: 0.25em;background-color: #f0f8ff;}#sk-container-id-8 input.sk-toggleable__control:checked~div.sk-toggleable__content {max-height: 200px;max-width: 100%;overflow: auto;}#sk-container-id-8 input.sk-toggleable__control:checked~label.sk-toggleable__label-arrow:before {content: \"▾\";}#sk-container-id-8 div.sk-estimator input.sk-toggleable__control:checked~label.sk-toggleable__label {background-color: #d4ebff;}#sk-container-id-8 div.sk-label input.sk-toggleable__control:checked~label.sk-toggleable__label {background-color: #d4ebff;}#sk-container-id-8 input.sk-hidden--visually {border: 0;clip: rect(1px 1px 1px 1px);clip: rect(1px, 1px, 1px, 1px);height: 1px;margin: -1px;overflow: hidden;padding: 0;position: absolute;width: 1px;}#sk-container-id-8 div.sk-estimator {font-family: monospace;background-color: #f0f8ff;border: 1px dotted black;border-radius: 0.25em;box-sizing: border-box;margin-bottom: 0.5em;}#sk-container-id-8 div.sk-estimator:hover {background-color: #d4ebff;}#sk-container-id-8 div.sk-parallel-item::after {content: \"\";width: 100%;border-bottom: 1px solid gray;flex-grow: 1;}#sk-container-id-8 div.sk-label:hover label.sk-toggleable__label {background-color: #d4ebff;}#sk-container-id-8 div.sk-serial::before {content: \"\";position: absolute;border-left: 1px solid gray;box-sizing: border-box;top: 0;bottom: 0;left: 50%;z-index: 0;}#sk-container-id-8 div.sk-serial {display: flex;flex-direction: column;align-items: center;background-color: white;padding-right: 0.2em;padding-left: 0.2em;position: relative;}#sk-container-id-8 div.sk-item {position: relative;z-index: 1;}#sk-container-id-8 div.sk-parallel {display: flex;align-items: stretch;justify-content: center;background-color: white;position: relative;}#sk-container-id-8 div.sk-item::before, #sk-container-id-8 div.sk-parallel-item::before {content: \"\";position: absolute;border-left: 1px solid gray;box-sizing: border-box;top: 0;bottom: 0;left: 50%;z-index: -1;}#sk-container-id-8 div.sk-parallel-item {display: flex;flex-direction: column;z-index: 1;position: relative;background-color: white;}#sk-container-id-8 div.sk-parallel-item:first-child::after {align-self: flex-end;width: 50%;}#sk-container-id-8 div.sk-parallel-item:last-child::after {align-self: flex-start;width: 50%;}#sk-container-id-8 div.sk-parallel-item:only-child::after {width: 0;}#sk-container-id-8 div.sk-dashed-wrapped {border: 1px dashed gray;margin: 0 0.4em 0.5em 0.4em;box-sizing: border-box;padding-bottom: 0.4em;background-color: white;}#sk-container-id-8 div.sk-label label {font-family: monospace;font-weight: bold;display: inline-block;line-height: 1.2em;}#sk-container-id-8 div.sk-label-container {text-align: center;}#sk-container-id-8 div.sk-container {/* jupyter's `normalize.less` sets `[hidden] { display: none; }` but bootstrap.min.css set `[hidden] { display: none !important; }` so we also need the `!important` here to be able to override the default hidden behavior on the sphinx rendered scikit-learn.org. See: https://github.com/scikit-learn/scikit-learn/issues/21755 */display: inline-block !important;position: relative;}#sk-container-id-8 div.sk-text-repr-fallback {display: none;}</style><div id=\"sk-container-id-8\" class=\"sk-top-container\"><div class=\"sk-text-repr-fallback\"><pre>MultinomialNB()</pre><b>In a Jupyter environment, please rerun this cell to show the HTML representation or trust the notebook. <br />On GitHub, the HTML representation is unable to render, please try loading this page with nbviewer.org.</b></div><div class=\"sk-container\" hidden><div class=\"sk-item\"><div class=\"sk-estimator sk-toggleable\"><input class=\"sk-toggleable__control sk-hidden--visually\" id=\"sk-estimator-id-12\" type=\"checkbox\" checked><label for=\"sk-estimator-id-12\" class=\"sk-toggleable__label sk-toggleable__label-arrow\">MultinomialNB</label><div class=\"sk-toggleable__content\"><pre>MultinomialNB()</pre></div></div></div></div></div>"
            ]
          },
          "metadata": {},
          "execution_count": 90
        }
      ]
    },
    {
      "cell_type": "code",
      "source": [
        "# Usando o Modelo de Naive Bayes para fazer previsões nos dados de teste X_test\n",
        "y_pred = classifier_nb.predict(X_test)\n",
        "y_pred_prob = classifier_nb.predict_proba(X_test)"
      ],
      "metadata": {
        "id": "evuTRRSx_NKM"
      },
      "execution_count": 91,
      "outputs": []
    },
    {
      "cell_type": "markdown",
      "source": [
        "##4.2.b. Avaliando o Modelo"
      ],
      "metadata": {
        "id": "8ChFTGMDAl4B"
      }
    },
    {
      "cell_type": "markdown",
      "source": [
        "###Acurácia"
      ],
      "metadata": {
        "id": "RoTdx80IAsNr"
      }
    },
    {
      "cell_type": "markdown",
      "source": [
        "A acurácia é uma das métricas mais simples e comuns usadas para avaliar o desempenho de um modelo de machine learning em problemas de classificação. Ela representa a proporção de previsões corretas que o modelo fez em relação ao total de previsões."
      ],
      "metadata": {
        "id": "FXSlQLwxBErP"
      }
    },
    {
      "cell_type": "code",
      "source": [
        "# Acurácia do Modelo de Naive Bayes\n",
        "print('Acurácia de: ', \"{0:.1f}\".format(accuracy_score(y_test, y_pred)*100),'%')"
      ],
      "metadata": {
        "colab": {
          "base_uri": "https://localhost:8080/"
        },
        "id": "bvCDjRwr_rSa",
        "outputId": "daa0da67-6cbb-4797-d59a-b4bf0e26cd89"
      },
      "execution_count": 92,
      "outputs": [
        {
          "output_type": "stream",
          "name": "stdout",
          "text": [
            "Acurácia de:  92.7 %\n"
          ]
        }
      ]
    },
    {
      "cell_type": "markdown",
      "source": [
        "###Matriz de Confusão"
      ],
      "metadata": {
        "id": "SGaVoXvoAHBF"
      }
    },
    {
      "cell_type": "markdown",
      "source": [
        "A matriz de confusão é uma tabela que permite avaliar o desempenho de um modelo de classificação. É especialmente útil quando se tem um conjunto de dados com rótulos conhecidos (verdadeiros) e as previsões feitas pelo modelo (predições). Ela mostra a frequência com que as previsões do modelo correspondem aos rótulos reais.\n",
        "Da matriz de Confusão se extrais:\n",
        "\n",
        "* Sensibilidade: Mede a proporção de exemplos positivos corretamente identificados pelo modelo em relação ao número total de exemplos positivos reais.\n",
        "Sensibilidade = VP / (VP + FN)\n",
        "\n",
        "* Especificidade: Mede a proporção de exemplos negativos corretamente identificados pelo modelo em relação ao número total de exemplos negativos reais. Especificidde = VN / (Vn +VP)"
      ],
      "metadata": {
        "id": "YUqJZm_DBAIc"
      }
    },
    {
      "cell_type": "code",
      "source": [
        "# Matriz de Confusão do Modelo de Naive Bayes\n",
        "matriz = confusion_matrix(y_test, y_pred, labels=['Positivo', 'Negativo'])"
      ],
      "metadata": {
        "id": "NXqbGhexACkV"
      },
      "execution_count": 93,
      "outputs": []
    },
    {
      "cell_type": "code",
      "source": [
        "# Imprime a Matriz de Confusão\n",
        "\n",
        "fig, ax = plt.subplots(figsize=(7,6))\n",
        "sns.heatmap(matriz, annot=True, ax=ax, fmt='.0f')\n",
        "\n",
        "ax.set_xlabel('Rótulos Previstos')\n",
        "ax.set_ylabel('Rótulos Reais')\n",
        "ax.set_title('Matriz de Confusão')\n",
        "ax.xaxis.set_ticklabels(['Positivo', 'Negativo'])\n",
        "ax.yaxis.set_ticklabels(['Positivo', 'Negativo']);\n",
        "plt.show()\n",
        "\n",
        "sens = matriz[0,0] / (matriz[0,0] + matriz[1,0])\n",
        "esp = matriz[1,1] / (matriz[0,1] + matriz[1,1])\n",
        "\n",
        "print('Sensibilidade: ', round(sens,2))\n",
        "print('Especificidade: ', round(esp,2))\n"
      ],
      "metadata": {
        "colab": {
          "base_uri": "https://localhost:8080/",
          "height": 640
        },
        "id": "MjRKpF0SBZ5p",
        "outputId": "3a77dac3-fe14-429f-9505-436e01728c54"
      },
      "execution_count": 94,
      "outputs": [
        {
          "output_type": "display_data",
          "data": {
            "text/plain": [
              "<Figure size 700x600 with 2 Axes>"
            ],
            "image/png": "[encoded data removed]"
          },
          "metadata": {}
        },
        {
          "output_type": "stream",
          "name": "stdout",
          "text": [
            "Sensibilidade:  0.95\n",
            "Especificidade:  0.9\n"
          ]
        }
      ]
    },
    {
      "cell_type": "markdown",
      "source": [
        "###Naive Bayes | Treinamento"
      ],
      "metadata": {
        "id": "qchOno7YSCmJ"
      }
    },
    {
      "cell_type": "code",
      "source": [
        "# Define a semente para o gerador de números pseudoaleatórios.\n",
        "random.seed(5)"
      ],
      "metadata": {
        "id": "oTDCwS9QDl6Q"
      },
      "execution_count": 95,
      "outputs": []
    },
    {
      "cell_type": "code",
      "source": [
        "# Testa a entrada no Modelo\n",
        "testes = list()\n",
        "for i in range(5):\n",
        "    testes.append(random.choice(df_balance['review_comment_message']))"
      ],
      "metadata": {
        "id": "PpGE8YT8Dyl3"
      },
      "execution_count": 96,
      "outputs": []
    },
    {
      "cell_type": "code",
      "source": [
        "# Preparação dos Resultados\n",
        "dp = DataPrep()\n",
        "testes = dp.rm_accents(testes)\n",
        "corpus_2 = dp.lemmatize(testes)"
      ],
      "metadata": {
        "colab": {
          "base_uri": "https://localhost:8080/"
        },
        "id": "zXGavPLJETEB",
        "outputId": "310451d9-c5a0-4dd1-8454-c078d5ef2644"
      },
      "execution_count": 97,
      "outputs": [
        {
          "output_type": "stream",
          "name": "stdout",
          "text": [
            "DataPrep pronto!\n"
          ]
        }
      ]
    },
    {
      "cell_type": "code",
      "source": [
        "#Imprime os Resultados da Classificação Prevista\n",
        "\n",
        "print(\"\\nClassificação Prevista:\")\n",
        "testes_transform = vectorizer.transform(corpus_2)\n",
        "for i in range(len(testes)):\n",
        "    print(\"{} {:-<16} {}\".format([i+1], classifier_nb.predict(testes_transform)[i], testes[i]))"
      ],
      "metadata": {
        "colab": {
          "base_uri": "https://localhost:8080/"
        },
        "id": "cBIxM2LNEclX",
        "outputId": "4ef14b3f-a038-4673-9930-bb9f89c3005d"
      },
      "execution_count": 98,
      "outputs": [
        {
          "output_type": "stream",
          "name": "stdout",
          "text": [
            "\n",
            "Classificação Prevista:\n",
            "[1] Negativo-------- ja esta com quase um mes que fiz o pedido e o produto ainda nao chegou.\n",
            "[2] Positivo-------- Foi uma otima compra.\n",
            "[3] Positivo-------- Produto perfeito\r\n",
            "Chegou bem antes do prazo\r\n",
            "Superou minhas expectativas.\r\n",
            "Estao de parabens.\n",
            "[4] Positivo-------- Produto entregue no prazo e de excelente qualidade. Para quem dorme de lado, o correto e esse travesseiro, para quem dorme de barriga para cima, o correto e um travesseiro um pouco mais baixo. \n",
            "[5] Negativo-------- Produto muito fraco \n"
          ]
        }
      ]
    },
    {
      "cell_type": "code",
      "source": [
        "# Imprime as Probabilidades\n",
        "\n",
        "testes_transform = vectorizer.transform(corpus_2)\n",
        "for i in range(len(testes)):\n",
        "    print(\"{} {:-<16} {}\".format([i+1], str([round(x,2)\n",
        "          for x in classifier_nb.predict_proba(testes_transform)[i].tolist()]), testes[i]))"
      ],
      "metadata": {
        "colab": {
          "base_uri": "https://localhost:8080/"
        },
        "id": "QhTVTuytFJTq",
        "outputId": "bf4074d9-b406-4b0d-8f81-3467af7e5e91"
      },
      "execution_count": 99,
      "outputs": [
        {
          "output_type": "stream",
          "name": "stdout",
          "text": [
            "[1] [1.0, 0.0]------ ja esta com quase um mes que fiz o pedido e o produto ainda nao chegou.\n",
            "[2] [0.02, 0.98]---- Foi uma otima compra.\n",
            "[3] [0.0, 1.0]------ Produto perfeito\r\n",
            "Chegou bem antes do prazo\r\n",
            "Superou minhas expectativas.\r\n",
            "Estao de parabens.\n",
            "[4] [0.02, 0.98]---- Produto entregue no prazo e de excelente qualidade. Para quem dorme de lado, o correto e esse travesseiro, para quem dorme de barriga para cima, o correto e um travesseiro um pouco mais baixo. \n",
            "[5] [0.82, 0.18]---- Produto muito fraco \n"
          ]
        }
      ]
    },
    {
      "cell_type": "markdown",
      "source": [
        "O modelo de classificação multinomial Naive Bayes foi treinado sobre uma matriz de 20.000 linhas (sentenças) e 10.000 colunas (termos n-grama), com seleção de 20% dos dados para teste e demonstrou um desempenho extremamente satisfatório, com acurácia igual a 92,7%, sensibilidade de 95% e especificidade de 90%."
      ],
      "metadata": {
        "id": "McQrYi-TFotq"
      }
    },
    {
      "cell_type": "markdown",
      "source": [
        "É possível identificar que pelo conteúdo dos comentários, a entrega e a qualidade do produto estão entre os tópicos analisados."
      ],
      "metadata": {
        "id": "E8V6HxpzWOLs"
      }
    },
    {
      "cell_type": "markdown",
      "source": [
        "##4.3. Word2Vec"
      ],
      "metadata": {
        "id": "GEQ0dbsyH7EY"
      }
    },
    {
      "cell_type": "markdown",
      "source": [
        "Word2Vec é uma técnica popular e eficiente de aprendizado de representações de palavras em linguagem natural, desenvolvida por Tomas Mikolov et al. na Google em 2013. O objetivo do Word2Vec é mapear palavras de um vocabulário para vetores densos de números reais em um espaço de representação semântica."
      ],
      "metadata": {
        "id": "KqvvXFEnH6iq"
      }
    },
    {
      "cell_type": "code",
      "source": [
        "# Processando o Corpus\n",
        "sent = [line.split() for line in corpus]\n",
        "phrases = Phrases(sent, min_count=1, threshold=2, progress_per=1000)\n",
        "bigram = Phraser(phrases)\n",
        "sentences = bigram[sent]"
      ],
      "metadata": {
        "id": "stwZdqzPIoYW"
      },
      "execution_count": 100,
      "outputs": []
    },
    {
      "cell_type": "markdown",
      "source": [
        "####Construção do Modelo"
      ],
      "metadata": {
        "id": "hl9tsnaaNOUq"
      }
    },
    {
      "cell_type": "code",
      "source": [
        "# Construção do o Modelo Word2Vec\n",
        "word2vec = Word2Vec(min_count=20\n",
        "                    ,window=3\n",
        "                    ,sg=0\n",
        "                    ,vector_size=100\n",
        "                    ,sample=6e-5\n",
        "                    ,alpha=0.03\n",
        "                    ,min_alpha=0.0007\n",
        "                    ,negative=20\n",
        "                    ,workers=7\n",
        "                    ,seed=42)"
      ],
      "metadata": {
        "id": "FxMW2eSpIoUM"
      },
      "execution_count": 101,
      "outputs": []
    },
    {
      "cell_type": "code",
      "source": [
        "#Construção o Vocabuláro do Modelo Word2Vec\n",
        "word2vec.build_vocab(sentences, progress_per=100)"
      ],
      "metadata": {
        "id": "LBGWY8yaJib-"
      },
      "execution_count": 102,
      "outputs": []
    },
    {
      "cell_type": "markdown",
      "source": [
        "####Word2Vec | Treinamento"
      ],
      "metadata": {
        "id": "oS6P8FtNNj-Z"
      }
    },
    {
      "cell_type": "code",
      "source": [
        "# Treinamento do Modelo  Word2vec\n",
        "word2vec.train(sentences, total_examples=word2vec.corpus_count, epochs=30, report_delay=1)"
      ],
      "metadata": {
        "colab": {
          "base_uri": "https://localhost:8080/"
        },
        "id": "n9u-1TSjKgPp",
        "outputId": "13cf45c9-696c-4cf0-fa15-f5523cf49691"
      },
      "execution_count": 103,
      "outputs": [
        {
          "output_type": "execute_result",
          "data": {
            "text/plain": [
              "(479140, 3471780)"
            ]
          },
          "metadata": {},
          "execution_count": 103
        }
      ]
    },
    {
      "cell_type": "markdown",
      "source": [
        "####Word2Vec | Pós Processamento do Modelo"
      ],
      "metadata": {
        "id": "-xb5zTx1NecH"
      }
    },
    {
      "cell_type": "code",
      "source": [
        "# Pós processamento do Modelo Word2Vec\n",
        "word2vec.init_sims(replace=True)\n",
        "print(\"O modelo tem %d termos\" % len(word2vec.wv.key_to_index))"
      ],
      "metadata": {
        "colab": {
          "base_uri": "https://localhost:8080/"
        },
        "id": "IokCNcW6LNy9",
        "outputId": "db369dd1-f88e-438d-c409-ac97d3f764ef"
      },
      "execution_count": 104,
      "outputs": [
        {
          "output_type": "stream",
          "name": "stderr",
          "text": [
            "WARNING:gensim.models.keyedvectors:destructive init_sims(replace=True) deprecated & no longer required for space-efficiency\n"
          ]
        },
        {
          "output_type": "stream",
          "name": "stdout",
          "text": [
            "O modelo tem 700 termos\n"
          ]
        }
      ]
    },
    {
      "cell_type": "code",
      "source": [
        "# Seleciona termos similares para \"Recomendar\"\n",
        "word2vec.wv.most_similar(positive=[\"recomendar\"])"
      ],
      "metadata": {
        "colab": {
          "base_uri": "https://localhost:8080/"
        },
        "id": "9Q9S9VP-MEhg",
        "outputId": "b598cda7-8760-45fe-a55d-c1b119c6d617"
      },
      "execution_count": 105,
      "outputs": [
        {
          "output_type": "execute_result",
          "data": {
            "text/plain": [
              "[('certo', 0.9988940954208374),\n",
              " ('atender_necessidade', 0.9988715648651123),\n",
              " ('avaria', 0.9988680481910706),\n",
              " ('excelente_qualidade', 0.9988556504249573),\n",
              " ('conforme_esperar', 0.99885094165802),\n",
              " ('tambem', 0.99884033203125),\n",
              " ('indico', 0.9988355040550232),\n",
              " ('pontualidade', 0.9988200068473816),\n",
              " ('chegar_perfeito', 0.9988149404525757),\n",
              " ('otimos', 0.9988137483596802)]"
            ]
          },
          "metadata": {},
          "execution_count": 105
        }
      ]
    },
    {
      "cell_type": "code",
      "source": [
        "# Mostra similaridade entre termos \"comprar\" e \"atrasar\"\n",
        "word2vec.wv.similarity(\"comprar\", 'atrasar')"
      ],
      "metadata": {
        "colab": {
          "base_uri": "https://localhost:8080/"
        },
        "id": "3InKWny9MSt1",
        "outputId": "48ddba1e-1d65-4dee-b3be-681946f52baa"
      },
      "execution_count": 106,
      "outputs": [
        {
          "output_type": "execute_result",
          "data": {
            "text/plain": [
              "0.9980103"
            ]
          },
          "metadata": {},
          "execution_count": 106
        }
      ]
    },
    {
      "cell_type": "markdown",
      "source": [
        "Mais uma vez mostra-se a alta relação dos comentários comentrega e a qualidade do produto."
      ],
      "metadata": {
        "id": "8tygHOYBWg3s"
      }
    },
    {
      "cell_type": "markdown",
      "source": [
        "#7.Conclusão"
      ],
      "metadata": {
        "id": "687n2UDUSo6W"
      }
    },
    {
      "cell_type": "markdown",
      "source": [
        "---\n",
        "\n",
        "A Análise das avaliações dos comentários no site compras mostrou que a qualidade do produto e a entrega foram os assuntos mais abordados positiva e negativamente.\n",
        "Isso mostra o perfil clássico do consumidor que fica satisfeito com compras de produtos de qualidade e entregues no prazo e se qualifica como insatisfeito quando recebe um produto fora do esperado e com atraso."
      ],
      "metadata": {
        "id": "As7swkVyTJFx"
      }
    }
  ]
}